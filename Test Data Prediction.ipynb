{
 "cells": [
  {
   "cell_type": "code",
   "execution_count": 1,
   "metadata": {},
   "outputs": [],
   "source": [
    "import pandas as pd\n",
    "import numpy as np\n",
    "\n",
    "from sklearn.model_selection import train_test_split, GridSearchCV, RandomizedSearchCV\n",
    "from sklearn.metrics import mean_squared_error\n",
    "from sklearn.feature_selection import SelectKBest, f_classif\n",
    "\n",
    "from sklearn import linear_model\n",
    "from sklearn.ensemble import RandomForestRegressor\n",
    "from sklearn import mixture\n",
    "from sklearn.neural_network import MLPRegressor\n",
    "from sklearn import ensemble"
   ]
  },
  {
   "cell_type": "code",
   "execution_count": 2,
   "metadata": {},
   "outputs": [],
   "source": [
    "df = pd.read_csv(\"data/train.csv\")"
   ]
  },
  {
   "cell_type": "code",
   "execution_count": 3,
   "metadata": {},
   "outputs": [],
   "source": [
    "views = df[\"#views\"].to_numpy()"
   ]
  },
  {
   "cell_type": "code",
   "execution_count": 4,
   "metadata": {},
   "outputs": [
    {
     "data": {
      "text/plain": [
       "array([2403572., 1421234., 1460690., ..., 1545014.,  244363., 1662561.])"
      ]
     },
     "execution_count": 4,
     "metadata": {},
     "output_type": "execute_result"
    }
   ],
   "source": [
    "views"
   ]
  },
  {
   "cell_type": "code",
   "execution_count": 5,
   "metadata": {},
   "outputs": [],
   "source": [
    "import matplotlib.pyplot as plt"
   ]
  },
  {
   "cell_type": "code",
   "execution_count": 10,
   "metadata": {},
   "outputs": [
    {
     "data": {
      "image/png": "[encoded data removed]",
      "text/plain": [
       "<Figure size 432x288 with 1 Axes>"
      ]
     },
     "metadata": {
      "needs_background": "light"
     },
     "output_type": "display_data"
    }
   ],
   "source": [
    "plt.hist(views, bins=6)\n",
    "plt.show()"
   ]
  },
  {
   "cell_type": "code",
   "execution_count": 38,
   "metadata": {},
   "outputs": [],
   "source": [
    "df_testing = pd.read_csv(\"data/test_without_truth.csv\")\n",
    "df_training = pd.read_csv(\"data/all_features.csv\")"
   ]
  },
  {
   "cell_type": "markdown",
   "metadata": {},
   "source": [
    "## Data Analysis"
   ]
  },
  {
   "cell_type": "code",
   "execution_count": 9,
   "metadata": {},
   "outputs": [
    {
     "name": "stdout",
     "output_type": "stream",
     "text": [
      "<class 'pandas.core.frame.DataFrame'>\n",
      "RangeIndex: 359274 entries, 0 to 359273\n",
      "Data columns (total 42 columns):\n",
      "Unnamed: 0               359274 non-null int64\n",
      "Unnamed: 0.1             359274 non-null int64\n",
      "post_id                  359274 non-null int64\n",
      "user_id                  359274 non-null int64\n",
      "country                  359274 non-null int64\n",
      "category                 359274 non-null object\n",
      "#views                   359274 non-null float64\n",
      "#comments                359274 non-null float64\n",
      "#likes                   359274 non-null int64\n",
      "norm_views               359274 non-null float64\n",
      "norm_comments            359274 non-null float64\n",
      "norm_likes               359274 non-null float64\n",
      "cat1                     359274 non-null float64\n",
      "cat2                     359274 non-null float64\n",
      "cat3                     359274 non-null float64\n",
      "cat4                     359274 non-null float64\n",
      "cat5                     359274 non-null float64\n",
      "cat6                     359274 non-null float64\n",
      "cat7                     359274 non-null float64\n",
      "cat8                     359274 non-null float64\n",
      "cat9                     359274 non-null float64\n",
      "count1                   359274 non-null float64\n",
      "count2                   359274 non-null float64\n",
      "count3                   359274 non-null float64\n",
      "count4                   359274 non-null float64\n",
      "count5                   359274 non-null float64\n",
      "count6                   359274 non-null float64\n",
      "count7                   359274 non-null float64\n",
      "count8                   359274 non-null float64\n",
      "count9                   359274 non-null float64\n",
      "count10                  359274 non-null float64\n",
      "count11                  359274 non-null float64\n",
      "count12                  359274 non-null float64\n",
      "count13                  359274 non-null float64\n",
      "count14                  359274 non-null float64\n",
      "count15                  359274 non-null float64\n",
      "user_avg_views           359274 non-null float64\n",
      "user_avg_comments        359274 non-null float64\n",
      "country_avg_views        359274 non-null float64\n",
      "country_avg_comments     359274 non-null float64\n",
      "category_avg_views       359274 non-null float64\n",
      "category_avg_comments    359274 non-null float64\n",
      "dtypes: float64(35), int64(6), object(1)\n",
      "memory usage: 115.1+ MB\n"
     ]
    }
   ],
   "source": [
    "df_training.info()"
   ]
  },
  {
   "cell_type": "code",
   "execution_count": 3,
   "metadata": {},
   "outputs": [
    {
     "name": "stdout",
     "output_type": "stream",
     "text": [
      "<class 'pandas.core.frame.DataFrame'>\n",
      "RangeIndex: 158541 entries, 0 to 158540\n",
      "Data columns (total 6 columns):\n",
      "post_id      158541 non-null int64\n",
      "user_id      158541 non-null int64\n",
      "country      158541 non-null int64\n",
      "category     158541 non-null object\n",
      "#views       158527 non-null float64\n",
      "#comments    153990 non-null float64\n",
      "dtypes: float64(2), int64(3), object(1)\n",
      "memory usage: 7.3+ MB\n"
     ]
    }
   ],
   "source": [
    "df_testing.info()"
   ]
  },
  {
   "cell_type": "code",
   "execution_count": 39,
   "metadata": {},
   "outputs": [
    {
     "data": {
      "text/plain": [
       "post_id         0\n",
       "user_id         0\n",
       "country         0\n",
       "category        0\n",
       "#views         14\n",
       "#comments    4551\n",
       "dtype: int64"
      ]
     },
     "execution_count": 39,
     "metadata": {},
     "output_type": "execute_result"
    }
   ],
   "source": [
    "df_testing.isna().sum()"
   ]
  },
  {
   "cell_type": "code",
   "execution_count": 4,
   "metadata": {},
   "outputs": [
    {
     "data": {
      "text/html": [
       "<div>\n",
       "<style scoped>\n",
       "    .dataframe tbody tr th:only-of-type {\n",
       "        vertical-align: middle;\n",
       "    }\n",
       "\n",
       "    .dataframe tbody tr th {\n",
       "        vertical-align: top;\n",
       "    }\n",
       "\n",
       "    .dataframe thead th {\n",
       "        text-align: right;\n",
       "    }\n",
       "</style>\n",
       "<table border=\"1\" class=\"dataframe\">\n",
       "  <thead>\n",
       "    <tr style=\"text-align: right;\">\n",
       "      <th></th>\n",
       "      <th>post_id</th>\n",
       "      <th>user_id</th>\n",
       "      <th>country</th>\n",
       "      <th>category</th>\n",
       "      <th>#views</th>\n",
       "      <th>#comments</th>\n",
       "    </tr>\n",
       "  </thead>\n",
       "  <tbody>\n",
       "    <tr>\n",
       "      <td>0</td>\n",
       "      <td>54149</td>\n",
       "      <td>539</td>\n",
       "      <td>13</td>\n",
       "      <td>gaming</td>\n",
       "      <td>5162733.0</td>\n",
       "      <td>41547.0</td>\n",
       "    </tr>\n",
       "    <tr>\n",
       "      <td>1</td>\n",
       "      <td>169258</td>\n",
       "      <td>24278</td>\n",
       "      <td>13</td>\n",
       "      <td>gaming</td>\n",
       "      <td>2645253.0</td>\n",
       "      <td>21437.0</td>\n",
       "    </tr>\n",
       "    <tr>\n",
       "      <td>2</td>\n",
       "      <td>236048</td>\n",
       "      <td>32636</td>\n",
       "      <td>13</td>\n",
       "      <td>gaming</td>\n",
       "      <td>1037161.0</td>\n",
       "      <td>8775.0</td>\n",
       "    </tr>\n",
       "    <tr>\n",
       "      <td>3</td>\n",
       "      <td>50631</td>\n",
       "      <td>20906</td>\n",
       "      <td>13</td>\n",
       "      <td>gaming</td>\n",
       "      <td>1061029.0</td>\n",
       "      <td>6544.0</td>\n",
       "    </tr>\n",
       "    <tr>\n",
       "      <td>4</td>\n",
       "      <td>53051</td>\n",
       "      <td>526</td>\n",
       "      <td>13</td>\n",
       "      <td>gaming</td>\n",
       "      <td>526061.0</td>\n",
       "      <td>610.0</td>\n",
       "    </tr>\n",
       "  </tbody>\n",
       "</table>\n",
       "</div>"
      ],
      "text/plain": [
       "   post_id  user_id  country category     #views  #comments\n",
       "0    54149      539       13   gaming  5162733.0    41547.0\n",
       "1   169258    24278       13   gaming  2645253.0    21437.0\n",
       "2   236048    32636       13   gaming  1037161.0     8775.0\n",
       "3    50631    20906       13   gaming  1061029.0     6544.0\n",
       "4    53051      526       13   gaming   526061.0      610.0"
      ]
     },
     "execution_count": 4,
     "metadata": {},
     "output_type": "execute_result"
    }
   ],
   "source": [
    "df_testing.head()"
   ]
  },
  {
   "cell_type": "code",
   "execution_count": 5,
   "metadata": {},
   "outputs": [
    {
     "name": "stdout",
     "output_type": "stream",
     "text": [
      "user_id 28749\n",
      "country 15\n",
      "category 9\n"
     ]
    }
   ],
   "source": [
    "print(\"user_id\" ,len(df_testing.user_id.unique()))\n",
    "print(\"country\", len(df_testing.country.unique()))\n",
    "print(\"category\", len(df_testing.category.unique()))"
   ]
  },
  {
   "cell_type": "markdown",
   "metadata": {},
   "source": [
    "## Normalisation of Data"
   ]
  },
  {
   "cell_type": "code",
   "execution_count": 11,
   "metadata": {},
   "outputs": [],
   "source": [
    "views = df_training['#views'].to_numpy()\n",
    "comments = df_training['#comments'].to_numpy()\n",
    "\n",
    "max_views, min_views = max(views), min(views)\n",
    "max_comments, min_comments = max(comments), min(comments)"
   ]
  },
  {
   "cell_type": "code",
   "execution_count": 12,
   "metadata": {},
   "outputs": [],
   "source": [
    "def normalise_views(num):\n",
    "    return float(num - min_views)/float(max_views - min_views)\n",
    "\n",
    "def normalise_comments(num):\n",
    "    return float(num - min_comments)/float(max_comments - min_comments)"
   ]
  },
  {
   "cell_type": "code",
   "execution_count": 30,
   "metadata": {},
   "outputs": [],
   "source": [
    "category_list = list(df_training.category.unique())\n",
    "category_encoding = {}\n",
    "for category in category_list:\n",
    "    df1 = df_training[df_training[\"category\"] == category]\n",
    "    df1 = df1.reset_index().loc[0]\n",
    "    a1 = df1[[\"cat1\"]].iloc[0]\n",
    "    a2 = df1[[\"cat2\"]].iloc[0]\n",
    "    a3 = df1[[\"cat3\"]].iloc[0]\n",
    "    a4 = df1[[\"cat4\"]].iloc[0]\n",
    "    a5 = df1[[\"cat5\"]].iloc[0]\n",
    "    a6 = df1[[\"cat6\"]].iloc[0]\n",
    "    a7 = df1[[\"cat7\"]].iloc[0]\n",
    "    a8 = df1[[\"cat8\"]].iloc[0]\n",
    "    a9 = df1[[\"cat9\"]].iloc[0]\n",
    "    category_encoding[category] = [a1, a2, a3, a4, a5, a6, a7, a8, a9]"
   ]
  },
  {
   "cell_type": "code",
   "execution_count": 31,
   "metadata": {},
   "outputs": [
    {
     "data": {
      "text/plain": [
       "{'gaming': [1.0, 0.0, 0.0, 0.0, 0.0, 0.0, 0.0, 0.0, 0.0],\n",
       " 'sports': [0.0, 1.0, 0.0, 0.0, 0.0, 0.0, 0.0, 0.0, 0.0],\n",
       " 'entertainment': [0.0, 0.0, 1.0, 0.0, 0.0, 0.0, 0.0, 0.0, 0.0],\n",
       " 'automotive': [0.0, 0.0, 0.0, 1.0, 0.0, 0.0, 0.0, 0.0, 0.0],\n",
       " 'music': [0.0, 0.0, 0.0, 0.0, 1.0, 0.0, 0.0, 0.0, 0.0],\n",
       " 'animals': [0.0, 0.0, 0.0, 0.0, 0.0, 1.0, 0.0, 0.0, 0.0],\n",
       " 'comedy': [0.0, 0.0, 0.0, 0.0, 0.0, 0.0, 1.0, 0.0, 0.0],\n",
       " 'howTo': [0.0, 0.0, 0.0, 0.0, 0.0, 0.0, 0.0, 1.0, 0.0],\n",
       " 'technology': [0.0, 0.0, 0.0, 0.0, 0.0, 0.0, 0.0, 0.0, 1.0]}"
      ]
     },
     "execution_count": 31,
     "metadata": {},
     "output_type": "execute_result"
    }
   ],
   "source": [
    "category_encoding"
   ]
  },
  {
   "cell_type": "code",
   "execution_count": 32,
   "metadata": {},
   "outputs": [],
   "source": [
    "country_list = [0,1,2,3,4,5,6,7,8,9,10,11,12,13,14]\n",
    "\n",
    "def get_country_enc(country):\n",
    "    one_hot = np.zeros((len(country_list)), dtype = int)\n",
    "    one_hot[int(country)] = 1\n",
    "    return one_hot\n",
    "\n",
    "country_encoding = {}\n",
    "for country in country_list:\n",
    "    country_encoding[country] = get_country_enc(country)"
   ]
  },
  {
   "cell_type": "code",
   "execution_count": 33,
   "metadata": {},
   "outputs": [
    {
     "data": {
      "text/plain": [
       "{0: array([1, 0, 0, 0, 0, 0, 0, 0, 0, 0, 0, 0, 0, 0, 0]),\n",
       " 1: array([0, 1, 0, 0, 0, 0, 0, 0, 0, 0, 0, 0, 0, 0, 0]),\n",
       " 2: array([0, 0, 1, 0, 0, 0, 0, 0, 0, 0, 0, 0, 0, 0, 0]),\n",
       " 3: array([0, 0, 0, 1, 0, 0, 0, 0, 0, 0, 0, 0, 0, 0, 0]),\n",
       " 4: array([0, 0, 0, 0, 1, 0, 0, 0, 0, 0, 0, 0, 0, 0, 0]),\n",
       " 5: array([0, 0, 0, 0, 0, 1, 0, 0, 0, 0, 0, 0, 0, 0, 0]),\n",
       " 6: array([0, 0, 0, 0, 0, 0, 1, 0, 0, 0, 0, 0, 0, 0, 0]),\n",
       " 7: array([0, 0, 0, 0, 0, 0, 0, 1, 0, 0, 0, 0, 0, 0, 0]),\n",
       " 8: array([0, 0, 0, 0, 0, 0, 0, 0, 1, 0, 0, 0, 0, 0, 0]),\n",
       " 9: array([0, 0, 0, 0, 0, 0, 0, 0, 0, 1, 0, 0, 0, 0, 0]),\n",
       " 10: array([0, 0, 0, 0, 0, 0, 0, 0, 0, 0, 1, 0, 0, 0, 0]),\n",
       " 11: array([0, 0, 0, 0, 0, 0, 0, 0, 0, 0, 0, 1, 0, 0, 0]),\n",
       " 12: array([0, 0, 0, 0, 0, 0, 0, 0, 0, 0, 0, 0, 1, 0, 0]),\n",
       " 13: array([0, 0, 0, 0, 0, 0, 0, 0, 0, 0, 0, 0, 0, 1, 0]),\n",
       " 14: array([0, 0, 0, 0, 0, 0, 0, 0, 0, 0, 0, 0, 0, 0, 1])}"
      ]
     },
     "execution_count": 33,
     "metadata": {},
     "output_type": "execute_result"
    }
   ],
   "source": [
    "country_encoding"
   ]
  },
  {
   "cell_type": "code",
   "execution_count": 34,
   "metadata": {},
   "outputs": [
    {
     "name": "stdout",
     "output_type": "stream",
     "text": [
      "0\n",
      "5000\n",
      "10000\n",
      "15000\n",
      "20000\n",
      "25000\n",
      "30000\n",
      "35000\n",
      "40000\n",
      "45000\n",
      "50000\n",
      "55000\n",
      "60000\n",
      "65000\n",
      "70000\n",
      "75000\n",
      "80000\n",
      "85000\n",
      "90000\n",
      "95000\n",
      "100000\n",
      "105000\n",
      "110000\n",
      "115000\n",
      "120000\n",
      "125000\n",
      "130000\n",
      "135000\n",
      "140000\n",
      "145000\n",
      "150000\n",
      "155000\n"
     ]
    }
   ],
   "source": [
    "for i in range(df_testing.shape[0]):\n",
    "    df_testing.at[i, \"norm_views\"] = normalise_views(df_testing[[\"#views\"]].iloc[i].values[0])\n",
    "    df_testing.at[i, \"norm_comments\"] = normalise_comments(df_testing[[\"#comments\"]].iloc[i].values[0])\n",
    "    \n",
    "    category_val = category_encoding[df_testing[[\"category\"]].iloc[i].values[0]]\n",
    "    df_testing.at[i, \"cat1\"] = category_val[0]\n",
    "    df_testing.at[i, \"cat2\"] = category_val[1]\n",
    "    df_testing.at[i, \"cat3\"] = category_val[2]\n",
    "    df_testing.at[i, \"cat4\"] = category_val[3]\n",
    "    df_testing.at[i, \"cat5\"] = category_val[4]\n",
    "    df_testing.at[i, \"cat6\"] = category_val[5]\n",
    "    df_testing.at[i, \"cat7\"] = category_val[6]\n",
    "    df_testing.at[i, \"cat8\"] = category_val[7]\n",
    "    df_testing.at[i, \"cat9\"] = category_val[8]\n",
    "    \n",
    "    country_val = country_encoding[df_testing[[\"country\"]].iloc[i].values[0]]\n",
    "    df_testing.at[i, \"count1\"] = country_val[0]\n",
    "    df_testing.at[i, \"count2\"] = country_val[1]\n",
    "    df_testing.at[i, \"count3\"] = country_val[2]\n",
    "    df_testing.at[i, \"count4\"] = country_val[3]\n",
    "    df_testing.at[i, \"count5\"] = country_val[4]\n",
    "    df_testing.at[i, \"count6\"] = country_val[5]\n",
    "    df_testing.at[i, \"count7\"] = country_val[6]\n",
    "    df_testing.at[i, \"count8\"] = country_val[7]\n",
    "    df_testing.at[i, \"count9\"] = country_val[8]\n",
    "    df_testing.at[i, \"count10\"] = country_val[9]\n",
    "    df_testing.at[i, \"count11\"] = country_val[10]\n",
    "    df_testing.at[i, \"count12\"] = country_val[11]\n",
    "    df_testing.at[i, \"count13\"] = country_val[12]\n",
    "    df_testing.at[i, \"count14\"] = country_val[13]\n",
    "    df_testing.at[i, \"count15\"] = country_val[14]\n",
    "    \n",
    "    if i%5000 == 0: print(i)"
   ]
  },
  {
   "cell_type": "code",
   "execution_count": 35,
   "metadata": {},
   "outputs": [],
   "source": [
    "df_testing.to_csv(\"data/testing_data_normalise.csv\")"
   ]
  },
  {
   "cell_type": "markdown",
   "metadata": {},
   "source": [
    "## Features Generation"
   ]
  },
  {
   "cell_type": "code",
   "execution_count": 36,
   "metadata": {},
   "outputs": [],
   "source": [
    "df_testing = pd.read_csv(\"data/testing_data_normalise.csv\")"
   ]
  },
  {
   "cell_type": "code",
   "execution_count": 37,
   "metadata": {},
   "outputs": [
    {
     "name": "stdout",
     "output_type": "stream",
     "text": [
      "<class 'pandas.core.frame.DataFrame'>\n",
      "RangeIndex: 158541 entries, 0 to 158540\n",
      "Data columns (total 33 columns):\n",
      "Unnamed: 0       158541 non-null int64\n",
      "post_id          158541 non-null int64\n",
      "user_id          158541 non-null int64\n",
      "country          158541 non-null int64\n",
      "category         158541 non-null object\n",
      "#views           158527 non-null float64\n",
      "#comments        153990 non-null float64\n",
      "norm_views       158527 non-null float64\n",
      "norm_comments    153990 non-null float64\n",
      "cat1             158541 non-null float64\n",
      "cat2             158541 non-null float64\n",
      "cat3             158541 non-null float64\n",
      "cat4             158541 non-null float64\n",
      "cat5             158541 non-null float64\n",
      "cat6             158541 non-null float64\n",
      "cat7             158541 non-null float64\n",
      "cat8             158541 non-null float64\n",
      "cat9             158541 non-null float64\n",
      "count1           158541 non-null float64\n",
      "count2           158541 non-null float64\n",
      "count3           158541 non-null float64\n",
      "count4           158541 non-null float64\n",
      "count5           158541 non-null float64\n",
      "count6           158541 non-null float64\n",
      "count7           158541 non-null float64\n",
      "count8           158541 non-null float64\n",
      "count9           158541 non-null float64\n",
      "count10          158541 non-null float64\n",
      "count11          158541 non-null float64\n",
      "count12          158541 non-null float64\n",
      "count13          158541 non-null float64\n",
      "count14          158541 non-null float64\n",
      "count15          158541 non-null float64\n",
      "dtypes: float64(28), int64(4), object(1)\n",
      "memory usage: 39.9+ MB\n"
     ]
    }
   ],
   "source": [
    "df_testing.info()"
   ]
  },
  {
   "cell_type": "code",
   "execution_count": null,
   "metadata": {},
   "outputs": [],
   "source": [
    "category_avg_data = {}\n",
    "for category in category_list:\n",
    "    df = df_training[df_training['category'] == category]\n",
    "    views = list(df['norm_views'].to_numpy())\n",
    "    comments = list(df['norm_comments'].to_numpy())\n",
    "    if len(views) > 0:\n",
    "        avg_views = sum(views)/len(views)\n",
    "    else:\n",
    "        avg_views = 0\n",
    "    if len(comments) > 0:\n",
    "        avg_comments = sum(comments)/len(comments)\n",
    "    else:\n",
    "        avg_comments = 0\n",
    "    category_avg_data[category] = [avg_views, avg_comments]\n",
    "\n",
    "country_avg_data = {}\n",
    "for country in country_list:\n",
    "    df = training_data[training_data['country'] == country]\n",
    "    views = list(df['norm_views'].to_numpy())\n",
    "    comments = list(df['norm_comments'].to_numpy())\n",
    "    if len(views) > 0:\n",
    "        avg_views = sum(views)/len(views)\n",
    "    else:\n",
    "        avg_views = 0\n",
    "    if len(comments) > 0:\n",
    "        avg_comments = sum(comments)/len(comments)\n",
    "    else:\n",
    "        avg_comments = 0\n",
    "    country_avg_data[country] = [avg_views, avg_comments]"
   ]
  },
  {
   "cell_type": "code",
   "execution_count": null,
   "metadata": {},
   "outputs": [],
   "source": []
  },
  {
   "cell_type": "code",
   "execution_count": 42,
   "metadata": {},
   "outputs": [
    {
     "name": "stdout",
     "output_type": "stream",
     "text": [
      "present\n"
     ]
    }
   ],
   "source": [
    "a = {\n",
    "    \"a1\": 1,\n",
    "    \"a2\": 2\n",
    "}\n",
    "\n",
    "if \"a1\" in a:\n",
    "    print(\"present\")\n",
    "else:\n",
    "    print(\"not present\")"
   ]
  },
  {
   "cell_type": "code",
   "execution_count": null,
   "metadata": {},
   "outputs": [],
   "source": []
  }
 ],
 "metadata": {
  "kernelspec": {
   "display_name": "Python 3",
   "language": "python",
   "name": "python3"
  },
  "language_info": {
   "codemirror_mode": {
    "name": "ipython",
    "version": 3
   },
   "file_extension": ".py",
   "mimetype": "text/x-python",
   "name": "python",
   "nbconvert_exporter": "python",
   "pygments_lexer": "ipython3",
   "version": "3.6.10"
  }
 },
 "nbformat": 4,
 "nbformat_minor": 4
}
