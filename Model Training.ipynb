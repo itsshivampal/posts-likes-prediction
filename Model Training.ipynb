{
 "cells": [
  {
   "cell_type": "code",
   "execution_count": 106,
   "metadata": {},
   "outputs": [],
   "source": [
    "import pandas as pd\n",
    "import numpy as np\n",
    "\n",
    "from sklearn.model_selection import train_test_split\n",
    "from sklearn.metrics import mean_squared_error\n",
    "from sklearn.linear_model import LinearRegression\n",
    "from sklearn.ensemble import RandomForestRegressor\n",
    "from sklearn import mixture\n",
    "from sklearn.neural_network import MLPRegressor"
   ]
  },
  {
   "cell_type": "code",
   "execution_count": 51,
   "metadata": {},
   "outputs": [
    {
     "name": "stdout",
     "output_type": "stream",
     "text": [
      "<class 'pandas.core.frame.DataFrame'>\n",
      "RangeIndex: 5001 entries, 0 to 5000\n",
      "Data columns (total 33 columns):\n",
      " #   Column                 Non-Null Count  Dtype  \n",
      "---  ------                 --------------  -----  \n",
      " 0   norm_likes             5001 non-null   float64\n",
      " 1   norm_views             5001 non-null   float64\n",
      " 2   norm_comments          5001 non-null   float64\n",
      " 3   user_avg_views         5001 non-null   float64\n",
      " 4   user_avg_comments      5001 non-null   float64\n",
      " 5   country_avg_views      5001 non-null   float64\n",
      " 6   country_avg_comments   5001 non-null   float64\n",
      " 7   category_avg_views     5001 non-null   float64\n",
      " 8   category_avg_comments  5001 non-null   float64\n",
      " 9   cat1                   5001 non-null   float64\n",
      " 10  cat2                   5001 non-null   float64\n",
      " 11  cat3                   5001 non-null   float64\n",
      " 12  cat4                   5001 non-null   float64\n",
      " 13  cat5                   5001 non-null   float64\n",
      " 14  cat6                   5001 non-null   float64\n",
      " 15  cat7                   5001 non-null   float64\n",
      " 16  cat8                   5001 non-null   float64\n",
      " 17  cat9                   5001 non-null   float64\n",
      " 18  count1                 5001 non-null   float64\n",
      " 19  count2                 5001 non-null   float64\n",
      " 20  count3                 5001 non-null   float64\n",
      " 21  count4                 5001 non-null   float64\n",
      " 22  count5                 5001 non-null   float64\n",
      " 23  count6                 5001 non-null   float64\n",
      " 24  count7                 5001 non-null   float64\n",
      " 25  count8                 5001 non-null   float64\n",
      " 26  count9                 5001 non-null   float64\n",
      " 27  count10                5001 non-null   float64\n",
      " 28  count11                5001 non-null   float64\n",
      " 29  count12                5001 non-null   float64\n",
      " 30  count13                5001 non-null   float64\n",
      " 31  count14                5001 non-null   float64\n",
      " 32  count15                5001 non-null   float64\n",
      "dtypes: float64(33)\n",
      "memory usage: 1.3 MB\n"
     ]
    }
   ],
   "source": [
    "all_data = pd.read_csv(\"data/processed_data.csv\")\n",
    "df = all_data[[\"norm_likes\", \"norm_views\", \"norm_comments\", \"user_avg_views\", \"user_avg_comments\",\n",
    "               \"country_avg_views\", \"country_avg_comments\", \"category_avg_views\", \"category_avg_comments\", \n",
    "               \"cat1\", \"cat2\", \"cat3\", \"cat4\", \"cat5\", \"cat6\", \"cat7\", \"cat8\", \"cat9\", \"count1\", \"count2\", \n",
    "               \"count3\", \"count4\", \"count5\", \"count6\", \"count7\", \"count8\", \"count9\", \"count10\", \"count11\", \n",
    "               \"count12\", \"count13\", \"count14\", \"count15\"]]\n",
    "df.info()"
   ]
  },
  {
   "cell_type": "code",
   "execution_count": 52,
   "metadata": {},
   "outputs": [
    {
     "data": {
      "text/plain": [
       "norm_likes               1.000000\n",
       "norm_views               0.741277\n",
       "norm_comments            0.899901\n",
       "user_avg_views           0.725189\n",
       "user_avg_comments        0.886841\n",
       "country_avg_views        0.105429\n",
       "country_avg_comments     0.104232\n",
       "category_avg_views       0.306446\n",
       "category_avg_comments    0.312201\n",
       "cat1                    -0.029217\n",
       "cat2                    -0.081496\n",
       "cat3                     0.019078\n",
       "cat4                    -0.085997\n",
       "cat5                     0.302002\n",
       "cat6                    -0.029276\n",
       "cat7                    -0.017486\n",
       "cat8                    -0.039951\n",
       "cat9                    -0.052695\n",
       "count1                        NaN\n",
       "count2                        NaN\n",
       "count3                        NaN\n",
       "count4                  -0.039286\n",
       "count5                   0.019028\n",
       "count6                  -0.008233\n",
       "count7                        NaN\n",
       "count8                  -0.025620\n",
       "count9                   0.096321\n",
       "count10                 -0.039231\n",
       "count11                  0.020175\n",
       "count12                       NaN\n",
       "count13                  0.019450\n",
       "count14                 -0.004569\n",
       "count15                       NaN\n",
       "Name: norm_likes, dtype: float64"
      ]
     },
     "execution_count": 52,
     "metadata": {},
     "output_type": "execute_result"
    }
   ],
   "source": [
    "corrMatrix = df.corr()\n",
    "corrMatrix[\"norm_likes\"]"
   ]
  },
  {
   "cell_type": "markdown",
   "metadata": {},
   "source": [
    "## Data Splitting into Training and Testing set\n",
    "We split data in 80-20 proportion"
   ]
  },
  {
   "cell_type": "code",
   "execution_count": 83,
   "metadata": {},
   "outputs": [],
   "source": [
    "# Data shuffling\n",
    "df = df.sample(frac=1).reset_index(drop=True)\n",
    "data = df.to_numpy()\n",
    "X, y = data[:,1:], data[:,0]\n",
    "X_train, X_test, y_train, y_test = train_test_split(X, y, test_size=0.2, random_state=42)"
   ]
  },
  {
   "cell_type": "markdown",
   "metadata": {},
   "source": [
    "## Linear Regresseion"
   ]
  },
  {
   "cell_type": "code",
   "execution_count": 112,
   "metadata": {},
   "outputs": [
    {
     "name": "stdout",
     "output_type": "stream",
     "text": [
      "2.046732808463155\n"
     ]
    }
   ],
   "source": [
    "lin_reg = LinearRegression()\n",
    "lin_reg.fit(X_train, y_train)\n",
    "y_pred = lin_reg.predict(X_test)\n",
    "err = mean_squared_error(y_test, y_pred)\n",
    "print(np.sqrt(err)*100)"
   ]
  },
  {
   "cell_type": "markdown",
   "metadata": {},
   "source": [
    "## XGBoost"
   ]
  },
  {
   "cell_type": "code",
   "execution_count": null,
   "metadata": {},
   "outputs": [],
   "source": []
  },
  {
   "cell_type": "markdown",
   "metadata": {},
   "source": [
    "## Random Forest"
   ]
  },
  {
   "cell_type": "code",
   "execution_count": 113,
   "metadata": {},
   "outputs": [
    {
     "name": "stdout",
     "output_type": "stream",
     "text": [
      "0.012498433077910664\n"
     ]
    }
   ],
   "source": [
    "rand_forest = RandomForestRegressor()\n",
    "rand_forest.fit(X_train, y_train)\n",
    "y_pred = rand_forest.predict(X_test)\n",
    "err = mean_squared_error(y_test, y_pred)\n",
    "print(np.sqrt(err))"
   ]
  },
  {
   "cell_type": "markdown",
   "metadata": {},
   "source": [
    "## GMM"
   ]
  },
  {
   "cell_type": "code",
   "execution_count": 114,
   "metadata": {},
   "outputs": [
    {
     "name": "stdout",
     "output_type": "stream",
     "text": [
      "5.172324192882816\n"
     ]
    }
   ],
   "source": [
    "gmm = mixture.GaussianMixture(n_components=1)\n",
    "gmm.fit(X_train, y_train)\n",
    "y_pred = gmm.predict(X_test)\n",
    "err = mean_squared_error(y_test, y_pred)\n",
    "print(np.sqrt(err)*100)"
   ]
  },
  {
   "cell_type": "markdown",
   "metadata": {},
   "source": [
    "## Multilayer Perceptron"
   ]
  },
  {
   "cell_type": "code",
   "execution_count": 115,
   "metadata": {},
   "outputs": [
    {
     "name": "stdout",
     "output_type": "stream",
     "text": [
      "2.3138283079002284\n"
     ]
    }
   ],
   "source": [
    "regr = MLPRegressor(random_state=1, max_iter=500)\n",
    "regr.fit(X_train, y_train)\n",
    "y_pred = regr.predict(X_test)\n",
    "err = mean_squared_error(y_test, y_pred)\n",
    "print(np.sqrt(err)*100)"
   ]
  }
 ],
 "metadata": {
  "kernelspec": {
   "display_name": "Python 3",
   "language": "python",
   "name": "python3"
  },
  "language_info": {
   "codemirror_mode": {
    "name": "ipython",
    "version": 3
   },
   "file_extension": ".py",
   "mimetype": "text/x-python",
   "name": "python",
   "nbconvert_exporter": "python",
   "pygments_lexer": "ipython3",
   "version": "3.8.2"
  }
 },
 "nbformat": 4,
 "nbformat_minor": 4
}
