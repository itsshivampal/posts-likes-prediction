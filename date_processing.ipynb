{
 "cells": [
  {
   "cell_type": "markdown",
   "metadata": {},
   "source": [
    "## Import required libraries"
   ]
  },
  {
   "cell_type": "code",
   "execution_count": 16,
   "metadata": {},
   "outputs": [],
   "source": [
    "import pandas as pd\n",
    "import numpy as np\n",
    "import matplotlib as plt"
   ]
  },
  {
   "cell_type": "markdown",
   "metadata": {},
   "source": [
    "## Load Dataset"
   ]
  },
  {
   "cell_type": "code",
   "execution_count": 17,
   "metadata": {},
   "outputs": [],
   "source": [
    "training_data = pd.read_csv(\"data/train.csv\")"
   ]
  },
  {
   "cell_type": "markdown",
   "metadata": {},
   "source": [
    "## Analysing Training Data"
   ]
  },
  {
   "cell_type": "code",
   "execution_count": 18,
   "metadata": {},
   "outputs": [
    {
     "name": "stdout",
     "output_type": "stream",
     "text": [
      "<class 'pandas.core.frame.DataFrame'>\n",
      "RangeIndex: 369920 entries, 0 to 369919\n",
      "Data columns (total 7 columns):\n",
      "post_id      369920 non-null int64\n",
      "user_id      369920 non-null int64\n",
      "country      369920 non-null int64\n",
      "category     369920 non-null object\n",
      "#views       369885 non-null float64\n",
      "#comments    359309 non-null float64\n",
      "#likes       369920 non-null int64\n",
      "dtypes: float64(2), int64(4), object(1)\n",
      "memory usage: 19.8+ MB\n"
     ]
    }
   ],
   "source": [
    "training_data.info()"
   ]
  },
  {
   "cell_type": "code",
   "execution_count": 19,
   "metadata": {},
   "outputs": [
    {
     "data": {
      "text/html": [
       "<div>\n",
       "<style scoped>\n",
       "    .dataframe tbody tr th:only-of-type {\n",
       "        vertical-align: middle;\n",
       "    }\n",
       "\n",
       "    .dataframe tbody tr th {\n",
       "        vertical-align: top;\n",
       "    }\n",
       "\n",
       "    .dataframe thead th {\n",
       "        text-align: right;\n",
       "    }\n",
       "</style>\n",
       "<table border=\"1\" class=\"dataframe\">\n",
       "  <thead>\n",
       "    <tr style=\"text-align: right;\">\n",
       "      <th></th>\n",
       "      <th>post_id</th>\n",
       "      <th>user_id</th>\n",
       "      <th>country</th>\n",
       "      <th>category</th>\n",
       "      <th>#views</th>\n",
       "      <th>#comments</th>\n",
       "      <th>#likes</th>\n",
       "    </tr>\n",
       "  </thead>\n",
       "  <tbody>\n",
       "    <tr>\n",
       "      <td>0</td>\n",
       "      <td>141569</td>\n",
       "      <td>13588</td>\n",
       "      <td>13</td>\n",
       "      <td>gaming</td>\n",
       "      <td>2403572.0</td>\n",
       "      <td>5606.0</td>\n",
       "      <td>107865</td>\n",
       "    </tr>\n",
       "    <tr>\n",
       "      <td>1</td>\n",
       "      <td>278047</td>\n",
       "      <td>5601</td>\n",
       "      <td>13</td>\n",
       "      <td>gaming</td>\n",
       "      <td>1421234.0</td>\n",
       "      <td>7316.0</td>\n",
       "      <td>68570</td>\n",
       "    </tr>\n",
       "    <tr>\n",
       "      <td>2</td>\n",
       "      <td>278280</td>\n",
       "      <td>31823</td>\n",
       "      <td>13</td>\n",
       "      <td>gaming</td>\n",
       "      <td>1460690.0</td>\n",
       "      <td>9924.0</td>\n",
       "      <td>136786</td>\n",
       "    </tr>\n",
       "    <tr>\n",
       "      <td>3</td>\n",
       "      <td>161305</td>\n",
       "      <td>14424</td>\n",
       "      <td>13</td>\n",
       "      <td>gaming</td>\n",
       "      <td>1463710.0</td>\n",
       "      <td>1087.0</td>\n",
       "      <td>62590</td>\n",
       "    </tr>\n",
       "    <tr>\n",
       "      <td>4</td>\n",
       "      <td>340945</td>\n",
       "      <td>8532</td>\n",
       "      <td>13</td>\n",
       "      <td>gaming</td>\n",
       "      <td>2507066.0</td>\n",
       "      <td>2974.0</td>\n",
       "      <td>21325</td>\n",
       "    </tr>\n",
       "  </tbody>\n",
       "</table>\n",
       "</div>"
      ],
      "text/plain": [
       "   post_id  user_id  country category     #views  #comments  #likes\n",
       "0   141569    13588       13   gaming  2403572.0     5606.0  107865\n",
       "1   278047     5601       13   gaming  1421234.0     7316.0   68570\n",
       "2   278280    31823       13   gaming  1460690.0     9924.0  136786\n",
       "3   161305    14424       13   gaming  1463710.0     1087.0   62590\n",
       "4   340945     8532       13   gaming  2507066.0     2974.0   21325"
      ]
     },
     "execution_count": 19,
     "metadata": {},
     "output_type": "execute_result"
    }
   ],
   "source": [
    "training_data.head()"
   ]
  },
  {
   "cell_type": "code",
   "execution_count": 20,
   "metadata": {},
   "outputs": [
    {
     "data": {
      "text/plain": [
       "post_id          0\n",
       "user_id          0\n",
       "country          0\n",
       "category         0\n",
       "#views          35\n",
       "#comments    10611\n",
       "#likes           0\n",
       "dtype: int64"
      ]
     },
     "execution_count": 20,
     "metadata": {},
     "output_type": "execute_result"
    }
   ],
   "source": [
    "training_data.isnull().sum()"
   ]
  },
  {
   "cell_type": "code",
   "execution_count": 21,
   "metadata": {
    "scrolled": true
   },
   "outputs": [
    {
     "name": "stdout",
     "output_type": "stream",
     "text": [
      "post_id 369920\n",
      "user_id 38395\n",
      "country 15\n",
      "category 9\n"
     ]
    }
   ],
   "source": [
    "print(\"post_id\", len(training_data.post_id.unique()))\n",
    "print(\"user_id\" ,len(training_data.user_id.unique()))\n",
    "print(\"country\", len(training_data.country.unique()))\n",
    "print(\"category\", len(training_data.category.unique()))"
   ]
  },
  {
   "cell_type": "markdown",
   "metadata": {},
   "source": [
    "## Handling Missing Values\n",
    "\n",
    "Missing values are present in\n",
    "1. Views column\n",
    "    - Option 1: Drop these rows\n",
    "    - Option 2: No of views must be greater or equals to no of commments\n",
    "    - Option 3: We can take average of no of views based on user_id, category and country \n",
    "2. Comments column\n",
    "    - Option 1: Drop these rows\n",
    "    - Option 2: Take avaerage of no of comments based on user_id, category and country    "
   ]
  },
  {
   "cell_type": "code",
   "execution_count": 22,
   "metadata": {},
   "outputs": [],
   "source": [
    "# Drop rows which contain any missing value\n",
    "training_data.dropna(axis = 0, how = \"any\", inplace = True)\n",
    "training_data.reset_index(inplace=True, drop = True)"
   ]
  },
  {
   "cell_type": "code",
   "execution_count": 23,
   "metadata": {},
   "outputs": [],
   "source": [
    "# training_data = training_data.loc[:5000]"
   ]
  },
  {
   "cell_type": "code",
   "execution_count": 24,
   "metadata": {},
   "outputs": [
    {
     "name": "stdout",
     "output_type": "stream",
     "text": [
      "post_id      0\n",
      "user_id      0\n",
      "country      0\n",
      "category     0\n",
      "#views       0\n",
      "#comments    0\n",
      "#likes       0\n",
      "dtype: int64\n",
      "359274\n"
     ]
    }
   ],
   "source": [
    "print(training_data.isnull().sum())\n",
    "print(training_data.shape[0])"
   ]
  },
  {
   "cell_type": "code",
   "execution_count": 25,
   "metadata": {},
   "outputs": [
    {
     "data": {
      "text/html": [
       "<div>\n",
       "<style scoped>\n",
       "    .dataframe tbody tr th:only-of-type {\n",
       "        vertical-align: middle;\n",
       "    }\n",
       "\n",
       "    .dataframe tbody tr th {\n",
       "        vertical-align: top;\n",
       "    }\n",
       "\n",
       "    .dataframe thead th {\n",
       "        text-align: right;\n",
       "    }\n",
       "</style>\n",
       "<table border=\"1\" class=\"dataframe\">\n",
       "  <thead>\n",
       "    <tr style=\"text-align: right;\">\n",
       "      <th></th>\n",
       "      <th>post_id</th>\n",
       "      <th>user_id</th>\n",
       "      <th>country</th>\n",
       "      <th>category</th>\n",
       "      <th>#views</th>\n",
       "      <th>#comments</th>\n",
       "      <th>#likes</th>\n",
       "    </tr>\n",
       "  </thead>\n",
       "  <tbody>\n",
       "    <tr>\n",
       "      <td>0</td>\n",
       "      <td>141569</td>\n",
       "      <td>13588</td>\n",
       "      <td>13</td>\n",
       "      <td>gaming</td>\n",
       "      <td>2403572.0</td>\n",
       "      <td>5606.0</td>\n",
       "      <td>107865</td>\n",
       "    </tr>\n",
       "    <tr>\n",
       "      <td>1</td>\n",
       "      <td>278047</td>\n",
       "      <td>5601</td>\n",
       "      <td>13</td>\n",
       "      <td>gaming</td>\n",
       "      <td>1421234.0</td>\n",
       "      <td>7316.0</td>\n",
       "      <td>68570</td>\n",
       "    </tr>\n",
       "    <tr>\n",
       "      <td>2</td>\n",
       "      <td>278280</td>\n",
       "      <td>31823</td>\n",
       "      <td>13</td>\n",
       "      <td>gaming</td>\n",
       "      <td>1460690.0</td>\n",
       "      <td>9924.0</td>\n",
       "      <td>136786</td>\n",
       "    </tr>\n",
       "    <tr>\n",
       "      <td>3</td>\n",
       "      <td>161305</td>\n",
       "      <td>14424</td>\n",
       "      <td>13</td>\n",
       "      <td>gaming</td>\n",
       "      <td>1463710.0</td>\n",
       "      <td>1087.0</td>\n",
       "      <td>62590</td>\n",
       "    </tr>\n",
       "    <tr>\n",
       "      <td>4</td>\n",
       "      <td>340945</td>\n",
       "      <td>8532</td>\n",
       "      <td>13</td>\n",
       "      <td>gaming</td>\n",
       "      <td>2507066.0</td>\n",
       "      <td>2974.0</td>\n",
       "      <td>21325</td>\n",
       "    </tr>\n",
       "  </tbody>\n",
       "</table>\n",
       "</div>"
      ],
      "text/plain": [
       "   post_id  user_id  country category     #views  #comments  #likes\n",
       "0   141569    13588       13   gaming  2403572.0     5606.0  107865\n",
       "1   278047     5601       13   gaming  1421234.0     7316.0   68570\n",
       "2   278280    31823       13   gaming  1460690.0     9924.0  136786\n",
       "3   161305    14424       13   gaming  1463710.0     1087.0   62590\n",
       "4   340945     8532       13   gaming  2507066.0     2974.0   21325"
      ]
     },
     "execution_count": 25,
     "metadata": {},
     "output_type": "execute_result"
    }
   ],
   "source": [
    "training_data.head()"
   ]
  },
  {
   "cell_type": "code",
   "execution_count": 26,
   "metadata": {},
   "outputs": [
    {
     "name": "stdout",
     "output_type": "stream",
     "text": [
      "<class 'pandas.core.frame.DataFrame'>\n",
      "RangeIndex: 359274 entries, 0 to 359273\n",
      "Data columns (total 7 columns):\n",
      "post_id      359274 non-null int64\n",
      "user_id      359274 non-null int64\n",
      "country      359274 non-null int64\n",
      "category     359274 non-null object\n",
      "#views       359274 non-null float64\n",
      "#comments    359274 non-null float64\n",
      "#likes       359274 non-null int64\n",
      "dtypes: float64(2), int64(4), object(1)\n",
      "memory usage: 19.2+ MB\n"
     ]
    }
   ],
   "source": [
    "training_data.info()"
   ]
  },
  {
   "cell_type": "markdown",
   "metadata": {},
   "source": [
    "## Data Normmalization"
   ]
  },
  {
   "cell_type": "code",
   "execution_count": 27,
   "metadata": {},
   "outputs": [],
   "source": [
    "views = training_data['#views'].to_numpy()\n",
    "comments = training_data['#comments'].to_numpy()\n",
    "likes = training_data['#likes'].to_numpy()\n",
    "\n",
    "max_views, min_views = max(views), min(views)\n",
    "max_comments, min_comments = max(comments), min(comments)\n",
    "max_likes, min_likes = max(likes), min(likes)"
   ]
  },
  {
   "cell_type": "code",
   "execution_count": 28,
   "metadata": {},
   "outputs": [],
   "source": [
    "def normalise_views(num):\n",
    "    return float(num - min_views)/float(max_views - min_views)\n",
    "\n",
    "def normalise_comments(num):\n",
    "    return float(num - min_comments)/float(max_comments - min_comments)\n",
    "\n",
    "def normalise_likes(num):\n",
    "    return float(num - min_likes)/float(max_likes - min_likes)"
   ]
  },
  {
   "cell_type": "code",
   "execution_count": 29,
   "metadata": {},
   "outputs": [],
   "source": [
    "category_list = list(training_data.category.unique())\n",
    "# country_list = list(training_data.country.unique())\n",
    "country_list = [0,1,2,3,4,5,6,7,8,9,10,11,12,13,14]\n",
    "\n",
    "category_dict = {}\n",
    "\n",
    "index = 0\n",
    "for category in category_list:\n",
    "    category_dict[category] = index\n",
    "    index += 1\n",
    "\n",
    "def get_category_val(cat):\n",
    "    one_hot = np.zeros((len(category_list)), dtype = int)\n",
    "    index = category_dict[cat]\n",
    "    one_hot[index] = 1\n",
    "    return one_hot\n",
    "\n",
    "def get_country_enc(country):\n",
    "    one_hot = np.zeros((len(country_list)), dtype = int)\n",
    "    one_hot[int(country)] = 1\n",
    "    return one_hot"
   ]
  },
  {
   "cell_type": "code",
   "execution_count": 30,
   "metadata": {
    "scrolled": true
   },
   "outputs": [
    {
     "name": "stdout",
     "output_type": "stream",
     "text": [
      "0\n",
      "5000\n",
      "10000\n",
      "15000\n",
      "20000\n",
      "25000\n",
      "30000\n",
      "35000\n",
      "40000\n",
      "45000\n",
      "50000\n",
      "55000\n",
      "60000\n",
      "65000\n",
      "70000\n",
      "75000\n",
      "80000\n",
      "85000\n",
      "90000\n",
      "95000\n",
      "100000\n",
      "105000\n",
      "110000\n",
      "115000\n",
      "120000\n",
      "125000\n",
      "130000\n",
      "135000\n",
      "140000\n",
      "145000\n",
      "150000\n",
      "155000\n",
      "160000\n",
      "165000\n",
      "170000\n",
      "175000\n",
      "180000\n",
      "185000\n",
      "190000\n",
      "195000\n",
      "200000\n",
      "205000\n",
      "210000\n",
      "215000\n",
      "220000\n",
      "225000\n",
      "230000\n",
      "235000\n",
      "240000\n",
      "245000\n",
      "250000\n",
      "255000\n",
      "260000\n",
      "265000\n",
      "270000\n",
      "275000\n",
      "280000\n",
      "285000\n",
      "290000\n",
      "295000\n",
      "300000\n",
      "305000\n",
      "310000\n",
      "315000\n",
      "320000\n",
      "325000\n",
      "330000\n",
      "335000\n",
      "340000\n",
      "345000\n",
      "350000\n",
      "355000\n"
     ]
    }
   ],
   "source": [
    "for i in range(training_data.shape[0]):\n",
    "    training_data.at[i, \"norm_views\"] = normalise_views(training_data[[\"#views\"]].iloc[i].values[0])\n",
    "    training_data.at[i, \"norm_comments\"] = normalise_comments(training_data[[\"#comments\"]].iloc[i].values[0])\n",
    "    training_data.at[i, \"norm_likes\"] = normalise_likes(training_data[[\"#likes\"]].iloc[i].values[0])\n",
    "    \n",
    "    category_val = get_category_val(training_data[[\"category\"]].iloc[i].values[0])\n",
    "    training_data.at[i, \"cat1\"] = category_val[0]\n",
    "    training_data.at[i, \"cat2\"] = category_val[1]\n",
    "    training_data.at[i, \"cat3\"] = category_val[2]\n",
    "    training_data.at[i, \"cat4\"] = category_val[3]\n",
    "    training_data.at[i, \"cat5\"] = category_val[4]\n",
    "    training_data.at[i, \"cat6\"] = category_val[5]\n",
    "    training_data.at[i, \"cat7\"] = category_val[6]\n",
    "    training_data.at[i, \"cat8\"] = category_val[7]\n",
    "    training_data.at[i, \"cat9\"] = category_val[8]\n",
    "    \n",
    "    country_val = get_country_enc(training_data[[\"country\"]].iloc[i].values[0])\n",
    "    training_data.at[i, \"count1\"] = country_val[0]\n",
    "    training_data.at[i, \"count2\"] = country_val[1]\n",
    "    training_data.at[i, \"count3\"] = country_val[2]\n",
    "    training_data.at[i, \"count4\"] = country_val[3]\n",
    "    training_data.at[i, \"count5\"] = country_val[4]\n",
    "    training_data.at[i, \"count6\"] = country_val[5]\n",
    "    training_data.at[i, \"count7\"] = country_val[6]\n",
    "    training_data.at[i, \"count8\"] = country_val[7]\n",
    "    training_data.at[i, \"count9\"] = country_val[8]\n",
    "    training_data.at[i, \"count10\"] = country_val[9]\n",
    "    training_data.at[i, \"count11\"] = country_val[10]\n",
    "    training_data.at[i, \"count12\"] = country_val[11]\n",
    "    training_data.at[i, \"count13\"] = country_val[12]\n",
    "    training_data.at[i, \"count14\"] = country_val[13]\n",
    "    training_data.at[i, \"count15\"] = country_val[14]\n",
    "    \n",
    "    if i%5000 == 0: print(i)"
   ]
  },
  {
   "cell_type": "code",
   "execution_count": 31,
   "metadata": {},
   "outputs": [],
   "source": [
    "training_data.to_csv(\"data/data_normalise.csv\")"
   ]
  },
  {
   "cell_type": "markdown",
   "metadata": {},
   "source": [
    "## Features Generation\n",
    "\n",
    "- No of average views in each category\n",
    "- No of average comments in each category\n",
    "- No of average views in each counntry\n",
    "- No of average views in each category\n",
    "- No of views\n",
    "- No of comments\n",
    "- No of average views of the user\n",
    "- No of average comments of the user"
   ]
  },
  {
   "cell_type": "code",
   "execution_count": 49,
   "metadata": {},
   "outputs": [],
   "source": [
    "training_data = pd.read_csv(\"data/data_normalise.csv\")"
   ]
  },
  {
   "cell_type": "code",
   "execution_count": 50,
   "metadata": {},
   "outputs": [],
   "source": [
    "category_avg_data = {}\n",
    "for category in category_list:\n",
    "    df = training_data[training_data['category'] == category]\n",
    "    views = list(df['norm_views'].to_numpy())\n",
    "    comments = list(df['norm_comments'].to_numpy())\n",
    "    if len(views) > 0:\n",
    "        avg_views = sum(views)/len(views)\n",
    "    else:\n",
    "        avg_views = 0\n",
    "    if len(comments) > 0:\n",
    "        avg_comments = sum(comments)/len(comments)\n",
    "    else:\n",
    "        avg_comments = 0\n",
    "    category_avg_data[category] = [avg_views, avg_comments]\n",
    "\n",
    "country_avg_data = {}\n",
    "for country in country_list:\n",
    "    df = training_data[training_data['country'] == country]\n",
    "    views = list(df['norm_views'].to_numpy())\n",
    "    comments = list(df['norm_comments'].to_numpy())\n",
    "    if len(views) > 0:\n",
    "        avg_views = sum(views)/len(views)\n",
    "    else:\n",
    "        avg_views = 0\n",
    "    if len(comments) > 0:\n",
    "        avg_comments = sum(comments)/len(comments)\n",
    "    else:\n",
    "        avg_comments = 0\n",
    "    country_avg_data[country] = [avg_views, avg_comments]"
   ]
  },
  {
   "cell_type": "code",
   "execution_count": 51,
   "metadata": {},
   "outputs": [],
   "source": [
    "user_list = list(training_data.user_id.unique())\n",
    "user_avg_data = {}\n",
    "for user in user_list:\n",
    "    df = training_data[training_data['user_id'] == user]\n",
    "    views = list(df['norm_views'].to_numpy())\n",
    "    comments = list(df['norm_comments'].to_numpy())\n",
    "    if len(views) > 0:\n",
    "        avg_views = sum(views)/len(views)\n",
    "    else:\n",
    "        avg_views = 0\n",
    "    if len(comments) > 0:\n",
    "        avg_comments = sum(comments)/len(comments)\n",
    "    else:\n",
    "        avg_comments = 0\n",
    "    user_avg_data[user] = [avg_views, avg_comments]"
   ]
  },
  {
   "cell_type": "code",
   "execution_count": 52,
   "metadata": {},
   "outputs": [],
   "source": [
    "# df = training_data\n",
    "\n",
    "# for i in range(350000,training_data.shape[0]):\n",
    "# #     print(i, user_avg_data[training_data[[\"user_id\"]].iloc[i].values[0]])\n",
    "    \n",
    "#     df.at[i, 'user_avg_views'] = user_avg_data[df[[\"user_id\"]].iloc[i].values[0]][0]\n",
    "#     df.at[i, 'user_avg_comments'] = user_avg_data[df[[\"user_id\"]].iloc[i].values[0]][1]\n",
    "    \n",
    "# #     training_data.at[i, 'country_avg_views'] = country_avg_data[training_data[[\"country\"]].iloc[i].values[0]][0]\n",
    "# #     training_data.at[i, 'country_avg_comments'] = country_avg_data[training_data[[\"country\"]].iloc[i].values[0]][1]\n",
    "    \n",
    "# #     training_data.at[i, 'category_avg_views'] = category_avg_data[training_data[[\"category\"]].iloc[i].values[0]][0]\n",
    "# #     training_data.at[i, 'category_avg_comments'] = category_avg_data[training_data[[\"category\"]].iloc[i].values[0]][1]"
   ]
  },
  {
   "cell_type": "code",
   "execution_count": 54,
   "metadata": {
    "scrolled": true
   },
   "outputs": [
    {
     "name": "stdout",
     "output_type": "stream",
     "text": [
      "0\n",
      "5000\n",
      "10000\n",
      "15000\n",
      "20000\n",
      "25000\n",
      "30000\n",
      "35000\n",
      "40000\n",
      "45000\n",
      "50000\n",
      "55000\n",
      "60000\n",
      "65000\n",
      "70000\n",
      "75000\n",
      "80000\n",
      "85000\n",
      "90000\n",
      "95000\n",
      "100000\n",
      "105000\n",
      "110000\n",
      "115000\n",
      "120000\n",
      "125000\n",
      "130000\n",
      "135000\n",
      "140000\n",
      "145000\n",
      "150000\n",
      "155000\n",
      "160000\n",
      "165000\n",
      "170000\n",
      "175000\n",
      "180000\n",
      "185000\n",
      "190000\n",
      "195000\n",
      "200000\n",
      "205000\n",
      "210000\n",
      "215000\n",
      "220000\n",
      "225000\n",
      "230000\n",
      "235000\n",
      "240000\n",
      "245000\n",
      "250000\n",
      "255000\n",
      "260000\n",
      "265000\n",
      "270000\n",
      "275000\n",
      "280000\n",
      "285000\n",
      "290000\n",
      "295000\n",
      "300000\n",
      "305000\n",
      "310000\n",
      "315000\n",
      "320000\n",
      "325000\n",
      "330000\n",
      "335000\n",
      "340000\n",
      "345000\n",
      "350000\n",
      "355000\n"
     ]
    }
   ],
   "source": [
    "for i in range(training_data.shape[0]):\n",
    "    training_data.at[i, 'user_avg_views'] = user_avg_data[training_data[[\"user_id\"]].iloc[i].values[0]][0]\n",
    "    training_data.at[i, 'user_avg_comments'] = user_avg_data[training_data[[\"user_id\"]].iloc[i].values[0]][1]\n",
    "    \n",
    "    training_data.at[i, 'country_avg_views'] = country_avg_data[training_data[[\"country\"]].iloc[i].values[0]][0]\n",
    "    training_data.at[i, 'country_avg_comments'] = country_avg_data[training_data[[\"country\"]].iloc[i].values[0]][1]\n",
    "    \n",
    "    training_data.at[i, 'category_avg_views'] = category_avg_data[training_data[[\"category\"]].iloc[i].values[0]][0]\n",
    "    training_data.at[i, 'category_avg_comments'] = category_avg_data[training_data[[\"category\"]].iloc[i].values[0]][1]\n",
    "    \n",
    "    if i%5000 == 0: print(i)"
   ]
  },
  {
   "cell_type": "code",
   "execution_count": 55,
   "metadata": {},
   "outputs": [
    {
     "name": "stdout",
     "output_type": "stream",
     "text": [
      "<class 'pandas.core.frame.DataFrame'>\n",
      "RangeIndex: 359274 entries, 0 to 359273\n",
      "Data columns (total 41 columns):\n",
      "Unnamed: 0               359274 non-null int64\n",
      "post_id                  359274 non-null int64\n",
      "user_id                  359274 non-null int64\n",
      "country                  359274 non-null int64\n",
      "category                 359274 non-null object\n",
      "#views                   359274 non-null float64\n",
      "#comments                359274 non-null float64\n",
      "#likes                   359274 non-null int64\n",
      "norm_views               359274 non-null float64\n",
      "norm_comments            359274 non-null float64\n",
      "norm_likes               359274 non-null float64\n",
      "cat1                     359274 non-null float64\n",
      "cat2                     359274 non-null float64\n",
      "cat3                     359274 non-null float64\n",
      "cat4                     359274 non-null float64\n",
      "cat5                     359274 non-null float64\n",
      "cat6                     359274 non-null float64\n",
      "cat7                     359274 non-null float64\n",
      "cat8                     359274 non-null float64\n",
      "cat9                     359274 non-null float64\n",
      "count1                   359274 non-null float64\n",
      "count2                   359274 non-null float64\n",
      "count3                   359274 non-null float64\n",
      "count4                   359274 non-null float64\n",
      "count5                   359274 non-null float64\n",
      "count6                   359274 non-null float64\n",
      "count7                   359274 non-null float64\n",
      "count8                   359274 non-null float64\n",
      "count9                   359274 non-null float64\n",
      "count10                  359274 non-null float64\n",
      "count11                  359274 non-null float64\n",
      "count12                  359274 non-null float64\n",
      "count13                  359274 non-null float64\n",
      "count14                  359274 non-null float64\n",
      "count15                  359274 non-null float64\n",
      "user_avg_views           359274 non-null float64\n",
      "user_avg_comments        359274 non-null float64\n",
      "country_avg_views        359274 non-null float64\n",
      "country_avg_comments     359274 non-null float64\n",
      "category_avg_views       359274 non-null float64\n",
      "category_avg_comments    359274 non-null float64\n",
      "dtypes: float64(35), int64(5), object(1)\n",
      "memory usage: 112.4+ MB\n"
     ]
    }
   ],
   "source": [
    "training_data.info()"
   ]
  },
  {
   "cell_type": "code",
   "execution_count": 56,
   "metadata": {},
   "outputs": [],
   "source": [
    "training_data.to_csv(\"data/all_features.csv\")"
   ]
  }
 ],
 "metadata": {
  "kernelspec": {
   "display_name": "Python 3",
   "language": "python",
   "name": "python3"
  },
  "language_info": {
   "codemirror_mode": {
    "name": "ipython",
    "version": 3
   },
   "file_extension": ".py",
   "mimetype": "text/x-python",
   "name": "python",
   "nbconvert_exporter": "python",
   "pygments_lexer": "ipython3",
   "version": "3.6.10"
  }
 },
 "nbformat": 4,
 "nbformat_minor": 4
}
