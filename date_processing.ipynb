{
 "cells": [
  {
   "cell_type": "markdown",
   "metadata": {},
   "source": [
    "## Import required libraries"
   ]
  },
  {
   "cell_type": "code",
   "execution_count": 33,
   "metadata": {},
   "outputs": [],
   "source": [
    "import pandas as pd\n",
    "import numpy as np\n",
    "import matplotlib.pyplot as plt"
   ]
  },
  {
   "cell_type": "markdown",
   "metadata": {},
   "source": [
    "## Load Dataset"
   ]
  },
  {
   "cell_type": "code",
   "execution_count": 2,
   "metadata": {},
   "outputs": [],
   "source": [
    "training_data = pd.read_csv(\"data/train.csv\")"
   ]
  },
  {
   "cell_type": "code",
   "execution_count": 3,
   "metadata": {},
   "outputs": [],
   "source": [
    "testing_data = pd.read_csv(\"data/test_without_truth.csv\")"
   ]
  },
  {
   "cell_type": "markdown",
   "metadata": {},
   "source": [
    "## Analysing Training Data"
   ]
  },
  {
   "cell_type": "code",
   "execution_count": 4,
   "metadata": {},
   "outputs": [
    {
     "data": {
      "text/html": [
       "<div>\n",
       "<style scoped>\n",
       "    .dataframe tbody tr th:only-of-type {\n",
       "        vertical-align: middle;\n",
       "    }\n",
       "\n",
       "    .dataframe tbody tr th {\n",
       "        vertical-align: top;\n",
       "    }\n",
       "\n",
       "    .dataframe thead th {\n",
       "        text-align: right;\n",
       "    }\n",
       "</style>\n",
       "<table border=\"1\" class=\"dataframe\">\n",
       "  <thead>\n",
       "    <tr style=\"text-align: right;\">\n",
       "      <th></th>\n",
       "      <th>post_id</th>\n",
       "      <th>user_id</th>\n",
       "      <th>country</th>\n",
       "      <th>#views</th>\n",
       "      <th>#comments</th>\n",
       "      <th>#likes</th>\n",
       "    </tr>\n",
       "  </thead>\n",
       "  <tbody>\n",
       "    <tr>\n",
       "      <td>count</td>\n",
       "      <td>369920.000000</td>\n",
       "      <td>369920.000000</td>\n",
       "      <td>369920.000000</td>\n",
       "      <td>3.698850e+05</td>\n",
       "      <td>3.593090e+05</td>\n",
       "      <td>3.699200e+05</td>\n",
       "    </tr>\n",
       "    <tr>\n",
       "      <td>mean</td>\n",
       "      <td>264102.305696</td>\n",
       "      <td>21056.832826</td>\n",
       "      <td>6.700938</td>\n",
       "      <td>5.001114e+05</td>\n",
       "      <td>2.003481e+03</td>\n",
       "      <td>2.310587e+04</td>\n",
       "    </tr>\n",
       "    <tr>\n",
       "      <td>std</td>\n",
       "      <td>152590.609962</td>\n",
       "      <td>12101.006391</td>\n",
       "      <td>4.424512</td>\n",
       "      <td>1.623025e+06</td>\n",
       "      <td>1.209824e+04</td>\n",
       "      <td>8.616847e+04</td>\n",
       "    </tr>\n",
       "    <tr>\n",
       "      <td>min</td>\n",
       "      <td>0.000000</td>\n",
       "      <td>0.000000</td>\n",
       "      <td>0.000000</td>\n",
       "      <td>6.113000e+03</td>\n",
       "      <td>0.000000e+00</td>\n",
       "      <td>1.000000e+00</td>\n",
       "    </tr>\n",
       "    <tr>\n",
       "      <td>25%</td>\n",
       "      <td>131912.750000</td>\n",
       "      <td>10552.000000</td>\n",
       "      <td>3.000000</td>\n",
       "      <td>6.136600e+04</td>\n",
       "      <td>2.110000e+02</td>\n",
       "      <td>2.641000e+03</td>\n",
       "    </tr>\n",
       "    <tr>\n",
       "      <td>50%</td>\n",
       "      <td>264087.000000</td>\n",
       "      <td>21224.000000</td>\n",
       "      <td>6.000000</td>\n",
       "      <td>1.571650e+05</td>\n",
       "      <td>5.730000e+02</td>\n",
       "      <td>7.012000e+03</td>\n",
       "    </tr>\n",
       "    <tr>\n",
       "      <td>75%</td>\n",
       "      <td>396315.250000</td>\n",
       "      <td>31537.000000</td>\n",
       "      <td>11.000000</td>\n",
       "      <td>4.239210e+05</td>\n",
       "      <td>1.523000e+03</td>\n",
       "      <td>1.928500e+04</td>\n",
       "    </tr>\n",
       "    <tr>\n",
       "      <td>max</td>\n",
       "      <td>528460.000000</td>\n",
       "      <td>41773.000000</td>\n",
       "      <td>14.000000</td>\n",
       "      <td>1.779872e+08</td>\n",
       "      <td>1.219455e+06</td>\n",
       "      <td>6.197312e+06</td>\n",
       "    </tr>\n",
       "  </tbody>\n",
       "</table>\n",
       "</div>"
      ],
      "text/plain": [
       "             post_id        user_id        country        #views  \\\n",
       "count  369920.000000  369920.000000  369920.000000  3.698850e+05   \n",
       "mean   264102.305696   21056.832826       6.700938  5.001114e+05   \n",
       "std    152590.609962   12101.006391       4.424512  1.623025e+06   \n",
       "min         0.000000       0.000000       0.000000  6.113000e+03   \n",
       "25%    131912.750000   10552.000000       3.000000  6.136600e+04   \n",
       "50%    264087.000000   21224.000000       6.000000  1.571650e+05   \n",
       "75%    396315.250000   31537.000000      11.000000  4.239210e+05   \n",
       "max    528460.000000   41773.000000      14.000000  1.779872e+08   \n",
       "\n",
       "          #comments        #likes  \n",
       "count  3.593090e+05  3.699200e+05  \n",
       "mean   2.003481e+03  2.310587e+04  \n",
       "std    1.209824e+04  8.616847e+04  \n",
       "min    0.000000e+00  1.000000e+00  \n",
       "25%    2.110000e+02  2.641000e+03  \n",
       "50%    5.730000e+02  7.012000e+03  \n",
       "75%    1.523000e+03  1.928500e+04  \n",
       "max    1.219455e+06  6.197312e+06  "
      ]
     },
     "execution_count": 4,
     "metadata": {},
     "output_type": "execute_result"
    }
   ],
   "source": [
    "training_data.describe()"
   ]
  },
  {
   "cell_type": "code",
   "execution_count": 5,
   "metadata": {},
   "outputs": [
    {
     "name": "stdout",
     "output_type": "stream",
     "text": [
      "<class 'pandas.core.frame.DataFrame'>\n",
      "RangeIndex: 369920 entries, 0 to 369919\n",
      "Data columns (total 7 columns):\n",
      "post_id      369920 non-null int64\n",
      "user_id      369920 non-null int64\n",
      "country      369920 non-null int64\n",
      "category     369920 non-null object\n",
      "#views       369885 non-null float64\n",
      "#comments    359309 non-null float64\n",
      "#likes       369920 non-null int64\n",
      "dtypes: float64(2), int64(4), object(1)\n",
      "memory usage: 19.8+ MB\n"
     ]
    }
   ],
   "source": [
    "training_data.info()"
   ]
  },
  {
   "cell_type": "code",
   "execution_count": 6,
   "metadata": {},
   "outputs": [
    {
     "data": {
      "text/html": [
       "<div>\n",
       "<style scoped>\n",
       "    .dataframe tbody tr th:only-of-type {\n",
       "        vertical-align: middle;\n",
       "    }\n",
       "\n",
       "    .dataframe tbody tr th {\n",
       "        vertical-align: top;\n",
       "    }\n",
       "\n",
       "    .dataframe thead th {\n",
       "        text-align: right;\n",
       "    }\n",
       "</style>\n",
       "<table border=\"1\" class=\"dataframe\">\n",
       "  <thead>\n",
       "    <tr style=\"text-align: right;\">\n",
       "      <th></th>\n",
       "      <th>post_id</th>\n",
       "      <th>user_id</th>\n",
       "      <th>country</th>\n",
       "      <th>category</th>\n",
       "      <th>#views</th>\n",
       "      <th>#comments</th>\n",
       "      <th>#likes</th>\n",
       "    </tr>\n",
       "  </thead>\n",
       "  <tbody>\n",
       "    <tr>\n",
       "      <td>0</td>\n",
       "      <td>141569</td>\n",
       "      <td>13588</td>\n",
       "      <td>13</td>\n",
       "      <td>gaming</td>\n",
       "      <td>2403572.0</td>\n",
       "      <td>5606.0</td>\n",
       "      <td>107865</td>\n",
       "    </tr>\n",
       "    <tr>\n",
       "      <td>1</td>\n",
       "      <td>278047</td>\n",
       "      <td>5601</td>\n",
       "      <td>13</td>\n",
       "      <td>gaming</td>\n",
       "      <td>1421234.0</td>\n",
       "      <td>7316.0</td>\n",
       "      <td>68570</td>\n",
       "    </tr>\n",
       "    <tr>\n",
       "      <td>2</td>\n",
       "      <td>278280</td>\n",
       "      <td>31823</td>\n",
       "      <td>13</td>\n",
       "      <td>gaming</td>\n",
       "      <td>1460690.0</td>\n",
       "      <td>9924.0</td>\n",
       "      <td>136786</td>\n",
       "    </tr>\n",
       "    <tr>\n",
       "      <td>3</td>\n",
       "      <td>161305</td>\n",
       "      <td>14424</td>\n",
       "      <td>13</td>\n",
       "      <td>gaming</td>\n",
       "      <td>1463710.0</td>\n",
       "      <td>1087.0</td>\n",
       "      <td>62590</td>\n",
       "    </tr>\n",
       "    <tr>\n",
       "      <td>4</td>\n",
       "      <td>340945</td>\n",
       "      <td>8532</td>\n",
       "      <td>13</td>\n",
       "      <td>gaming</td>\n",
       "      <td>2507066.0</td>\n",
       "      <td>2974.0</td>\n",
       "      <td>21325</td>\n",
       "    </tr>\n",
       "  </tbody>\n",
       "</table>\n",
       "</div>"
      ],
      "text/plain": [
       "   post_id  user_id  country category     #views  #comments  #likes\n",
       "0   141569    13588       13   gaming  2403572.0     5606.0  107865\n",
       "1   278047     5601       13   gaming  1421234.0     7316.0   68570\n",
       "2   278280    31823       13   gaming  1460690.0     9924.0  136786\n",
       "3   161305    14424       13   gaming  1463710.0     1087.0   62590\n",
       "4   340945     8532       13   gaming  2507066.0     2974.0   21325"
      ]
     },
     "execution_count": 6,
     "metadata": {},
     "output_type": "execute_result"
    }
   ],
   "source": [
    "training_data.head()"
   ]
  },
  {
   "cell_type": "code",
   "execution_count": 7,
   "metadata": {},
   "outputs": [
    {
     "data": {
      "text/plain": [
       "post_id          0\n",
       "user_id          0\n",
       "country          0\n",
       "category         0\n",
       "#views          35\n",
       "#comments    10611\n",
       "#likes           0\n",
       "dtype: int64"
      ]
     },
     "execution_count": 7,
     "metadata": {},
     "output_type": "execute_result"
    }
   ],
   "source": [
    "training_data.isnull().sum()"
   ]
  },
  {
   "cell_type": "code",
   "execution_count": 8,
   "metadata": {
    "scrolled": true
   },
   "outputs": [
    {
     "name": "stdout",
     "output_type": "stream",
     "text": [
      "post_id 369920\n",
      "user_id 38395\n",
      "country 15\n",
      "category 9\n"
     ]
    }
   ],
   "source": [
    "print(\"post_id\", len(training_data.post_id.unique()))\n",
    "print(\"user_id\" ,len(training_data.user_id.unique()))\n",
    "print(\"country\", len(training_data.country.unique()))\n",
    "print(\"category\", len(training_data.category.unique()))"
   ]
  },
  {
   "cell_type": "code",
   "execution_count": 9,
   "metadata": {},
   "outputs": [
    {
     "name": "stdout",
     "output_type": "stream",
     "text": [
      "<class 'pandas.core.frame.DataFrame'>\n",
      "RangeIndex: 158541 entries, 0 to 158540\n",
      "Data columns (total 6 columns):\n",
      "post_id      158541 non-null int64\n",
      "user_id      158541 non-null int64\n",
      "country      158541 non-null int64\n",
      "category     158541 non-null object\n",
      "#views       158527 non-null float64\n",
      "#comments    153990 non-null float64\n",
      "dtypes: float64(2), int64(3), object(1)\n",
      "memory usage: 7.3+ MB\n"
     ]
    }
   ],
   "source": [
    "testing_data.info()"
   ]
  },
  {
   "cell_type": "code",
   "execution_count": 10,
   "metadata": {},
   "outputs": [
    {
     "data": {
      "text/plain": [
       "post_id         0\n",
       "user_id         0\n",
       "country         0\n",
       "category        0\n",
       "#views         14\n",
       "#comments    4551\n",
       "dtype: int64"
      ]
     },
     "execution_count": 10,
     "metadata": {},
     "output_type": "execute_result"
    }
   ],
   "source": [
    "testing_data.isna().sum()"
   ]
  },
  {
   "cell_type": "markdown",
   "metadata": {},
   "source": [
    "# Handling Missing Values\n",
    "\n",
    "Missing values are present in\n",
    "1. Views column\n",
    "    - Take #views equals to #commments\n",
    "2. Comments column\n",
    "    - Take avaerage of no of comments based on user_id    "
   ]
  },
  {
   "cell_type": "markdown",
   "metadata": {},
   "source": [
    "### Views Column"
   ]
  },
  {
   "cell_type": "code",
   "execution_count": 11,
   "metadata": {},
   "outputs": [],
   "source": [
    "def handle_views_col(df):\n",
    "    print(df)\n",
    "    df1 = df.dropna(axis = 0, how = \"any\")\n",
    "    df1.reset_index(inplace = True)\n",
    "    print(df1)\n",
    "    df2 = df[df.isna().any(axis = 1)]\n",
    "    df2.reset_index(inplace = True)\n",
    "    print(df2)\n",
    "    for i in range(df2.shape[0]):\n",
    "        if df2[[\"#views\"]].iloc[i].isna().values[0]:\n",
    "            df2.at[i, \"#views\"] = df2[[\"#comments\"]].iloc[i].values[0]\n",
    "    df3 = pd.concat([df1, df2])\n",
    "    return df3"
   ]
  },
  {
   "cell_type": "code",
   "execution_count": 12,
   "metadata": {},
   "outputs": [],
   "source": [
    "df1 = training_data.dropna(axis = 0, how = \"any\")\n",
    "df1.reset_index(inplace = True)\n",
    "df2 = training_data[training_data.isna().any(axis = 1)]\n",
    "df2.reset_index(inplace = True)\n",
    "for i in range(df2.shape[0]):\n",
    "    if df2[[\"#views\"]].iloc[i].isna().values[0]:\n",
    "        df2.at[i, \"#views\"] = df2[[\"#comments\"]].iloc[i].values[0]\n",
    "df3_view_train = pd.concat([df1, df2])"
   ]
  },
  {
   "cell_type": "code",
   "execution_count": 13,
   "metadata": {},
   "outputs": [
    {
     "name": "stdout",
     "output_type": "stream",
     "text": [
      "<class 'pandas.core.frame.DataFrame'>\n",
      "Int64Index: 369920 entries, 0 to 10645\n",
      "Data columns (total 8 columns):\n",
      "index        369920 non-null int64\n",
      "post_id      369920 non-null int64\n",
      "user_id      369920 non-null int64\n",
      "country      369920 non-null int64\n",
      "category     369920 non-null object\n",
      "#views       369920 non-null float64\n",
      "#comments    359309 non-null float64\n",
      "#likes       369920 non-null int64\n",
      "dtypes: float64(2), int64(5), object(1)\n",
      "memory usage: 25.4+ MB\n"
     ]
    }
   ],
   "source": [
    "df3_view_train.info()"
   ]
  },
  {
   "cell_type": "code",
   "execution_count": 14,
   "metadata": {},
   "outputs": [],
   "source": [
    "df1 = testing_data.dropna(axis = 0, how = \"any\")\n",
    "df1.reset_index(inplace = True)\n",
    "# print(df1)\n",
    "df2 = testing_data[testing_data.isna().any(axis = 1)]\n",
    "df2.reset_index(inplace = True)\n",
    "# print(df2)\n",
    "for i in range(df2.shape[0]):\n",
    "    if df2[[\"#views\"]].iloc[i].isna().values[0]:\n",
    "        df2.at[i, \"#views\"] = df2[[\"#comments\"]].iloc[i].values[0]\n",
    "df3_view_test = pd.concat([df1, df2])"
   ]
  },
  {
   "cell_type": "code",
   "execution_count": 15,
   "metadata": {},
   "outputs": [
    {
     "name": "stdout",
     "output_type": "stream",
     "text": [
      "<class 'pandas.core.frame.DataFrame'>\n",
      "Int64Index: 158541 entries, 0 to 4564\n",
      "Data columns (total 7 columns):\n",
      "index        158541 non-null int64\n",
      "post_id      158541 non-null int64\n",
      "user_id      158541 non-null int64\n",
      "country      158541 non-null int64\n",
      "category     158541 non-null object\n",
      "#views       158541 non-null float64\n",
      "#comments    153990 non-null float64\n",
      "dtypes: float64(2), int64(4), object(1)\n",
      "memory usage: 9.7+ MB\n"
     ]
    }
   ],
   "source": [
    "df3_view_test.info()"
   ]
  },
  {
   "cell_type": "markdown",
   "metadata": {},
   "source": [
    "### Comments Column - Training Set"
   ]
  },
  {
   "cell_type": "code",
   "execution_count": 16,
   "metadata": {},
   "outputs": [],
   "source": [
    "training_data = df3_view_train[[\"post_id\", \"user_id\", \"country\", \"category\", \"#views\", \"#comments\", \"#likes\"]]"
   ]
  },
  {
   "cell_type": "code",
   "execution_count": 17,
   "metadata": {},
   "outputs": [],
   "source": [
    "df1 = training_data.dropna(axis = 0, how = \"any\")\n",
    "df1.reset_index(inplace = True)\n",
    "\n",
    "df2 = training_data[training_data.isna().any(axis = 1)]\n",
    "df2.reset_index(inplace = True)"
   ]
  },
  {
   "cell_type": "code",
   "execution_count": 18,
   "metadata": {},
   "outputs": [],
   "source": [
    "user_list = list(df1.user_id.unique())\n",
    "user_avg_data = {}\n",
    "for user in user_list:\n",
    "    df_temp = df1[df1['user_id'] == user]\n",
    "    comments = list(df_temp['#comments'].to_numpy())\n",
    "    if len(comments) > 0:\n",
    "        avg_comments = sum(comments)/len(comments)\n",
    "    else:\n",
    "        avg_comments = 0\n",
    "    user_avg_data[user] = avg_comments"
   ]
  },
  {
   "cell_type": "code",
   "execution_count": 19,
   "metadata": {},
   "outputs": [],
   "source": [
    "for i in range(df2.shape[0]):\n",
    "    user_id = df2[[\"user_id\"]].iloc[i].values[0]\n",
    "    if user_id in user_avg_data:\n",
    "        df2.at[i, \"#comments\"] = user_avg_data[user_id]\n",
    "    else:\n",
    "        df2.at[i, \"#comments\"] = 0"
   ]
  },
  {
   "cell_type": "code",
   "execution_count": 20,
   "metadata": {},
   "outputs": [
    {
     "name": "stdout",
     "output_type": "stream",
     "text": [
      "<class 'pandas.core.frame.DataFrame'>\n",
      "Int64Index: 369920 entries, 0 to 10610\n",
      "Data columns (total 8 columns):\n",
      "index        369920 non-null int64\n",
      "post_id      369920 non-null int64\n",
      "user_id      369920 non-null int64\n",
      "country      369920 non-null int64\n",
      "category     369920 non-null object\n",
      "#views       369920 non-null float64\n",
      "#comments    369920 non-null float64\n",
      "#likes       369920 non-null int64\n",
      "dtypes: float64(2), int64(5), object(1)\n",
      "memory usage: 25.4+ MB\n"
     ]
    }
   ],
   "source": [
    "df3_col_train = pd.concat([df1, df2])\n",
    "df3_col_train.info()"
   ]
  },
  {
   "cell_type": "code",
   "execution_count": 21,
   "metadata": {},
   "outputs": [
    {
     "data": {
      "text/plain": [
       "post_id      0\n",
       "user_id      0\n",
       "country      0\n",
       "category     0\n",
       "#views       0\n",
       "#comments    0\n",
       "#likes       0\n",
       "dtype: int64"
      ]
     },
     "execution_count": 21,
     "metadata": {},
     "output_type": "execute_result"
    }
   ],
   "source": [
    "training_data = df3_col_train[[\"post_id\", \"user_id\", \"country\", \"category\", \"#views\", \"#comments\", \"#likes\"]]\n",
    "training_data.isna().sum()"
   ]
  },
  {
   "cell_type": "markdown",
   "metadata": {},
   "source": [
    "### Comments Column - testing set"
   ]
  },
  {
   "cell_type": "code",
   "execution_count": 22,
   "metadata": {},
   "outputs": [],
   "source": [
    "testing_data = df3_view_test[[\"post_id\", \"user_id\", \"country\", \"category\", \"#views\", \"#comments\"]]"
   ]
  },
  {
   "cell_type": "code",
   "execution_count": 23,
   "metadata": {},
   "outputs": [],
   "source": [
    "df1 = testing_data.dropna(axis = 0, how = \"any\")\n",
    "df1.reset_index(inplace = True)\n",
    "\n",
    "df2 = testing_data[testing_data.isna().any(axis = 1)]\n",
    "df2.reset_index(inplace = True)"
   ]
  },
  {
   "cell_type": "code",
   "execution_count": 24,
   "metadata": {},
   "outputs": [],
   "source": [
    "for i in range(df2.shape[0]):\n",
    "    user_id = df2[[\"user_id\"]].iloc[i].values[0]\n",
    "    if user_id in user_avg_data:\n",
    "        df2.at[i, \"#comments\"] = user_avg_data[user_id]\n",
    "    else:\n",
    "        df2.at[i, \"#comments\"] = 0"
   ]
  },
  {
   "cell_type": "code",
   "execution_count": 25,
   "metadata": {},
   "outputs": [
    {
     "name": "stdout",
     "output_type": "stream",
     "text": [
      "<class 'pandas.core.frame.DataFrame'>\n",
      "Int64Index: 158541 entries, 0 to 4550\n",
      "Data columns (total 7 columns):\n",
      "index        158541 non-null int64\n",
      "post_id      158541 non-null int64\n",
      "user_id      158541 non-null int64\n",
      "country      158541 non-null int64\n",
      "category     158541 non-null object\n",
      "#views       158541 non-null float64\n",
      "#comments    158541 non-null float64\n",
      "dtypes: float64(2), int64(4), object(1)\n",
      "memory usage: 9.7+ MB\n"
     ]
    }
   ],
   "source": [
    "df3_col_test = pd.concat([df1, df2])\n",
    "df3_col_test.info()"
   ]
  },
  {
   "cell_type": "code",
   "execution_count": 26,
   "metadata": {},
   "outputs": [],
   "source": [
    "testing_data = df3_col_test[[\"post_id\", \"user_id\", \"country\", \"category\", \"#views\", \"#comments\"]]"
   ]
  },
  {
   "cell_type": "code",
   "execution_count": 27,
   "metadata": {},
   "outputs": [
    {
     "data": {
      "text/plain": [
       "post_id      0\n",
       "user_id      0\n",
       "country      0\n",
       "category     0\n",
       "#views       0\n",
       "#comments    0\n",
       "dtype: int64"
      ]
     },
     "execution_count": 27,
     "metadata": {},
     "output_type": "execute_result"
    }
   ],
   "source": [
    "testing_data.isna().sum()"
   ]
  },
  {
   "cell_type": "code",
   "execution_count": 28,
   "metadata": {},
   "outputs": [],
   "source": [
    "training_data.to_csv(\"data/train_null_free.csv\")"
   ]
  },
  {
   "cell_type": "code",
   "execution_count": 29,
   "metadata": {},
   "outputs": [],
   "source": [
    "testing_data.to_csv(\"data/test_null_free.csv\")"
   ]
  },
  {
   "cell_type": "code",
   "execution_count": null,
   "metadata": {},
   "outputs": [],
   "source": []
  },
  {
   "cell_type": "markdown",
   "metadata": {},
   "source": [
    "# Outlier Removal in Training data"
   ]
  },
  {
   "cell_type": "code",
   "execution_count": 31,
   "metadata": {},
   "outputs": [],
   "source": [
    "df = pd.read_csv(\"data/train_null_free.csv\")"
   ]
  },
  {
   "cell_type": "code",
   "execution_count": 32,
   "metadata": {},
   "outputs": [],
   "source": [
    "views = df[\"#views\"].to_numpy()\n",
    "comments = df[\"#comments\"].to_numpy()"
   ]
  },
  {
   "cell_type": "code",
   "execution_count": 34,
   "metadata": {},
   "outputs": [
    {
     "data": {
      "image/png": "[encoded data removed]",
      "text/plain": [
       "<Figure size 432x288 with 1 Axes>"
      ]
     },
     "metadata": {
      "needs_background": "light"
     },
     "output_type": "display_data"
    }
   ],
   "source": [
    "plt.hist(views, bins=10)\n",
    "plt.show()"
   ]
  },
  {
   "cell_type": "code",
   "execution_count": 35,
   "metadata": {},
   "outputs": [
    {
     "data": {
      "image/png": "[encoded data removed]",
      "text/plain": [
       "<Figure size 432x288 with 1 Axes>"
      ]
     },
     "metadata": {
      "needs_background": "light"
     },
     "output_type": "display_data"
    }
   ],
   "source": [
    "plt.hist(comments, bins=10)\n",
    "plt.show()"
   ]
  },
  {
   "cell_type": "markdown",
   "metadata": {},
   "source": [
    "#### Interpretation\n",
    "- There are some outliers in both views column and comments column\n",
    "- I am going to remove them using z-score method\n",
    "- if z-score of val is > 3 than val is outlier"
   ]
  },
  {
   "cell_type": "code",
   "execution_count": 41,
   "metadata": {},
   "outputs": [],
   "source": [
    "mean_v = np.mean(views)\n",
    "std_v = np.std(views)\n",
    "views_z = (views - mean_v)/std_v\n",
    "df[\"views_z\"] = views_z"
   ]
  },
  {
   "cell_type": "code",
   "execution_count": 39,
   "metadata": {},
   "outputs": [],
   "source": [
    "mean_c = np.mean(comments)\n",
    "std_c = np.std(comments)\n",
    "comments_z = (comments - mean_c)/std_c\n",
    "df[\"comments_z\"] = comments_z"
   ]
  },
  {
   "cell_type": "code",
   "execution_count": 42,
   "metadata": {},
   "outputs": [
    {
     "data": {
      "text/html": [
       "<div>\n",
       "<style scoped>\n",
       "    .dataframe tbody tr th:only-of-type {\n",
       "        vertical-align: middle;\n",
       "    }\n",
       "\n",
       "    .dataframe tbody tr th {\n",
       "        vertical-align: top;\n",
       "    }\n",
       "\n",
       "    .dataframe thead th {\n",
       "        text-align: right;\n",
       "    }\n",
       "</style>\n",
       "<table border=\"1\" class=\"dataframe\">\n",
       "  <thead>\n",
       "    <tr style=\"text-align: right;\">\n",
       "      <th></th>\n",
       "      <th>Unnamed: 0</th>\n",
       "      <th>post_id</th>\n",
       "      <th>user_id</th>\n",
       "      <th>country</th>\n",
       "      <th>category</th>\n",
       "      <th>#views</th>\n",
       "      <th>#comments</th>\n",
       "      <th>#likes</th>\n",
       "      <th>comments_z</th>\n",
       "      <th>views_z</th>\n",
       "    </tr>\n",
       "  </thead>\n",
       "  <tbody>\n",
       "    <tr>\n",
       "      <td>0</td>\n",
       "      <td>0</td>\n",
       "      <td>141569</td>\n",
       "      <td>13588</td>\n",
       "      <td>13</td>\n",
       "      <td>gaming</td>\n",
       "      <td>2403572.0</td>\n",
       "      <td>5606.000000</td>\n",
       "      <td>107865</td>\n",
       "      <td>0.302763</td>\n",
       "      <td>1.172867</td>\n",
       "    </tr>\n",
       "    <tr>\n",
       "      <td>1</td>\n",
       "      <td>1</td>\n",
       "      <td>278047</td>\n",
       "      <td>5601</td>\n",
       "      <td>13</td>\n",
       "      <td>gaming</td>\n",
       "      <td>1421234.0</td>\n",
       "      <td>7316.000000</td>\n",
       "      <td>68570</td>\n",
       "      <td>0.445920</td>\n",
       "      <td>0.567589</td>\n",
       "    </tr>\n",
       "    <tr>\n",
       "      <td>2</td>\n",
       "      <td>2</td>\n",
       "      <td>278280</td>\n",
       "      <td>31823</td>\n",
       "      <td>13</td>\n",
       "      <td>gaming</td>\n",
       "      <td>1460690.0</td>\n",
       "      <td>9924.000000</td>\n",
       "      <td>136786</td>\n",
       "      <td>0.664255</td>\n",
       "      <td>0.591900</td>\n",
       "    </tr>\n",
       "    <tr>\n",
       "      <td>3</td>\n",
       "      <td>3</td>\n",
       "      <td>161305</td>\n",
       "      <td>14424</td>\n",
       "      <td>13</td>\n",
       "      <td>gaming</td>\n",
       "      <td>1463710.0</td>\n",
       "      <td>1087.000000</td>\n",
       "      <td>62590</td>\n",
       "      <td>-0.075556</td>\n",
       "      <td>0.593761</td>\n",
       "    </tr>\n",
       "    <tr>\n",
       "      <td>4</td>\n",
       "      <td>4</td>\n",
       "      <td>340945</td>\n",
       "      <td>8532</td>\n",
       "      <td>13</td>\n",
       "      <td>gaming</td>\n",
       "      <td>2507066.0</td>\n",
       "      <td>2974.000000</td>\n",
       "      <td>21325</td>\n",
       "      <td>0.082419</td>\n",
       "      <td>1.236636</td>\n",
       "    </tr>\n",
       "    <tr>\n",
       "      <td>...</td>\n",
       "      <td>...</td>\n",
       "      <td>...</td>\n",
       "      <td>...</td>\n",
       "      <td>...</td>\n",
       "      <td>...</td>\n",
       "      <td>...</td>\n",
       "      <td>...</td>\n",
       "      <td>...</td>\n",
       "      <td>...</td>\n",
       "      <td>...</td>\n",
       "    </tr>\n",
       "    <tr>\n",
       "      <td>369915</td>\n",
       "      <td>10606</td>\n",
       "      <td>54629</td>\n",
       "      <td>3301</td>\n",
       "      <td>1</td>\n",
       "      <td>entertainment</td>\n",
       "      <td>2330730.0</td>\n",
       "      <td>4073.133333</td>\n",
       "      <td>34732</td>\n",
       "      <td>0.174435</td>\n",
       "      <td>1.127985</td>\n",
       "    </tr>\n",
       "    <tr>\n",
       "      <td>369916</td>\n",
       "      <td>10607</td>\n",
       "      <td>455654</td>\n",
       "      <td>28239</td>\n",
       "      <td>1</td>\n",
       "      <td>automotive</td>\n",
       "      <td>101291.0</td>\n",
       "      <td>0.000000</td>\n",
       "      <td>5397</td>\n",
       "      <td>-0.166557</td>\n",
       "      <td>-0.245708</td>\n",
       "    </tr>\n",
       "    <tr>\n",
       "      <td>369917</td>\n",
       "      <td>10608</td>\n",
       "      <td>339398</td>\n",
       "      <td>12540</td>\n",
       "      <td>1</td>\n",
       "      <td>animals</td>\n",
       "      <td>122548.0</td>\n",
       "      <td>5248.000000</td>\n",
       "      <td>6951</td>\n",
       "      <td>0.272792</td>\n",
       "      <td>-0.232611</td>\n",
       "    </tr>\n",
       "    <tr>\n",
       "      <td>369918</td>\n",
       "      <td>10609</td>\n",
       "      <td>283619</td>\n",
       "      <td>18768</td>\n",
       "      <td>1</td>\n",
       "      <td>howTo</td>\n",
       "      <td>232384.0</td>\n",
       "      <td>202.485714</td>\n",
       "      <td>11002</td>\n",
       "      <td>-0.149606</td>\n",
       "      <td>-0.164934</td>\n",
       "    </tr>\n",
       "    <tr>\n",
       "      <td>369919</td>\n",
       "      <td>10610</td>\n",
       "      <td>226074</td>\n",
       "      <td>29577</td>\n",
       "      <td>1</td>\n",
       "      <td>technology</td>\n",
       "      <td>78168.0</td>\n",
       "      <td>177.000000</td>\n",
       "      <td>2422</td>\n",
       "      <td>-0.151739</td>\n",
       "      <td>-0.259956</td>\n",
       "    </tr>\n",
       "  </tbody>\n",
       "</table>\n",
       "<p>369920 rows × 10 columns</p>\n",
       "</div>"
      ],
      "text/plain": [
       "        Unnamed: 0  post_id  user_id  country       category     #views  \\\n",
       "0                0   141569    13588       13         gaming  2403572.0   \n",
       "1                1   278047     5601       13         gaming  1421234.0   \n",
       "2                2   278280    31823       13         gaming  1460690.0   \n",
       "3                3   161305    14424       13         gaming  1463710.0   \n",
       "4                4   340945     8532       13         gaming  2507066.0   \n",
       "...            ...      ...      ...      ...            ...        ...   \n",
       "369915       10606    54629     3301        1  entertainment  2330730.0   \n",
       "369916       10607   455654    28239        1     automotive   101291.0   \n",
       "369917       10608   339398    12540        1        animals   122548.0   \n",
       "369918       10609   283619    18768        1          howTo   232384.0   \n",
       "369919       10610   226074    29577        1     technology    78168.0   \n",
       "\n",
       "          #comments  #likes  comments_z   views_z  \n",
       "0       5606.000000  107865    0.302763  1.172867  \n",
       "1       7316.000000   68570    0.445920  0.567589  \n",
       "2       9924.000000  136786    0.664255  0.591900  \n",
       "3       1087.000000   62590   -0.075556  0.593761  \n",
       "4       2974.000000   21325    0.082419  1.236636  \n",
       "...             ...     ...         ...       ...  \n",
       "369915  4073.133333   34732    0.174435  1.127985  \n",
       "369916     0.000000    5397   -0.166557 -0.245708  \n",
       "369917  5248.000000    6951    0.272792 -0.232611  \n",
       "369918   202.485714   11002   -0.149606 -0.164934  \n",
       "369919   177.000000    2422   -0.151739 -0.259956  \n",
       "\n",
       "[369920 rows x 10 columns]"
      ]
     },
     "execution_count": 42,
     "metadata": {},
     "output_type": "execute_result"
    }
   ],
   "source": [
    "df"
   ]
  },
  {
   "cell_type": "code",
   "execution_count": 43,
   "metadata": {},
   "outputs": [],
   "source": [
    "df1 = df[df[\"views_z\"] < 3]"
   ]
  },
  {
   "cell_type": "code",
   "execution_count": 47,
   "metadata": {},
   "outputs": [
    {
     "name": "stdout",
     "output_type": "stream",
     "text": [
      "(366381, 10)\n"
     ]
    },
    {
     "data": {
      "image/png": "[encoded data removed]",
      "text/plain": [
       "<Figure size 432x288 with 1 Axes>"
      ]
     },
     "metadata": {
      "needs_background": "light"
     },
     "output_type": "display_data"
    }
   ],
   "source": [
    "print(df1.shape)\n",
    "\n",
    "plt.hist(df1[\"#views\"].to_numpy(), bins=10)\n",
    "plt.show()"
   ]
  },
  {
   "cell_type": "code",
   "execution_count": 48,
   "metadata": {},
   "outputs": [],
   "source": [
    "df2 = df1[df1[\"comments_z\"] < 3]"
   ]
  },
  {
   "cell_type": "code",
   "execution_count": 50,
   "metadata": {},
   "outputs": [
    {
     "name": "stdout",
     "output_type": "stream",
     "text": [
      "(365610, 10)\n"
     ]
    },
    {
     "data": {
      "image/png": "[encoded data removed]",
      "text/plain": [
       "<Figure size 432x288 with 1 Axes>"
      ]
     },
     "metadata": {
      "needs_background": "light"
     },
     "output_type": "display_data"
    }
   ],
   "source": [
    "print(df2.shape)\n",
    "\n",
    "plt.hist(df2[\"#comments\"].to_numpy(), bins=10)\n",
    "plt.show()"
   ]
  },
  {
   "cell_type": "code",
   "execution_count": 51,
   "metadata": {},
   "outputs": [],
   "source": [
    "final_df = df2[[\"post_id\", \"user_id\", \"country\", \"category\", \"#views\", \"#comments\", \"#likes\"]]"
   ]
  },
  {
   "cell_type": "code",
   "execution_count": 53,
   "metadata": {},
   "outputs": [
    {
     "data": {
      "text/html": [
       "<div>\n",
       "<style scoped>\n",
       "    .dataframe tbody tr th:only-of-type {\n",
       "        vertical-align: middle;\n",
       "    }\n",
       "\n",
       "    .dataframe tbody tr th {\n",
       "        vertical-align: top;\n",
       "    }\n",
       "\n",
       "    .dataframe thead th {\n",
       "        text-align: right;\n",
       "    }\n",
       "</style>\n",
       "<table border=\"1\" class=\"dataframe\">\n",
       "  <thead>\n",
       "    <tr style=\"text-align: right;\">\n",
       "      <th></th>\n",
       "      <th>post_id</th>\n",
       "      <th>user_id</th>\n",
       "      <th>country</th>\n",
       "      <th>#views</th>\n",
       "      <th>#comments</th>\n",
       "      <th>#likes</th>\n",
       "    </tr>\n",
       "  </thead>\n",
       "  <tbody>\n",
       "    <tr>\n",
       "      <td>count</td>\n",
       "      <td>365610.000000</td>\n",
       "      <td>365610.000000</td>\n",
       "      <td>365610.000000</td>\n",
       "      <td>3.656100e+05</td>\n",
       "      <td>365610.000000</td>\n",
       "      <td>365610.000000</td>\n",
       "    </tr>\n",
       "    <tr>\n",
       "      <td>mean</td>\n",
       "      <td>264030.735921</td>\n",
       "      <td>21048.966899</td>\n",
       "      <td>6.697738</td>\n",
       "      <td>3.831308e+05</td>\n",
       "      <td>1517.369679</td>\n",
       "      <td>18531.081921</td>\n",
       "    </tr>\n",
       "    <tr>\n",
       "      <td>std</td>\n",
       "      <td>152591.477880</td>\n",
       "      <td>12092.552981</td>\n",
       "      <td>4.423148</td>\n",
       "      <td>6.284771e+05</td>\n",
       "      <td>3077.043851</td>\n",
       "      <td>36602.101071</td>\n",
       "    </tr>\n",
       "    <tr>\n",
       "      <td>min</td>\n",
       "      <td>0.000000</td>\n",
       "      <td>0.000000</td>\n",
       "      <td>0.000000</td>\n",
       "      <td>3.900000e+01</td>\n",
       "      <td>0.000000</td>\n",
       "      <td>1.000000</td>\n",
       "    </tr>\n",
       "    <tr>\n",
       "      <td>25%</td>\n",
       "      <td>131800.500000</td>\n",
       "      <td>10553.000000</td>\n",
       "      <td>3.000000</td>\n",
       "      <td>6.058325e+04</td>\n",
       "      <td>197.000000</td>\n",
       "      <td>2608.000000</td>\n",
       "    </tr>\n",
       "    <tr>\n",
       "      <td>50%</td>\n",
       "      <td>263954.000000</td>\n",
       "      <td>21210.000000</td>\n",
       "      <td>6.000000</td>\n",
       "      <td>1.539705e+05</td>\n",
       "      <td>549.000000</td>\n",
       "      <td>6865.000000</td>\n",
       "    </tr>\n",
       "    <tr>\n",
       "      <td>75%</td>\n",
       "      <td>396212.500000</td>\n",
       "      <td>31515.000000</td>\n",
       "      <td>11.000000</td>\n",
       "      <td>4.076370e+05</td>\n",
       "      <td>1461.000000</td>\n",
       "      <td>18560.000000</td>\n",
       "    </tr>\n",
       "    <tr>\n",
       "      <td>max</td>\n",
       "      <td>528460.000000</td>\n",
       "      <td>41773.000000</td>\n",
       "      <td>14.000000</td>\n",
       "      <td>5.368745e+06</td>\n",
       "      <td>37726.000000</td>\n",
       "      <td>990535.000000</td>\n",
       "    </tr>\n",
       "  </tbody>\n",
       "</table>\n",
       "</div>"
      ],
      "text/plain": [
       "             post_id        user_id        country        #views  \\\n",
       "count  365610.000000  365610.000000  365610.000000  3.656100e+05   \n",
       "mean   264030.735921   21048.966899       6.697738  3.831308e+05   \n",
       "std    152591.477880   12092.552981       4.423148  6.284771e+05   \n",
       "min         0.000000       0.000000       0.000000  3.900000e+01   \n",
       "25%    131800.500000   10553.000000       3.000000  6.058325e+04   \n",
       "50%    263954.000000   21210.000000       6.000000  1.539705e+05   \n",
       "75%    396212.500000   31515.000000      11.000000  4.076370e+05   \n",
       "max    528460.000000   41773.000000      14.000000  5.368745e+06   \n",
       "\n",
       "           #comments         #likes  \n",
       "count  365610.000000  365610.000000  \n",
       "mean     1517.369679   18531.081921  \n",
       "std      3077.043851   36602.101071  \n",
       "min         0.000000       1.000000  \n",
       "25%       197.000000    2608.000000  \n",
       "50%       549.000000    6865.000000  \n",
       "75%      1461.000000   18560.000000  \n",
       "max     37726.000000  990535.000000  "
      ]
     },
     "execution_count": 53,
     "metadata": {},
     "output_type": "execute_result"
    }
   ],
   "source": [
    "final_df.describe()"
   ]
  },
  {
   "cell_type": "code",
   "execution_count": 54,
   "metadata": {},
   "outputs": [],
   "source": [
    "final_df.to_csv(\"data/train_outlier_removal.csv\")"
   ]
  },
  {
   "cell_type": "markdown",
   "metadata": {},
   "source": [
    "# Data Normalization"
   ]
  },
  {
   "cell_type": "markdown",
   "metadata": {},
   "source": [
    "### Normalizing Training Data"
   ]
  },
  {
   "cell_type": "code",
   "execution_count": 65,
   "metadata": {},
   "outputs": [],
   "source": [
    "training_data = pd.read_csv(\"data/train_outlier_removal.csv\")\n",
    "training_data.reset_index(inplace = True)"
   ]
  },
  {
   "cell_type": "code",
   "execution_count": 69,
   "metadata": {},
   "outputs": [],
   "source": [
    "views = training_data[\"#views\"].to_numpy()\n",
    "views_mean = np.mean(views)\n",
    "views_std = np.std(views)\n",
    "\n",
    "comments = training_data[\"#comments\"].to_numpy()\n",
    "comments_mean = np.mean(comments)\n",
    "comments_std = np.std(comments)\n",
    "\n",
    "likes = training_data[\"#likes\"].to_numpy()\n",
    "likes_mean = np.mean(likes)\n",
    "likes_std = np.std(likes)"
   ]
  },
  {
   "cell_type": "code",
   "execution_count": 70,
   "metadata": {},
   "outputs": [],
   "source": [
    "training_data[\"norm_views\"] = (views - views_mean)/views_std\n",
    "training_data[\"norm_comments\"] = (comments - comments_mean)/comments_std\n",
    "training_data[\"norm_likes\"] = (likes - likes_mean)/likes_std"
   ]
  },
  {
   "cell_type": "code",
   "execution_count": 71,
   "metadata": {},
   "outputs": [
    {
     "data": {
      "text/html": [
       "<div>\n",
       "<style scoped>\n",
       "    .dataframe tbody tr th:only-of-type {\n",
       "        vertical-align: middle;\n",
       "    }\n",
       "\n",
       "    .dataframe tbody tr th {\n",
       "        vertical-align: top;\n",
       "    }\n",
       "\n",
       "    .dataframe thead th {\n",
       "        text-align: right;\n",
       "    }\n",
       "</style>\n",
       "<table border=\"1\" class=\"dataframe\">\n",
       "  <thead>\n",
       "    <tr style=\"text-align: right;\">\n",
       "      <th></th>\n",
       "      <th>index</th>\n",
       "      <th>Unnamed: 0</th>\n",
       "      <th>post_id</th>\n",
       "      <th>user_id</th>\n",
       "      <th>country</th>\n",
       "      <th>category</th>\n",
       "      <th>#views</th>\n",
       "      <th>#comments</th>\n",
       "      <th>#likes</th>\n",
       "      <th>norm_views</th>\n",
       "      <th>norm_comments</th>\n",
       "      <th>norm_likes</th>\n",
       "    </tr>\n",
       "  </thead>\n",
       "  <tbody>\n",
       "    <tr>\n",
       "      <td>0</td>\n",
       "      <td>0</td>\n",
       "      <td>0</td>\n",
       "      <td>141569</td>\n",
       "      <td>13588</td>\n",
       "      <td>13</td>\n",
       "      <td>gaming</td>\n",
       "      <td>2403572.0</td>\n",
       "      <td>5606.000000</td>\n",
       "      <td>107865</td>\n",
       "      <td>3.214825</td>\n",
       "      <td>1.328755</td>\n",
       "      <td>2.440681</td>\n",
       "    </tr>\n",
       "    <tr>\n",
       "      <td>1</td>\n",
       "      <td>1</td>\n",
       "      <td>1</td>\n",
       "      <td>278047</td>\n",
       "      <td>5601</td>\n",
       "      <td>13</td>\n",
       "      <td>gaming</td>\n",
       "      <td>1421234.0</td>\n",
       "      <td>7316.000000</td>\n",
       "      <td>68570</td>\n",
       "      <td>1.651778</td>\n",
       "      <td>1.884483</td>\n",
       "      <td>1.367107</td>\n",
       "    </tr>\n",
       "    <tr>\n",
       "      <td>2</td>\n",
       "      <td>2</td>\n",
       "      <td>2</td>\n",
       "      <td>278280</td>\n",
       "      <td>31823</td>\n",
       "      <td>13</td>\n",
       "      <td>gaming</td>\n",
       "      <td>1460690.0</td>\n",
       "      <td>9924.000000</td>\n",
       "      <td>136786</td>\n",
       "      <td>1.714558</td>\n",
       "      <td>2.732051</td>\n",
       "      <td>3.230828</td>\n",
       "    </tr>\n",
       "    <tr>\n",
       "      <td>3</td>\n",
       "      <td>3</td>\n",
       "      <td>3</td>\n",
       "      <td>161305</td>\n",
       "      <td>14424</td>\n",
       "      <td>13</td>\n",
       "      <td>gaming</td>\n",
       "      <td>1463710.0</td>\n",
       "      <td>1087.000000</td>\n",
       "      <td>62590</td>\n",
       "      <td>1.719364</td>\n",
       "      <td>-0.139865</td>\n",
       "      <td>1.203728</td>\n",
       "    </tr>\n",
       "    <tr>\n",
       "      <td>4</td>\n",
       "      <td>4</td>\n",
       "      <td>4</td>\n",
       "      <td>340945</td>\n",
       "      <td>8532</td>\n",
       "      <td>13</td>\n",
       "      <td>gaming</td>\n",
       "      <td>2507066.0</td>\n",
       "      <td>2974.000000</td>\n",
       "      <td>21325</td>\n",
       "      <td>3.379500</td>\n",
       "      <td>0.473387</td>\n",
       "      <td>0.076332</td>\n",
       "    </tr>\n",
       "    <tr>\n",
       "      <td>...</td>\n",
       "      <td>...</td>\n",
       "      <td>...</td>\n",
       "      <td>...</td>\n",
       "      <td>...</td>\n",
       "      <td>...</td>\n",
       "      <td>...</td>\n",
       "      <td>...</td>\n",
       "      <td>...</td>\n",
       "      <td>...</td>\n",
       "      <td>...</td>\n",
       "      <td>...</td>\n",
       "      <td>...</td>\n",
       "    </tr>\n",
       "    <tr>\n",
       "      <td>365605</td>\n",
       "      <td>365605</td>\n",
       "      <td>369915</td>\n",
       "      <td>54629</td>\n",
       "      <td>3301</td>\n",
       "      <td>1</td>\n",
       "      <td>entertainment</td>\n",
       "      <td>2330730.0</td>\n",
       "      <td>4073.133333</td>\n",
       "      <td>34732</td>\n",
       "      <td>3.098923</td>\n",
       "      <td>0.830592</td>\n",
       "      <td>0.442623</td>\n",
       "    </tr>\n",
       "    <tr>\n",
       "      <td>365606</td>\n",
       "      <td>365606</td>\n",
       "      <td>369916</td>\n",
       "      <td>455654</td>\n",
       "      <td>28239</td>\n",
       "      <td>1</td>\n",
       "      <td>automotive</td>\n",
       "      <td>101291.0</td>\n",
       "      <td>0.000000</td>\n",
       "      <td>5397</td>\n",
       "      <td>-0.448449</td>\n",
       "      <td>-0.493126</td>\n",
       "      <td>-0.358835</td>\n",
       "    </tr>\n",
       "    <tr>\n",
       "      <td>365607</td>\n",
       "      <td>365607</td>\n",
       "      <td>369917</td>\n",
       "      <td>339398</td>\n",
       "      <td>12540</td>\n",
       "      <td>1</td>\n",
       "      <td>animals</td>\n",
       "      <td>122548.0</td>\n",
       "      <td>5248.000000</td>\n",
       "      <td>6951</td>\n",
       "      <td>-0.414626</td>\n",
       "      <td>1.212409</td>\n",
       "      <td>-0.316378</td>\n",
       "    </tr>\n",
       "    <tr>\n",
       "      <td>365608</td>\n",
       "      <td>365608</td>\n",
       "      <td>369918</td>\n",
       "      <td>283619</td>\n",
       "      <td>18768</td>\n",
       "      <td>1</td>\n",
       "      <td>howTo</td>\n",
       "      <td>232384.0</td>\n",
       "      <td>202.485714</td>\n",
       "      <td>11002</td>\n",
       "      <td>-0.239861</td>\n",
       "      <td>-0.427321</td>\n",
       "      <td>-0.205701</td>\n",
       "    </tr>\n",
       "    <tr>\n",
       "      <td>365609</td>\n",
       "      <td>365609</td>\n",
       "      <td>369919</td>\n",
       "      <td>226074</td>\n",
       "      <td>29577</td>\n",
       "      <td>1</td>\n",
       "      <td>technology</td>\n",
       "      <td>78168.0</td>\n",
       "      <td>177.000000</td>\n",
       "      <td>2422</td>\n",
       "      <td>-0.485242</td>\n",
       "      <td>-0.435604</td>\n",
       "      <td>-0.440114</td>\n",
       "    </tr>\n",
       "  </tbody>\n",
       "</table>\n",
       "<p>365610 rows × 12 columns</p>\n",
       "</div>"
      ],
      "text/plain": [
       "         index  Unnamed: 0  post_id  user_id  country       category  \\\n",
       "0            0           0   141569    13588       13         gaming   \n",
       "1            1           1   278047     5601       13         gaming   \n",
       "2            2           2   278280    31823       13         gaming   \n",
       "3            3           3   161305    14424       13         gaming   \n",
       "4            4           4   340945     8532       13         gaming   \n",
       "...        ...         ...      ...      ...      ...            ...   \n",
       "365605  365605      369915    54629     3301        1  entertainment   \n",
       "365606  365606      369916   455654    28239        1     automotive   \n",
       "365607  365607      369917   339398    12540        1        animals   \n",
       "365608  365608      369918   283619    18768        1          howTo   \n",
       "365609  365609      369919   226074    29577        1     technology   \n",
       "\n",
       "           #views    #comments  #likes  norm_views  norm_comments  norm_likes  \n",
       "0       2403572.0  5606.000000  107865    3.214825       1.328755    2.440681  \n",
       "1       1421234.0  7316.000000   68570    1.651778       1.884483    1.367107  \n",
       "2       1460690.0  9924.000000  136786    1.714558       2.732051    3.230828  \n",
       "3       1463710.0  1087.000000   62590    1.719364      -0.139865    1.203728  \n",
       "4       2507066.0  2974.000000   21325    3.379500       0.473387    0.076332  \n",
       "...           ...          ...     ...         ...            ...         ...  \n",
       "365605  2330730.0  4073.133333   34732    3.098923       0.830592    0.442623  \n",
       "365606   101291.0     0.000000    5397   -0.448449      -0.493126   -0.358835  \n",
       "365607   122548.0  5248.000000    6951   -0.414626       1.212409   -0.316378  \n",
       "365608   232384.0   202.485714   11002   -0.239861      -0.427321   -0.205701  \n",
       "365609    78168.0   177.000000    2422   -0.485242      -0.435604   -0.440114  \n",
       "\n",
       "[365610 rows x 12 columns]"
      ]
     },
     "execution_count": 71,
     "metadata": {},
     "output_type": "execute_result"
    }
   ],
   "source": [
    "training_data"
   ]
  },
  {
   "cell_type": "markdown",
   "metadata": {},
   "source": [
    "### Testing Data Normalisation\n",
    "\n",
    "We are using the mean and standard deviation of training data to normalise testing data"
   ]
  },
  {
   "cell_type": "code",
   "execution_count": 72,
   "metadata": {},
   "outputs": [],
   "source": [
    "testing_data = pd.read_csv(\"data/test_null_free.csv\")"
   ]
  },
  {
   "cell_type": "code",
   "execution_count": 73,
   "metadata": {},
   "outputs": [],
   "source": [
    "views_test = testing_data[\"#views\"].to_numpy()\n",
    "comments_test = testing_data[\"#comments\"].to_numpy()\n",
    "\n",
    "testing_data[\"norm_views\"] = (views_test - views_mean)/views_std\n",
    "testing_data[\"norm_comments\"] = (comments_test - comments_mean)/comments_std"
   ]
  },
  {
   "cell_type": "code",
   "execution_count": 74,
   "metadata": {},
   "outputs": [
    {
     "data": {
      "text/html": [
       "<div>\n",
       "<style scoped>\n",
       "    .dataframe tbody tr th:only-of-type {\n",
       "        vertical-align: middle;\n",
       "    }\n",
       "\n",
       "    .dataframe tbody tr th {\n",
       "        vertical-align: top;\n",
       "    }\n",
       "\n",
       "    .dataframe thead th {\n",
       "        text-align: right;\n",
       "    }\n",
       "</style>\n",
       "<table border=\"1\" class=\"dataframe\">\n",
       "  <thead>\n",
       "    <tr style=\"text-align: right;\">\n",
       "      <th></th>\n",
       "      <th>Unnamed: 0</th>\n",
       "      <th>post_id</th>\n",
       "      <th>user_id</th>\n",
       "      <th>country</th>\n",
       "      <th>category</th>\n",
       "      <th>#views</th>\n",
       "      <th>#comments</th>\n",
       "      <th>norm_views</th>\n",
       "      <th>norm_comments</th>\n",
       "    </tr>\n",
       "  </thead>\n",
       "  <tbody>\n",
       "    <tr>\n",
       "      <td>0</td>\n",
       "      <td>0</td>\n",
       "      <td>54149</td>\n",
       "      <td>539</td>\n",
       "      <td>13</td>\n",
       "      <td>gaming</td>\n",
       "      <td>5162733.0</td>\n",
       "      <td>41547.000000</td>\n",
       "      <td>7.605065</td>\n",
       "      <td>13.009137</td>\n",
       "    </tr>\n",
       "    <tr>\n",
       "      <td>1</td>\n",
       "      <td>1</td>\n",
       "      <td>169258</td>\n",
       "      <td>24278</td>\n",
       "      <td>13</td>\n",
       "      <td>gaming</td>\n",
       "      <td>2645253.0</td>\n",
       "      <td>21437.000000</td>\n",
       "      <td>3.599376</td>\n",
       "      <td>6.473635</td>\n",
       "    </tr>\n",
       "    <tr>\n",
       "      <td>2</td>\n",
       "      <td>2</td>\n",
       "      <td>236048</td>\n",
       "      <td>32636</td>\n",
       "      <td>13</td>\n",
       "      <td>gaming</td>\n",
       "      <td>1037161.0</td>\n",
       "      <td>8775.000000</td>\n",
       "      <td>1.040660</td>\n",
       "      <td>2.358640</td>\n",
       "    </tr>\n",
       "    <tr>\n",
       "      <td>3</td>\n",
       "      <td>3</td>\n",
       "      <td>50631</td>\n",
       "      <td>20906</td>\n",
       "      <td>13</td>\n",
       "      <td>gaming</td>\n",
       "      <td>1061029.0</td>\n",
       "      <td>6544.000000</td>\n",
       "      <td>1.078638</td>\n",
       "      <td>1.633593</td>\n",
       "    </tr>\n",
       "    <tr>\n",
       "      <td>4</td>\n",
       "      <td>4</td>\n",
       "      <td>53051</td>\n",
       "      <td>526</td>\n",
       "      <td>13</td>\n",
       "      <td>gaming</td>\n",
       "      <td>526061.0</td>\n",
       "      <td>610.000000</td>\n",
       "      <td>0.227423</td>\n",
       "      <td>-0.294884</td>\n",
       "    </tr>\n",
       "    <tr>\n",
       "      <td>...</td>\n",
       "      <td>...</td>\n",
       "      <td>...</td>\n",
       "      <td>...</td>\n",
       "      <td>...</td>\n",
       "      <td>...</td>\n",
       "      <td>...</td>\n",
       "      <td>...</td>\n",
       "      <td>...</td>\n",
       "      <td>...</td>\n",
       "    </tr>\n",
       "    <tr>\n",
       "      <td>158536</td>\n",
       "      <td>4546</td>\n",
       "      <td>339911</td>\n",
       "      <td>11005</td>\n",
       "      <td>1</td>\n",
       "      <td>comedy</td>\n",
       "      <td>2110881.0</td>\n",
       "      <td>80.800000</td>\n",
       "      <td>2.749110</td>\n",
       "      <td>-0.466867</td>\n",
       "    </tr>\n",
       "    <tr>\n",
       "      <td>158537</td>\n",
       "      <td>4547</td>\n",
       "      <td>155630</td>\n",
       "      <td>8818</td>\n",
       "      <td>1</td>\n",
       "      <td>comedy</td>\n",
       "      <td>1545115.0</td>\n",
       "      <td>47.250000</td>\n",
       "      <td>1.848891</td>\n",
       "      <td>-0.477771</td>\n",
       "    </tr>\n",
       "    <tr>\n",
       "      <td>158538</td>\n",
       "      <td>4548</td>\n",
       "      <td>53041</td>\n",
       "      <td>17871</td>\n",
       "      <td>1</td>\n",
       "      <td>howTo</td>\n",
       "      <td>259282.0</td>\n",
       "      <td>865.625000</td>\n",
       "      <td>-0.197062</td>\n",
       "      <td>-0.211809</td>\n",
       "    </tr>\n",
       "    <tr>\n",
       "      <td>158539</td>\n",
       "      <td>4549</td>\n",
       "      <td>383854</td>\n",
       "      <td>18768</td>\n",
       "      <td>1</td>\n",
       "      <td>technology</td>\n",
       "      <td>83245.0</td>\n",
       "      <td>202.485714</td>\n",
       "      <td>-0.477163</td>\n",
       "      <td>-0.427321</td>\n",
       "    </tr>\n",
       "    <tr>\n",
       "      <td>158540</td>\n",
       "      <td>4550</td>\n",
       "      <td>195479</td>\n",
       "      <td>18716</td>\n",
       "      <td>1</td>\n",
       "      <td>technology</td>\n",
       "      <td>90388.0</td>\n",
       "      <td>1006.307692</td>\n",
       "      <td>-0.465798</td>\n",
       "      <td>-0.166089</td>\n",
       "    </tr>\n",
       "  </tbody>\n",
       "</table>\n",
       "<p>158541 rows × 9 columns</p>\n",
       "</div>"
      ],
      "text/plain": [
       "        Unnamed: 0  post_id  user_id  country    category     #views  \\\n",
       "0                0    54149      539       13      gaming  5162733.0   \n",
       "1                1   169258    24278       13      gaming  2645253.0   \n",
       "2                2   236048    32636       13      gaming  1037161.0   \n",
       "3                3    50631    20906       13      gaming  1061029.0   \n",
       "4                4    53051      526       13      gaming   526061.0   \n",
       "...            ...      ...      ...      ...         ...        ...   \n",
       "158536        4546   339911    11005        1      comedy  2110881.0   \n",
       "158537        4547   155630     8818        1      comedy  1545115.0   \n",
       "158538        4548    53041    17871        1       howTo   259282.0   \n",
       "158539        4549   383854    18768        1  technology    83245.0   \n",
       "158540        4550   195479    18716        1  technology    90388.0   \n",
       "\n",
       "           #comments  norm_views  norm_comments  \n",
       "0       41547.000000    7.605065      13.009137  \n",
       "1       21437.000000    3.599376       6.473635  \n",
       "2        8775.000000    1.040660       2.358640  \n",
       "3        6544.000000    1.078638       1.633593  \n",
       "4         610.000000    0.227423      -0.294884  \n",
       "...              ...         ...            ...  \n",
       "158536     80.800000    2.749110      -0.466867  \n",
       "158537     47.250000    1.848891      -0.477771  \n",
       "158538    865.625000   -0.197062      -0.211809  \n",
       "158539    202.485714   -0.477163      -0.427321  \n",
       "158540   1006.307692   -0.465798      -0.166089  \n",
       "\n",
       "[158541 rows x 9 columns]"
      ]
     },
     "execution_count": 74,
     "metadata": {},
     "output_type": "execute_result"
    }
   ],
   "source": [
    "testing_data"
   ]
  },
  {
   "cell_type": "markdown",
   "metadata": {},
   "source": [
    "# One-Hot encoding of Category and Country Columnns\n",
    "\n",
    "In both Training and Testing Data"
   ]
  },
  {
   "cell_type": "code",
   "execution_count": 78,
   "metadata": {},
   "outputs": [],
   "source": [
    "category_list = list(training_data.category.unique())\n",
    "\n",
    "def get_category_val(cat):\n",
    "    one_hot = np.zeros((len(category_list)), dtype = int)\n",
    "    index = category_dict[cat]\n",
    "    one_hot[index] = 1\n",
    "    return one_hot\n",
    "\n",
    "category_encoding = {}\n",
    "for category in category_list:\n",
    "    category_encoding[category] = get_category_val(category)"
   ]
  },
  {
   "cell_type": "code",
   "execution_count": 79,
   "metadata": {},
   "outputs": [
    {
     "data": {
      "text/plain": [
       "{'gaming': array([1, 0, 0, 0, 0, 0, 0, 0, 0]),\n",
       " 'sports': array([0, 1, 0, 0, 0, 0, 0, 0, 0]),\n",
       " 'entertainment': array([0, 0, 1, 0, 0, 0, 0, 0, 0]),\n",
       " 'automotive': array([0, 0, 0, 1, 0, 0, 0, 0, 0]),\n",
       " 'music': array([0, 0, 0, 0, 1, 0, 0, 0, 0]),\n",
       " 'animals': array([0, 0, 0, 0, 0, 1, 0, 0, 0]),\n",
       " 'comedy': array([0, 0, 0, 0, 0, 0, 1, 0, 0]),\n",
       " 'howTo': array([0, 0, 0, 0, 0, 0, 0, 1, 0]),\n",
       " 'technology': array([0, 0, 0, 0, 0, 0, 0, 0, 1])}"
      ]
     },
     "execution_count": 79,
     "metadata": {},
     "output_type": "execute_result"
    }
   ],
   "source": [
    "category_encoding"
   ]
  },
  {
   "cell_type": "code",
   "execution_count": 80,
   "metadata": {},
   "outputs": [],
   "source": [
    "country_list = [0,1,2,3,4,5,6,7,8,9,10,11,12,13,14]\n",
    "\n",
    "def get_country_enc(country):\n",
    "    one_hot = np.zeros((len(country_list)), dtype = int)\n",
    "    one_hot[int(country)] = 1\n",
    "    return one_hot\n",
    "\n",
    "country_encoding = {}\n",
    "for country in country_list:\n",
    "    country_encoding[country] = get_country_enc(country)"
   ]
  },
  {
   "cell_type": "code",
   "execution_count": 81,
   "metadata": {},
   "outputs": [
    {
     "data": {
      "text/plain": [
       "{0: array([1, 0, 0, 0, 0, 0, 0, 0, 0, 0, 0, 0, 0, 0, 0]),\n",
       " 1: array([0, 1, 0, 0, 0, 0, 0, 0, 0, 0, 0, 0, 0, 0, 0]),\n",
       " 2: array([0, 0, 1, 0, 0, 0, 0, 0, 0, 0, 0, 0, 0, 0, 0]),\n",
       " 3: array([0, 0, 0, 1, 0, 0, 0, 0, 0, 0, 0, 0, 0, 0, 0]),\n",
       " 4: array([0, 0, 0, 0, 1, 0, 0, 0, 0, 0, 0, 0, 0, 0, 0]),\n",
       " 5: array([0, 0, 0, 0, 0, 1, 0, 0, 0, 0, 0, 0, 0, 0, 0]),\n",
       " 6: array([0, 0, 0, 0, 0, 0, 1, 0, 0, 0, 0, 0, 0, 0, 0]),\n",
       " 7: array([0, 0, 0, 0, 0, 0, 0, 1, 0, 0, 0, 0, 0, 0, 0]),\n",
       " 8: array([0, 0, 0, 0, 0, 0, 0, 0, 1, 0, 0, 0, 0, 0, 0]),\n",
       " 9: array([0, 0, 0, 0, 0, 0, 0, 0, 0, 1, 0, 0, 0, 0, 0]),\n",
       " 10: array([0, 0, 0, 0, 0, 0, 0, 0, 0, 0, 1, 0, 0, 0, 0]),\n",
       " 11: array([0, 0, 0, 0, 0, 0, 0, 0, 0, 0, 0, 1, 0, 0, 0]),\n",
       " 12: array([0, 0, 0, 0, 0, 0, 0, 0, 0, 0, 0, 0, 1, 0, 0]),\n",
       " 13: array([0, 0, 0, 0, 0, 0, 0, 0, 0, 0, 0, 0, 0, 1, 0]),\n",
       " 14: array([0, 0, 0, 0, 0, 0, 0, 0, 0, 0, 0, 0, 0, 0, 1])}"
      ]
     },
     "execution_count": 81,
     "metadata": {},
     "output_type": "execute_result"
    }
   ],
   "source": [
    "country_encoding"
   ]
  },
  {
   "cell_type": "code",
   "execution_count": 120,
   "metadata": {
    "scrolled": true
   },
   "outputs": [],
   "source": [
    "for i in range(training_data.shape[0]):\n",
    "    \n",
    "    category_val = category_encoding[training_data[[\"category\"]].iloc[i].values[0]]\n",
    "    training_data.at[i, \"cat1\"] = category_val[0]\n",
    "    training_data.at[i, \"cat2\"] = category_val[1]\n",
    "    training_data.at[i, \"cat3\"] = category_val[2]\n",
    "    training_data.at[i, \"cat4\"] = category_val[3]\n",
    "    training_data.at[i, \"cat5\"] = category_val[4]\n",
    "    training_data.at[i, \"cat6\"] = category_val[5]\n",
    "    training_data.at[i, \"cat7\"] = category_val[6]\n",
    "    training_data.at[i, \"cat8\"] = category_val[7]\n",
    "    training_data.at[i, \"cat9\"] = category_val[8]\n",
    "    \n",
    "    country_val = country_encoding[training_data[[\"country\"]].iloc[i].values[0]]\n",
    "    training_data.at[i, \"count1\"] = country_val[0]\n",
    "    training_data.at[i, \"count2\"] = country_val[1]\n",
    "    training_data.at[i, \"count3\"] = country_val[2]\n",
    "    training_data.at[i, \"count4\"] = country_val[3]\n",
    "    training_data.at[i, \"count5\"] = country_val[4]\n",
    "    training_data.at[i, \"count6\"] = country_val[5]\n",
    "    training_data.at[i, \"count7\"] = country_val[6]\n",
    "    training_data.at[i, \"count8\"] = country_val[7]\n",
    "    training_data.at[i, \"count9\"] = country_val[8]\n",
    "    training_data.at[i, \"count10\"] = country_val[9]\n",
    "    training_data.at[i, \"count11\"] = country_val[10]\n",
    "    training_data.at[i, \"count12\"] = country_val[11]\n",
    "    training_data.at[i, \"count13\"] = country_val[12]\n",
    "    training_data.at[i, \"count14\"] = country_val[13]\n",
    "    training_data.at[i, \"count15\"] = country_val[14]\n",
    "    \n",
    "#     if i%5000 == 0: print(i)"
   ]
  },
  {
   "cell_type": "code",
   "execution_count": 83,
   "metadata": {},
   "outputs": [],
   "source": [
    "training_data.to_csv(\"data/train_data_normalise.csv\")"
   ]
  },
  {
   "cell_type": "code",
   "execution_count": 84,
   "metadata": {},
   "outputs": [
    {
     "data": {
      "text/html": [
       "<div>\n",
       "<style scoped>\n",
       "    .dataframe tbody tr th:only-of-type {\n",
       "        vertical-align: middle;\n",
       "    }\n",
       "\n",
       "    .dataframe tbody tr th {\n",
       "        vertical-align: top;\n",
       "    }\n",
       "\n",
       "    .dataframe thead th {\n",
       "        text-align: right;\n",
       "    }\n",
       "</style>\n",
       "<table border=\"1\" class=\"dataframe\">\n",
       "  <thead>\n",
       "    <tr style=\"text-align: right;\">\n",
       "      <th></th>\n",
       "      <th>index</th>\n",
       "      <th>Unnamed: 0</th>\n",
       "      <th>post_id</th>\n",
       "      <th>user_id</th>\n",
       "      <th>country</th>\n",
       "      <th>category</th>\n",
       "      <th>#views</th>\n",
       "      <th>#comments</th>\n",
       "      <th>#likes</th>\n",
       "      <th>norm_views</th>\n",
       "      <th>...</th>\n",
       "      <th>count6</th>\n",
       "      <th>count7</th>\n",
       "      <th>count8</th>\n",
       "      <th>count9</th>\n",
       "      <th>count10</th>\n",
       "      <th>count11</th>\n",
       "      <th>count12</th>\n",
       "      <th>count13</th>\n",
       "      <th>count14</th>\n",
       "      <th>count15</th>\n",
       "    </tr>\n",
       "  </thead>\n",
       "  <tbody>\n",
       "    <tr>\n",
       "      <td>0</td>\n",
       "      <td>0</td>\n",
       "      <td>0</td>\n",
       "      <td>141569</td>\n",
       "      <td>13588</td>\n",
       "      <td>13</td>\n",
       "      <td>gaming</td>\n",
       "      <td>2403572.0</td>\n",
       "      <td>5606.000000</td>\n",
       "      <td>107865</td>\n",
       "      <td>3.214825</td>\n",
       "      <td>...</td>\n",
       "      <td>0.0</td>\n",
       "      <td>0.0</td>\n",
       "      <td>0.0</td>\n",
       "      <td>0.0</td>\n",
       "      <td>0.0</td>\n",
       "      <td>0.0</td>\n",
       "      <td>0.0</td>\n",
       "      <td>0.0</td>\n",
       "      <td>1.0</td>\n",
       "      <td>0.0</td>\n",
       "    </tr>\n",
       "    <tr>\n",
       "      <td>1</td>\n",
       "      <td>1</td>\n",
       "      <td>1</td>\n",
       "      <td>278047</td>\n",
       "      <td>5601</td>\n",
       "      <td>13</td>\n",
       "      <td>gaming</td>\n",
       "      <td>1421234.0</td>\n",
       "      <td>7316.000000</td>\n",
       "      <td>68570</td>\n",
       "      <td>1.651778</td>\n",
       "      <td>...</td>\n",
       "      <td>0.0</td>\n",
       "      <td>0.0</td>\n",
       "      <td>0.0</td>\n",
       "      <td>0.0</td>\n",
       "      <td>0.0</td>\n",
       "      <td>0.0</td>\n",
       "      <td>0.0</td>\n",
       "      <td>0.0</td>\n",
       "      <td>1.0</td>\n",
       "      <td>0.0</td>\n",
       "    </tr>\n",
       "    <tr>\n",
       "      <td>2</td>\n",
       "      <td>2</td>\n",
       "      <td>2</td>\n",
       "      <td>278280</td>\n",
       "      <td>31823</td>\n",
       "      <td>13</td>\n",
       "      <td>gaming</td>\n",
       "      <td>1460690.0</td>\n",
       "      <td>9924.000000</td>\n",
       "      <td>136786</td>\n",
       "      <td>1.714558</td>\n",
       "      <td>...</td>\n",
       "      <td>0.0</td>\n",
       "      <td>0.0</td>\n",
       "      <td>0.0</td>\n",
       "      <td>0.0</td>\n",
       "      <td>0.0</td>\n",
       "      <td>0.0</td>\n",
       "      <td>0.0</td>\n",
       "      <td>0.0</td>\n",
       "      <td>1.0</td>\n",
       "      <td>0.0</td>\n",
       "    </tr>\n",
       "    <tr>\n",
       "      <td>3</td>\n",
       "      <td>3</td>\n",
       "      <td>3</td>\n",
       "      <td>161305</td>\n",
       "      <td>14424</td>\n",
       "      <td>13</td>\n",
       "      <td>gaming</td>\n",
       "      <td>1463710.0</td>\n",
       "      <td>1087.000000</td>\n",
       "      <td>62590</td>\n",
       "      <td>1.719364</td>\n",
       "      <td>...</td>\n",
       "      <td>0.0</td>\n",
       "      <td>0.0</td>\n",
       "      <td>0.0</td>\n",
       "      <td>0.0</td>\n",
       "      <td>0.0</td>\n",
       "      <td>0.0</td>\n",
       "      <td>0.0</td>\n",
       "      <td>0.0</td>\n",
       "      <td>1.0</td>\n",
       "      <td>0.0</td>\n",
       "    </tr>\n",
       "    <tr>\n",
       "      <td>4</td>\n",
       "      <td>4</td>\n",
       "      <td>4</td>\n",
       "      <td>340945</td>\n",
       "      <td>8532</td>\n",
       "      <td>13</td>\n",
       "      <td>gaming</td>\n",
       "      <td>2507066.0</td>\n",
       "      <td>2974.000000</td>\n",
       "      <td>21325</td>\n",
       "      <td>3.379500</td>\n",
       "      <td>...</td>\n",
       "      <td>0.0</td>\n",
       "      <td>0.0</td>\n",
       "      <td>0.0</td>\n",
       "      <td>0.0</td>\n",
       "      <td>0.0</td>\n",
       "      <td>0.0</td>\n",
       "      <td>0.0</td>\n",
       "      <td>0.0</td>\n",
       "      <td>1.0</td>\n",
       "      <td>0.0</td>\n",
       "    </tr>\n",
       "    <tr>\n",
       "      <td>...</td>\n",
       "      <td>...</td>\n",
       "      <td>...</td>\n",
       "      <td>...</td>\n",
       "      <td>...</td>\n",
       "      <td>...</td>\n",
       "      <td>...</td>\n",
       "      <td>...</td>\n",
       "      <td>...</td>\n",
       "      <td>...</td>\n",
       "      <td>...</td>\n",
       "      <td>...</td>\n",
       "      <td>...</td>\n",
       "      <td>...</td>\n",
       "      <td>...</td>\n",
       "      <td>...</td>\n",
       "      <td>...</td>\n",
       "      <td>...</td>\n",
       "      <td>...</td>\n",
       "      <td>...</td>\n",
       "      <td>...</td>\n",
       "      <td>...</td>\n",
       "    </tr>\n",
       "    <tr>\n",
       "      <td>365605</td>\n",
       "      <td>365605</td>\n",
       "      <td>369915</td>\n",
       "      <td>54629</td>\n",
       "      <td>3301</td>\n",
       "      <td>1</td>\n",
       "      <td>entertainment</td>\n",
       "      <td>2330730.0</td>\n",
       "      <td>4073.133333</td>\n",
       "      <td>34732</td>\n",
       "      <td>3.098923</td>\n",
       "      <td>...</td>\n",
       "      <td>0.0</td>\n",
       "      <td>0.0</td>\n",
       "      <td>0.0</td>\n",
       "      <td>0.0</td>\n",
       "      <td>0.0</td>\n",
       "      <td>0.0</td>\n",
       "      <td>0.0</td>\n",
       "      <td>0.0</td>\n",
       "      <td>0.0</td>\n",
       "      <td>0.0</td>\n",
       "    </tr>\n",
       "    <tr>\n",
       "      <td>365606</td>\n",
       "      <td>365606</td>\n",
       "      <td>369916</td>\n",
       "      <td>455654</td>\n",
       "      <td>28239</td>\n",
       "      <td>1</td>\n",
       "      <td>automotive</td>\n",
       "      <td>101291.0</td>\n",
       "      <td>0.000000</td>\n",
       "      <td>5397</td>\n",
       "      <td>-0.448449</td>\n",
       "      <td>...</td>\n",
       "      <td>0.0</td>\n",
       "      <td>0.0</td>\n",
       "      <td>0.0</td>\n",
       "      <td>0.0</td>\n",
       "      <td>0.0</td>\n",
       "      <td>0.0</td>\n",
       "      <td>0.0</td>\n",
       "      <td>0.0</td>\n",
       "      <td>0.0</td>\n",
       "      <td>0.0</td>\n",
       "    </tr>\n",
       "    <tr>\n",
       "      <td>365607</td>\n",
       "      <td>365607</td>\n",
       "      <td>369917</td>\n",
       "      <td>339398</td>\n",
       "      <td>12540</td>\n",
       "      <td>1</td>\n",
       "      <td>animals</td>\n",
       "      <td>122548.0</td>\n",
       "      <td>5248.000000</td>\n",
       "      <td>6951</td>\n",
       "      <td>-0.414626</td>\n",
       "      <td>...</td>\n",
       "      <td>0.0</td>\n",
       "      <td>0.0</td>\n",
       "      <td>0.0</td>\n",
       "      <td>0.0</td>\n",
       "      <td>0.0</td>\n",
       "      <td>0.0</td>\n",
       "      <td>0.0</td>\n",
       "      <td>0.0</td>\n",
       "      <td>0.0</td>\n",
       "      <td>0.0</td>\n",
       "    </tr>\n",
       "    <tr>\n",
       "      <td>365608</td>\n",
       "      <td>365608</td>\n",
       "      <td>369918</td>\n",
       "      <td>283619</td>\n",
       "      <td>18768</td>\n",
       "      <td>1</td>\n",
       "      <td>howTo</td>\n",
       "      <td>232384.0</td>\n",
       "      <td>202.485714</td>\n",
       "      <td>11002</td>\n",
       "      <td>-0.239861</td>\n",
       "      <td>...</td>\n",
       "      <td>0.0</td>\n",
       "      <td>0.0</td>\n",
       "      <td>0.0</td>\n",
       "      <td>0.0</td>\n",
       "      <td>0.0</td>\n",
       "      <td>0.0</td>\n",
       "      <td>0.0</td>\n",
       "      <td>0.0</td>\n",
       "      <td>0.0</td>\n",
       "      <td>0.0</td>\n",
       "    </tr>\n",
       "    <tr>\n",
       "      <td>365609</td>\n",
       "      <td>365609</td>\n",
       "      <td>369919</td>\n",
       "      <td>226074</td>\n",
       "      <td>29577</td>\n",
       "      <td>1</td>\n",
       "      <td>technology</td>\n",
       "      <td>78168.0</td>\n",
       "      <td>177.000000</td>\n",
       "      <td>2422</td>\n",
       "      <td>-0.485242</td>\n",
       "      <td>...</td>\n",
       "      <td>0.0</td>\n",
       "      <td>0.0</td>\n",
       "      <td>0.0</td>\n",
       "      <td>0.0</td>\n",
       "      <td>0.0</td>\n",
       "      <td>0.0</td>\n",
       "      <td>0.0</td>\n",
       "      <td>0.0</td>\n",
       "      <td>0.0</td>\n",
       "      <td>0.0</td>\n",
       "    </tr>\n",
       "  </tbody>\n",
       "</table>\n",
       "<p>365610 rows × 36 columns</p>\n",
       "</div>"
      ],
      "text/plain": [
       "         index  Unnamed: 0  post_id  user_id  country       category  \\\n",
       "0            0           0   141569    13588       13         gaming   \n",
       "1            1           1   278047     5601       13         gaming   \n",
       "2            2           2   278280    31823       13         gaming   \n",
       "3            3           3   161305    14424       13         gaming   \n",
       "4            4           4   340945     8532       13         gaming   \n",
       "...        ...         ...      ...      ...      ...            ...   \n",
       "365605  365605      369915    54629     3301        1  entertainment   \n",
       "365606  365606      369916   455654    28239        1     automotive   \n",
       "365607  365607      369917   339398    12540        1        animals   \n",
       "365608  365608      369918   283619    18768        1          howTo   \n",
       "365609  365609      369919   226074    29577        1     technology   \n",
       "\n",
       "           #views    #comments  #likes  norm_views  ...  count6  count7  \\\n",
       "0       2403572.0  5606.000000  107865    3.214825  ...     0.0     0.0   \n",
       "1       1421234.0  7316.000000   68570    1.651778  ...     0.0     0.0   \n",
       "2       1460690.0  9924.000000  136786    1.714558  ...     0.0     0.0   \n",
       "3       1463710.0  1087.000000   62590    1.719364  ...     0.0     0.0   \n",
       "4       2507066.0  2974.000000   21325    3.379500  ...     0.0     0.0   \n",
       "...           ...          ...     ...         ...  ...     ...     ...   \n",
       "365605  2330730.0  4073.133333   34732    3.098923  ...     0.0     0.0   \n",
       "365606   101291.0     0.000000    5397   -0.448449  ...     0.0     0.0   \n",
       "365607   122548.0  5248.000000    6951   -0.414626  ...     0.0     0.0   \n",
       "365608   232384.0   202.485714   11002   -0.239861  ...     0.0     0.0   \n",
       "365609    78168.0   177.000000    2422   -0.485242  ...     0.0     0.0   \n",
       "\n",
       "        count8  count9  count10  count11  count12  count13  count14  count15  \n",
       "0          0.0     0.0      0.0      0.0      0.0      0.0      1.0      0.0  \n",
       "1          0.0     0.0      0.0      0.0      0.0      0.0      1.0      0.0  \n",
       "2          0.0     0.0      0.0      0.0      0.0      0.0      1.0      0.0  \n",
       "3          0.0     0.0      0.0      0.0      0.0      0.0      1.0      0.0  \n",
       "4          0.0     0.0      0.0      0.0      0.0      0.0      1.0      0.0  \n",
       "...        ...     ...      ...      ...      ...      ...      ...      ...  \n",
       "365605     0.0     0.0      0.0      0.0      0.0      0.0      0.0      0.0  \n",
       "365606     0.0     0.0      0.0      0.0      0.0      0.0      0.0      0.0  \n",
       "365607     0.0     0.0      0.0      0.0      0.0      0.0      0.0      0.0  \n",
       "365608     0.0     0.0      0.0      0.0      0.0      0.0      0.0      0.0  \n",
       "365609     0.0     0.0      0.0      0.0      0.0      0.0      0.0      0.0  \n",
       "\n",
       "[365610 rows x 36 columns]"
      ]
     },
     "execution_count": 84,
     "metadata": {},
     "output_type": "execute_result"
    }
   ],
   "source": [
    "training_data"
   ]
  },
  {
   "cell_type": "markdown",
   "metadata": {},
   "source": [
    "### One-hot encoding in Testing Data"
   ]
  },
  {
   "cell_type": "code",
   "execution_count": 119,
   "metadata": {
    "scrolled": true
   },
   "outputs": [],
   "source": [
    "for i in range(testing_data.shape[0]):\n",
    "    \n",
    "    category_val = category_encoding[testing_data[[\"category\"]].iloc[i].values[0]]\n",
    "    testing_data.at[i, \"cat1\"] = category_val[0]\n",
    "    testing_data.at[i, \"cat2\"] = category_val[1]\n",
    "    testing_data.at[i, \"cat3\"] = category_val[2]\n",
    "    testing_data.at[i, \"cat4\"] = category_val[3]\n",
    "    testing_data.at[i, \"cat5\"] = category_val[4]\n",
    "    testing_data.at[i, \"cat6\"] = category_val[5]\n",
    "    testing_data.at[i, \"cat7\"] = category_val[6]\n",
    "    testing_data.at[i, \"cat8\"] = category_val[7]\n",
    "    testing_data.at[i, \"cat9\"] = category_val[8]\n",
    "    \n",
    "    country_val = country_encoding[testing_data[[\"country\"]].iloc[i].values[0]]\n",
    "    testing_data.at[i, \"count1\"] = country_val[0]\n",
    "    testing_data.at[i, \"count2\"] = country_val[1]\n",
    "    testing_data.at[i, \"count3\"] = country_val[2]\n",
    "    testing_data.at[i, \"count4\"] = country_val[3]\n",
    "    testing_data.at[i, \"count5\"] = country_val[4]\n",
    "    testing_data.at[i, \"count6\"] = country_val[5]\n",
    "    testing_data.at[i, \"count7\"] = country_val[6]\n",
    "    testing_data.at[i, \"count8\"] = country_val[7]\n",
    "    testing_data.at[i, \"count9\"] = country_val[8]\n",
    "    testing_data.at[i, \"count10\"] = country_val[9]\n",
    "    testing_data.at[i, \"count11\"] = country_val[10]\n",
    "    testing_data.at[i, \"count12\"] = country_val[11]\n",
    "    testing_data.at[i, \"count13\"] = country_val[12]\n",
    "    testing_data.at[i, \"count14\"] = country_val[13]\n",
    "    testing_data.at[i, \"count15\"] = country_val[14]\n",
    "    \n",
    "#     if i%5000 == 0: print(i)"
   ]
  },
  {
   "cell_type": "code",
   "execution_count": 86,
   "metadata": {},
   "outputs": [],
   "source": [
    "testing_data.to_csv(\"data/test_data_normalise.csv\")"
   ]
  },
  {
   "cell_type": "markdown",
   "metadata": {},
   "source": [
    "# Feature Engineering\n",
    "\n",
    "- No of average views in each category\n",
    "- No of average comments in each category\n",
    "- No of average views in each conntry\n",
    "- No of average views in each category\n",
    "- No of views on a post\n",
    "- No of comments on a post\n",
    "- No of average views of the user\n",
    "- No of average comments of the user"
   ]
  },
  {
   "cell_type": "markdown",
   "metadata": {},
   "source": [
    "### Training Data - Features"
   ]
  },
  {
   "cell_type": "code",
   "execution_count": 87,
   "metadata": {},
   "outputs": [],
   "source": [
    "training_data = pd.read_csv(\"data/train_data_normalise.csv\")"
   ]
  },
  {
   "cell_type": "code",
   "execution_count": 88,
   "metadata": {},
   "outputs": [],
   "source": [
    "category_avg_data = {}\n",
    "for category in category_list:\n",
    "    df = training_data[training_data['category'] == category]\n",
    "    views = list(df['#views'].to_numpy())\n",
    "    comments = list(df['#comments'].to_numpy())\n",
    "    if len(views) > 0:\n",
    "        avg_views = sum(views)/len(views)\n",
    "    else:\n",
    "        avg_views = 0\n",
    "    if len(comments) > 0:\n",
    "        avg_comments = sum(comments)/len(comments)\n",
    "    else:\n",
    "        avg_comments = 0\n",
    "    category_avg_data[category] = [avg_views, avg_comments]\n",
    "\n",
    "country_avg_data = {}\n",
    "for country in country_list:\n",
    "    df = training_data[training_data['country'] == country]\n",
    "    views = list(df['#views'].to_numpy())\n",
    "    comments = list(df['#comments'].to_numpy())\n",
    "    if len(views) > 0:\n",
    "        avg_views = sum(views)/len(views)\n",
    "    else:\n",
    "        avg_views = 0\n",
    "    if len(comments) > 0:\n",
    "        avg_comments = sum(comments)/len(comments)\n",
    "    else:\n",
    "        avg_comments = 0\n",
    "    country_avg_data[country] = [avg_views, avg_comments]"
   ]
  },
  {
   "cell_type": "code",
   "execution_count": 89,
   "metadata": {},
   "outputs": [],
   "source": [
    "user_list = list(training_data.user_id.unique())\n",
    "user_avg_data = {}\n",
    "for user in user_list:\n",
    "    df = training_data[training_data['user_id'] == user]\n",
    "    views = list(df['#views'].to_numpy())\n",
    "    comments = list(df['#comments'].to_numpy())\n",
    "    if len(views) > 0:\n",
    "        avg_views = sum(views)/len(views)\n",
    "    else:\n",
    "        avg_views = 0\n",
    "    if len(comments) > 0:\n",
    "        avg_comments = sum(comments)/len(comments)\n",
    "    else:\n",
    "        avg_comments = 0\n",
    "    user_avg_data[user] = [avg_views, avg_comments]"
   ]
  },
  {
   "cell_type": "code",
   "execution_count": 117,
   "metadata": {
    "scrolled": true
   },
   "outputs": [],
   "source": [
    "for i in range(training_data.shape[0]):\n",
    "    training_data.at[i, 'user_avg_views'] = user_avg_data[training_data[[\"user_id\"]].iloc[i].values[0]][0]\n",
    "    training_data.at[i, 'user_avg_comments'] = user_avg_data[training_data[[\"user_id\"]].iloc[i].values[0]][1]\n",
    "    \n",
    "    training_data.at[i, 'country_avg_views'] = country_avg_data[training_data[[\"country\"]].iloc[i].values[0]][0]\n",
    "    training_data.at[i, 'country_avg_comments'] = country_avg_data[training_data[[\"country\"]].iloc[i].values[0]][1]\n",
    "    \n",
    "    training_data.at[i, 'category_avg_views'] = category_avg_data[training_data[[\"category\"]].iloc[i].values[0]][0]\n",
    "    training_data.at[i, 'category_avg_comments'] = category_avg_data[training_data[[\"category\"]].iloc[i].values[0]][1]\n",
    "    \n",
    "#     if i%5000 == 0: print(i)"
   ]
  },
  {
   "cell_type": "code",
   "execution_count": 99,
   "metadata": {},
   "outputs": [],
   "source": [
    "training_data = pd.read_csv(\"data/training_data_with_features.csv\")"
   ]
  },
  {
   "cell_type": "code",
   "execution_count": 100,
   "metadata": {},
   "outputs": [],
   "source": [
    "user_avg_views = training_data[[\"user_avg_views\"]].to_numpy()\n",
    "user_avg_comments = training_data[[\"user_avg_comments\"]].to_numpy()\n",
    "\n",
    "country_avg_views = training_data[[\"country_avg_views\"]].to_numpy()\n",
    "country_avg_comments = training_data[[\"country_avg_comments\"]].to_numpy()\n",
    "\n",
    "category_avg_views = training_data[[\"category_avg_views\"]].to_numpy()\n",
    "category_avg_comments = training_data[[\"category_avg_comments\"]].to_numpy()"
   ]
  },
  {
   "cell_type": "code",
   "execution_count": 101,
   "metadata": {},
   "outputs": [],
   "source": [
    "a1_mean, a1_std = np.mean(user_avg_views), np.std(user_avg_views)\n",
    "a2_mean, a2_std = np.mean(user_avg_comments), np.std(user_avg_comments)\n",
    "a3_mean, a3_std = np.mean(country_avg_views), np.std(country_avg_views)\n",
    "a4_mean, a4_std = np.mean(country_avg_comments), np.std(country_avg_comments)\n",
    "a5_mean, a5_std = np.mean(category_avg_views), np.std(category_avg_views)\n",
    "a6_mean, a6_std = np.mean(category_avg_comments), np.std(category_avg_comments)"
   ]
  },
  {
   "cell_type": "code",
   "execution_count": 102,
   "metadata": {},
   "outputs": [],
   "source": [
    "training_data[\"norm_user_views\"] = (user_avg_views - a1_mean)/a1_std\n",
    "training_data[\"norm_user_comments\"] = (user_avg_comments - a2_mean)/a2_std\n",
    "training_data[\"norm_country_views\"] = (country_avg_views - a3_mean)/a3_std\n",
    "training_data[\"norm_country_comments\"] = (country_avg_comments - a4_mean)/a4_std\n",
    "training_data[\"norm_category_views\"] = (category_avg_views - a5_mean)/a5_std\n",
    "training_data[\"norm_category_comments\"] = (category_avg_comments - a6_mean)/a6_std"
   ]
  },
  {
   "cell_type": "code",
   "execution_count": 104,
   "metadata": {},
   "outputs": [
    {
     "name": "stdout",
     "output_type": "stream",
     "text": [
      "<class 'pandas.core.frame.DataFrame'>\n",
      "RangeIndex: 365610 entries, 0 to 365609\n",
      "Data columns (total 50 columns):\n",
      "Unnamed: 0                365610 non-null int64\n",
      "Unnamed: 0.1              365610 non-null int64\n",
      "index                     365610 non-null int64\n",
      "Unnamed: 0.1.1            365610 non-null int64\n",
      "post_id                   365610 non-null int64\n",
      "user_id                   365610 non-null int64\n",
      "country                   365610 non-null int64\n",
      "category                  365610 non-null object\n",
      "#views                    365610 non-null float64\n",
      "#comments                 365610 non-null float64\n",
      "#likes                    365610 non-null int64\n",
      "norm_views                365610 non-null float64\n",
      "norm_comments             365610 non-null float64\n",
      "norm_likes                365610 non-null float64\n",
      "cat1                      365610 non-null float64\n",
      "cat2                      365610 non-null float64\n",
      "cat3                      365610 non-null float64\n",
      "cat4                      365610 non-null float64\n",
      "cat5                      365610 non-null float64\n",
      "cat6                      365610 non-null float64\n",
      "cat7                      365610 non-null float64\n",
      "cat8                      365610 non-null float64\n",
      "cat9                      365610 non-null float64\n",
      "count1                    365610 non-null float64\n",
      "count2                    365610 non-null float64\n",
      "count3                    365610 non-null float64\n",
      "count4                    365610 non-null float64\n",
      "count5                    365610 non-null float64\n",
      "count6                    365610 non-null float64\n",
      "count7                    365610 non-null float64\n",
      "count8                    365610 non-null float64\n",
      "count9                    365610 non-null float64\n",
      "count10                   365610 non-null float64\n",
      "count11                   365610 non-null float64\n",
      "count12                   365610 non-null float64\n",
      "count13                   365610 non-null float64\n",
      "count14                   365610 non-null float64\n",
      "count15                   365610 non-null float64\n",
      "user_avg_views            365610 non-null float64\n",
      "user_avg_comments         365610 non-null float64\n",
      "country_avg_views         365610 non-null float64\n",
      "country_avg_comments      365610 non-null float64\n",
      "category_avg_views        365610 non-null float64\n",
      "category_avg_comments     365610 non-null float64\n",
      "norm_user_views           365610 non-null float64\n",
      "norm_user_comments        365610 non-null float64\n",
      "norm_country_views        365610 non-null float64\n",
      "norm_country_comments     365610 non-null float64\n",
      "norm_category_views       365610 non-null float64\n",
      "norm_category_comments    365610 non-null float64\n",
      "dtypes: float64(41), int64(8), object(1)\n",
      "memory usage: 139.5+ MB\n"
     ]
    }
   ],
   "source": [
    "training_data.info()"
   ]
  },
  {
   "cell_type": "code",
   "execution_count": 105,
   "metadata": {},
   "outputs": [],
   "source": [
    "training_data.to_csv(\"data/training_data_with_features.csv\")"
   ]
  },
  {
   "cell_type": "markdown",
   "metadata": {},
   "source": [
    "## Testing Data - Features"
   ]
  },
  {
   "cell_type": "code",
   "execution_count": 106,
   "metadata": {},
   "outputs": [],
   "source": [
    "testing_data = pd.read_csv(\"data/test_data_normalise.csv\")"
   ]
  },
  {
   "cell_type": "code",
   "execution_count": 107,
   "metadata": {},
   "outputs": [],
   "source": [
    "testing_data.reset_index(inplace = True)"
   ]
  },
  {
   "cell_type": "code",
   "execution_count": 115,
   "metadata": {
    "scrolled": true
   },
   "outputs": [],
   "source": [
    "for i in range(testing_data.shape[0]):\n",
    "    user_id = testing_data[[\"user_id\"]].iloc[i].values[0]\n",
    "    if user_id in user_avg_data:\n",
    "        user_profile_data = user_avg_data[user_id]\n",
    "    else:\n",
    "        user_profile_data = [testing_data[[\"norm_views\"]].iloc[i].values[0], testing_data[[\"norm_comments\"]].iloc[i].values[0]]\n",
    "        \n",
    "    testing_data.at[i, 'user_avg_views'] = user_profile_data[0]\n",
    "    testing_data.at[i, 'user_avg_comments'] = user_profile_data[1]\n",
    "    \n",
    "    testing_data.at[i, 'country_avg_views'] = country_avg_data[testing_data[[\"country\"]].iloc[i].values[0]][0]\n",
    "    testing_data.at[i, 'country_avg_comments'] = country_avg_data[testing_data[[\"country\"]].iloc[i].values[0]][1]\n",
    "    \n",
    "    testing_data.at[i, 'category_avg_views'] = category_avg_data[testing_data[[\"category\"]].iloc[i].values[0]][0]\n",
    "    testing_data.at[i, 'category_avg_comments'] = category_avg_data[testing_data[[\"category\"]].iloc[i].values[0]][1]\n",
    "    \n",
    "#     if i%5000 == 0: print(i)"
   ]
  },
  {
   "cell_type": "code",
   "execution_count": 109,
   "metadata": {},
   "outputs": [],
   "source": [
    "testing_data.to_csv(\"data/testing_data_with_features.csv\")"
   ]
  },
  {
   "cell_type": "code",
   "execution_count": 110,
   "metadata": {},
   "outputs": [],
   "source": [
    "user_avg_views = testing_data[[\"user_avg_views\"]].to_numpy()\n",
    "user_avg_comments = testing_data[[\"user_avg_comments\"]].to_numpy()\n",
    "\n",
    "country_avg_views = testing_data[[\"country_avg_views\"]].to_numpy()\n",
    "country_avg_comments = testing_data[[\"country_avg_comments\"]].to_numpy()\n",
    "\n",
    "category_avg_views = testing_data[[\"category_avg_views\"]].to_numpy()\n",
    "category_avg_comments = testing_data[[\"category_avg_comments\"]].to_numpy()"
   ]
  },
  {
   "cell_type": "code",
   "execution_count": 111,
   "metadata": {},
   "outputs": [],
   "source": [
    "testing_data[\"norm_user_views\"] = (user_avg_views - a1_mean)/a1_std\n",
    "testing_data[\"norm_user_comments\"] = (user_avg_comments - a2_mean)/a2_std\n",
    "testing_data[\"norm_country_views\"] = (country_avg_views - a3_mean)/a3_std\n",
    "testing_data[\"norm_country_comments\"] = (country_avg_comments - a4_mean)/a4_std\n",
    "testing_data[\"norm_category_views\"] = (category_avg_views - a5_mean)/a5_std\n",
    "testing_data[\"norm_category_comments\"] = (category_avg_comments - a6_mean)/a6_std"
   ]
  },
  {
   "cell_type": "code",
   "execution_count": 113,
   "metadata": {},
   "outputs": [
    {
     "name": "stdout",
     "output_type": "stream",
     "text": [
      "<class 'pandas.core.frame.DataFrame'>\n",
      "RangeIndex: 158541 entries, 0 to 158540\n",
      "Data columns (total 47 columns):\n",
      "index                     158541 non-null int64\n",
      "Unnamed: 0                158541 non-null int64\n",
      "Unnamed: 0.1              158541 non-null int64\n",
      "post_id                   158541 non-null int64\n",
      "user_id                   158541 non-null int64\n",
      "country                   158541 non-null int64\n",
      "category                  158541 non-null object\n",
      "#views                    158541 non-null float64\n",
      "#comments                 158541 non-null float64\n",
      "norm_views                158541 non-null float64\n",
      "norm_comments             158541 non-null float64\n",
      "cat1                      158541 non-null float64\n",
      "cat2                      158541 non-null float64\n",
      "cat3                      158541 non-null float64\n",
      "cat4                      158541 non-null float64\n",
      "cat5                      158541 non-null float64\n",
      "cat6                      158541 non-null float64\n",
      "cat7                      158541 non-null float64\n",
      "cat8                      158541 non-null float64\n",
      "cat9                      158541 non-null float64\n",
      "count1                    158541 non-null float64\n",
      "count2                    158541 non-null float64\n",
      "count3                    158541 non-null float64\n",
      "count4                    158541 non-null float64\n",
      "count5                    158541 non-null float64\n",
      "count6                    158541 non-null float64\n",
      "count7                    158541 non-null float64\n",
      "count8                    158541 non-null float64\n",
      "count9                    158541 non-null float64\n",
      "count10                   158541 non-null float64\n",
      "count11                   158541 non-null float64\n",
      "count12                   158541 non-null float64\n",
      "count13                   158541 non-null float64\n",
      "count14                   158541 non-null float64\n",
      "count15                   158541 non-null float64\n",
      "user_avg_views            158541 non-null float64\n",
      "user_avg_comments         158541 non-null float64\n",
      "country_avg_views         158541 non-null float64\n",
      "country_avg_comments      158541 non-null float64\n",
      "category_avg_views        158541 non-null float64\n",
      "category_avg_comments     158541 non-null float64\n",
      "norm_user_views           158541 non-null float64\n",
      "norm_user_comments        158541 non-null float64\n",
      "norm_country_views        158541 non-null float64\n",
      "norm_country_comments     158541 non-null float64\n",
      "norm_category_views       158541 non-null float64\n",
      "norm_category_comments    158541 non-null float64\n",
      "dtypes: float64(40), int64(6), object(1)\n",
      "memory usage: 56.8+ MB\n"
     ]
    }
   ],
   "source": [
    "testing_data.info()"
   ]
  },
  {
   "cell_type": "code",
   "execution_count": 114,
   "metadata": {},
   "outputs": [],
   "source": [
    "testing_data.to_csv(\"data/testing_data_with_features.csv\")"
   ]
  },
  {
   "cell_type": "markdown",
   "metadata": {},
   "source": [
    "## Features Description\n",
    "\n",
    "<b>#1 : norm_views</b>\n",
    "<br> \n",
    "min-max normalization of #views\n",
    "<br> \n",
    "<b>#2 : norm_comments</b>\n",
    "<br> min-max normalisation of #comments\n",
    "<br> \n",
    "<b>#3 : norm_user_views</b>\n",
    "<br> Using the concept of user profiling, these are avg #views which a user got\n",
    "<br> \n",
    "<b>#4 : norm_user_comments</b>\n",
    "<br> Using the concept of user profiling, these are avg #comments which a user got\n",
    "<br> \n",
    "<b>#5 : norm_country_views</b>\n",
    "<br> Using the concept of country profiling, these are avg #views which are seen by users of a country\n",
    "<br> \n",
    "<b>#6 : norm_country_comments</b>\n",
    "<br> Using the concept of country profiling, these are avg #comments which are given by users of a country\n",
    "<br> \n",
    "<b>#7 : norm_category_views</b>\n",
    "<br> Using the concept of category profiling, these are avg #views which are seen by users of a particular category\n",
    "<br> \n",
    "<b>#8 : norm_category_comments</b>\n",
    "<br> Using the concept of category profiling, these are avg #comments which are given by users of a particular category\n",
    "<br> \n",
    "<b>#9 - #17 : Cat1 - Cat9</b>\n",
    "<br> One-hot encoding of category\n",
    "<br> \n",
    "<b>#18 - #32 : Count1 - Count15</b>\n",
    "<br> One-hot encoding of a country"
   ]
  }
 ],
 "metadata": {
  "kernelspec": {
   "display_name": "Python 3",
   "language": "python",
   "name": "python3"
  },
  "language_info": {
   "codemirror_mode": {
    "name": "ipython",
    "version": 3
   },
   "file_extension": ".py",
   "mimetype": "text/x-python",
   "name": "python",
   "nbconvert_exporter": "python",
   "pygments_lexer": "ipython3",
   "version": "3.6.10"
  }
 },
 "nbformat": 4,
 "nbformat_minor": 4
}
