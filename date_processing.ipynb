{
 "cells": [
  {
   "cell_type": "markdown",
   "metadata": {},
   "source": [
    "## Import required libraries"
   ]
  },
  {
   "cell_type": "code",
   "execution_count": 1,
   "metadata": {},
   "outputs": [],
   "source": [
    "import pandas as pd\n",
    "import numpy as np\n",
    "import matplotlib as plt"
   ]
  },
  {
   "cell_type": "markdown",
   "metadata": {},
   "source": [
    "## Load Dataset"
   ]
  },
  {
   "cell_type": "code",
   "execution_count": 34,
   "metadata": {},
   "outputs": [],
   "source": [
    "training_data = pd.read_csv(\"data/train.csv\")"
   ]
  },
  {
   "cell_type": "code",
   "execution_count": 52,
   "metadata": {},
   "outputs": [],
   "source": [
    "testing_data = pd.read_csv(\"data/test_without_truth.csv\")"
   ]
  },
  {
   "cell_type": "markdown",
   "metadata": {},
   "source": [
    "## Analysing Training Data"
   ]
  },
  {
   "cell_type": "code",
   "execution_count": 37,
   "metadata": {},
   "outputs": [
    {
     "data": {
      "text/html": [
       "<div>\n",
       "<style scoped>\n",
       "    .dataframe tbody tr th:only-of-type {\n",
       "        vertical-align: middle;\n",
       "    }\n",
       "\n",
       "    .dataframe tbody tr th {\n",
       "        vertical-align: top;\n",
       "    }\n",
       "\n",
       "    .dataframe thead th {\n",
       "        text-align: right;\n",
       "    }\n",
       "</style>\n",
       "<table border=\"1\" class=\"dataframe\">\n",
       "  <thead>\n",
       "    <tr style=\"text-align: right;\">\n",
       "      <th></th>\n",
       "      <th>post_id</th>\n",
       "      <th>user_id</th>\n",
       "      <th>country</th>\n",
       "      <th>#views</th>\n",
       "      <th>#comments</th>\n",
       "      <th>#likes</th>\n",
       "    </tr>\n",
       "  </thead>\n",
       "  <tbody>\n",
       "    <tr>\n",
       "      <td>count</td>\n",
       "      <td>369920.000000</td>\n",
       "      <td>369920.000000</td>\n",
       "      <td>369920.000000</td>\n",
       "      <td>3.698850e+05</td>\n",
       "      <td>3.593090e+05</td>\n",
       "      <td>3.699200e+05</td>\n",
       "    </tr>\n",
       "    <tr>\n",
       "      <td>mean</td>\n",
       "      <td>264102.305696</td>\n",
       "      <td>21056.832826</td>\n",
       "      <td>6.700938</td>\n",
       "      <td>5.001114e+05</td>\n",
       "      <td>2.003481e+03</td>\n",
       "      <td>2.310587e+04</td>\n",
       "    </tr>\n",
       "    <tr>\n",
       "      <td>std</td>\n",
       "      <td>152590.609962</td>\n",
       "      <td>12101.006391</td>\n",
       "      <td>4.424512</td>\n",
       "      <td>1.623025e+06</td>\n",
       "      <td>1.209824e+04</td>\n",
       "      <td>8.616847e+04</td>\n",
       "    </tr>\n",
       "    <tr>\n",
       "      <td>min</td>\n",
       "      <td>0.000000</td>\n",
       "      <td>0.000000</td>\n",
       "      <td>0.000000</td>\n",
       "      <td>6.113000e+03</td>\n",
       "      <td>0.000000e+00</td>\n",
       "      <td>1.000000e+00</td>\n",
       "    </tr>\n",
       "    <tr>\n",
       "      <td>25%</td>\n",
       "      <td>131912.750000</td>\n",
       "      <td>10552.000000</td>\n",
       "      <td>3.000000</td>\n",
       "      <td>6.136600e+04</td>\n",
       "      <td>2.110000e+02</td>\n",
       "      <td>2.641000e+03</td>\n",
       "    </tr>\n",
       "    <tr>\n",
       "      <td>50%</td>\n",
       "      <td>264087.000000</td>\n",
       "      <td>21224.000000</td>\n",
       "      <td>6.000000</td>\n",
       "      <td>1.571650e+05</td>\n",
       "      <td>5.730000e+02</td>\n",
       "      <td>7.012000e+03</td>\n",
       "    </tr>\n",
       "    <tr>\n",
       "      <td>75%</td>\n",
       "      <td>396315.250000</td>\n",
       "      <td>31537.000000</td>\n",
       "      <td>11.000000</td>\n",
       "      <td>4.239210e+05</td>\n",
       "      <td>1.523000e+03</td>\n",
       "      <td>1.928500e+04</td>\n",
       "    </tr>\n",
       "    <tr>\n",
       "      <td>max</td>\n",
       "      <td>528460.000000</td>\n",
       "      <td>41773.000000</td>\n",
       "      <td>14.000000</td>\n",
       "      <td>1.779872e+08</td>\n",
       "      <td>1.219455e+06</td>\n",
       "      <td>6.197312e+06</td>\n",
       "    </tr>\n",
       "  </tbody>\n",
       "</table>\n",
       "</div>"
      ],
      "text/plain": [
       "             post_id        user_id        country        #views  \\\n",
       "count  369920.000000  369920.000000  369920.000000  3.698850e+05   \n",
       "mean   264102.305696   21056.832826       6.700938  5.001114e+05   \n",
       "std    152590.609962   12101.006391       4.424512  1.623025e+06   \n",
       "min         0.000000       0.000000       0.000000  6.113000e+03   \n",
       "25%    131912.750000   10552.000000       3.000000  6.136600e+04   \n",
       "50%    264087.000000   21224.000000       6.000000  1.571650e+05   \n",
       "75%    396315.250000   31537.000000      11.000000  4.239210e+05   \n",
       "max    528460.000000   41773.000000      14.000000  1.779872e+08   \n",
       "\n",
       "          #comments        #likes  \n",
       "count  3.593090e+05  3.699200e+05  \n",
       "mean   2.003481e+03  2.310587e+04  \n",
       "std    1.209824e+04  8.616847e+04  \n",
       "min    0.000000e+00  1.000000e+00  \n",
       "25%    2.110000e+02  2.641000e+03  \n",
       "50%    5.730000e+02  7.012000e+03  \n",
       "75%    1.523000e+03  1.928500e+04  \n",
       "max    1.219455e+06  6.197312e+06  "
      ]
     },
     "execution_count": 37,
     "metadata": {},
     "output_type": "execute_result"
    }
   ],
   "source": [
    "training_data.describe()"
   ]
  },
  {
   "cell_type": "code",
   "execution_count": 38,
   "metadata": {},
   "outputs": [
    {
     "name": "stdout",
     "output_type": "stream",
     "text": [
      "<class 'pandas.core.frame.DataFrame'>\n",
      "RangeIndex: 369920 entries, 0 to 369919\n",
      "Data columns (total 7 columns):\n",
      "post_id      369920 non-null int64\n",
      "user_id      369920 non-null int64\n",
      "country      369920 non-null int64\n",
      "category     369920 non-null object\n",
      "#views       369885 non-null float64\n",
      "#comments    359309 non-null float64\n",
      "#likes       369920 non-null int64\n",
      "dtypes: float64(2), int64(4), object(1)\n",
      "memory usage: 19.8+ MB\n"
     ]
    }
   ],
   "source": [
    "training_data.info()"
   ]
  },
  {
   "cell_type": "code",
   "execution_count": 39,
   "metadata": {},
   "outputs": [
    {
     "data": {
      "text/html": [
       "<div>\n",
       "<style scoped>\n",
       "    .dataframe tbody tr th:only-of-type {\n",
       "        vertical-align: middle;\n",
       "    }\n",
       "\n",
       "    .dataframe tbody tr th {\n",
       "        vertical-align: top;\n",
       "    }\n",
       "\n",
       "    .dataframe thead th {\n",
       "        text-align: right;\n",
       "    }\n",
       "</style>\n",
       "<table border=\"1\" class=\"dataframe\">\n",
       "  <thead>\n",
       "    <tr style=\"text-align: right;\">\n",
       "      <th></th>\n",
       "      <th>post_id</th>\n",
       "      <th>user_id</th>\n",
       "      <th>country</th>\n",
       "      <th>category</th>\n",
       "      <th>#views</th>\n",
       "      <th>#comments</th>\n",
       "      <th>#likes</th>\n",
       "    </tr>\n",
       "  </thead>\n",
       "  <tbody>\n",
       "    <tr>\n",
       "      <td>0</td>\n",
       "      <td>141569</td>\n",
       "      <td>13588</td>\n",
       "      <td>13</td>\n",
       "      <td>gaming</td>\n",
       "      <td>2403572.0</td>\n",
       "      <td>5606.0</td>\n",
       "      <td>107865</td>\n",
       "    </tr>\n",
       "    <tr>\n",
       "      <td>1</td>\n",
       "      <td>278047</td>\n",
       "      <td>5601</td>\n",
       "      <td>13</td>\n",
       "      <td>gaming</td>\n",
       "      <td>1421234.0</td>\n",
       "      <td>7316.0</td>\n",
       "      <td>68570</td>\n",
       "    </tr>\n",
       "    <tr>\n",
       "      <td>2</td>\n",
       "      <td>278280</td>\n",
       "      <td>31823</td>\n",
       "      <td>13</td>\n",
       "      <td>gaming</td>\n",
       "      <td>1460690.0</td>\n",
       "      <td>9924.0</td>\n",
       "      <td>136786</td>\n",
       "    </tr>\n",
       "    <tr>\n",
       "      <td>3</td>\n",
       "      <td>161305</td>\n",
       "      <td>14424</td>\n",
       "      <td>13</td>\n",
       "      <td>gaming</td>\n",
       "      <td>1463710.0</td>\n",
       "      <td>1087.0</td>\n",
       "      <td>62590</td>\n",
       "    </tr>\n",
       "    <tr>\n",
       "      <td>4</td>\n",
       "      <td>340945</td>\n",
       "      <td>8532</td>\n",
       "      <td>13</td>\n",
       "      <td>gaming</td>\n",
       "      <td>2507066.0</td>\n",
       "      <td>2974.0</td>\n",
       "      <td>21325</td>\n",
       "    </tr>\n",
       "  </tbody>\n",
       "</table>\n",
       "</div>"
      ],
      "text/plain": [
       "   post_id  user_id  country category     #views  #comments  #likes\n",
       "0   141569    13588       13   gaming  2403572.0     5606.0  107865\n",
       "1   278047     5601       13   gaming  1421234.0     7316.0   68570\n",
       "2   278280    31823       13   gaming  1460690.0     9924.0  136786\n",
       "3   161305    14424       13   gaming  1463710.0     1087.0   62590\n",
       "4   340945     8532       13   gaming  2507066.0     2974.0   21325"
      ]
     },
     "execution_count": 39,
     "metadata": {},
     "output_type": "execute_result"
    }
   ],
   "source": [
    "training_data.head()"
   ]
  },
  {
   "cell_type": "code",
   "execution_count": 40,
   "metadata": {},
   "outputs": [
    {
     "data": {
      "text/plain": [
       "post_id          0\n",
       "user_id          0\n",
       "country          0\n",
       "category         0\n",
       "#views          35\n",
       "#comments    10611\n",
       "#likes           0\n",
       "dtype: int64"
      ]
     },
     "execution_count": 40,
     "metadata": {},
     "output_type": "execute_result"
    }
   ],
   "source": [
    "training_data.isnull().sum()"
   ]
  },
  {
   "cell_type": "code",
   "execution_count": 41,
   "metadata": {
    "scrolled": true
   },
   "outputs": [
    {
     "name": "stdout",
     "output_type": "stream",
     "text": [
      "post_id 369920\n",
      "user_id 38395\n",
      "country 15\n",
      "category 9\n"
     ]
    }
   ],
   "source": [
    "print(\"post_id\", len(training_data.post_id.unique()))\n",
    "print(\"user_id\" ,len(training_data.user_id.unique()))\n",
    "print(\"country\", len(training_data.country.unique()))\n",
    "print(\"category\", len(training_data.category.unique()))"
   ]
  },
  {
   "cell_type": "code",
   "execution_count": 42,
   "metadata": {},
   "outputs": [
    {
     "name": "stdout",
     "output_type": "stream",
     "text": [
      "<class 'pandas.core.frame.DataFrame'>\n",
      "RangeIndex: 158541 entries, 0 to 158540\n",
      "Data columns (total 6 columns):\n",
      "post_id      158541 non-null int64\n",
      "user_id      158541 non-null int64\n",
      "country      158541 non-null int64\n",
      "category     158541 non-null object\n",
      "#views       158527 non-null float64\n",
      "#comments    153990 non-null float64\n",
      "dtypes: float64(2), int64(3), object(1)\n",
      "memory usage: 7.3+ MB\n"
     ]
    }
   ],
   "source": [
    "testing_data.info()"
   ]
  },
  {
   "cell_type": "code",
   "execution_count": 43,
   "metadata": {},
   "outputs": [
    {
     "data": {
      "text/plain": [
       "post_id         0\n",
       "user_id         0\n",
       "country         0\n",
       "category        0\n",
       "#views         14\n",
       "#comments    4551\n",
       "dtype: int64"
      ]
     },
     "execution_count": 43,
     "metadata": {},
     "output_type": "execute_result"
    }
   ],
   "source": [
    "testing_data.isna().sum()"
   ]
  },
  {
   "cell_type": "markdown",
   "metadata": {},
   "source": [
    "## Handling Missing Values\n",
    "\n",
    "Missing values are present in\n",
    "1. Views column\n",
    "    - Take #views equals to #commments\n",
    "2. Comments column\n",
    "    - Take avaerage of no of comments based on user_id    "
   ]
  },
  {
   "cell_type": "markdown",
   "metadata": {},
   "source": [
    "### Views Column"
   ]
  },
  {
   "cell_type": "code",
   "execution_count": 50,
   "metadata": {},
   "outputs": [],
   "source": [
    "def handle_views_col(df):\n",
    "    print(df)\n",
    "    df1 = df.dropna(axis = 0, how = \"any\")\n",
    "    df1.reset_index(inplace = True)\n",
    "    print(df1)\n",
    "    df2 = df[df.isna().any(axis = 1)]\n",
    "    df2.reset_index(inplace = True)\n",
    "    print(df2)\n",
    "    for i in range(df2.shape[0]):\n",
    "        if df2[[\"#views\"]].iloc[i].isna().values[0]:\n",
    "            df2.at[i, \"#views\"] = df2[[\"#comments\"]].iloc[i].values[0]\n",
    "    df3 = pd.concat([df1, df2])\n",
    "    return df3"
   ]
  },
  {
   "cell_type": "code",
   "execution_count": 58,
   "metadata": {},
   "outputs": [],
   "source": [
    "df1 = training_data.dropna(axis = 0, how = \"any\")\n",
    "df1.reset_index(inplace = True)\n",
    "df2 = training_data[training_data.isna().any(axis = 1)]\n",
    "df2.reset_index(inplace = True)\n",
    "for i in range(df2.shape[0]):\n",
    "    if df2[[\"#views\"]].iloc[i].isna().values[0]:\n",
    "        df2.at[i, \"#views\"] = df2[[\"#comments\"]].iloc[i].values[0]\n",
    "df3_view_train = pd.concat([df1, df2])"
   ]
  },
  {
   "cell_type": "code",
   "execution_count": 60,
   "metadata": {},
   "outputs": [
    {
     "name": "stdout",
     "output_type": "stream",
     "text": [
      "<class 'pandas.core.frame.DataFrame'>\n",
      "Int64Index: 369920 entries, 0 to 10645\n",
      "Data columns (total 8 columns):\n",
      "index        369920 non-null int64\n",
      "post_id      369920 non-null int64\n",
      "user_id      369920 non-null int64\n",
      "country      369920 non-null int64\n",
      "category     369920 non-null object\n",
      "#views       369920 non-null float64\n",
      "#comments    359309 non-null float64\n",
      "#likes       369920 non-null int64\n",
      "dtypes: float64(2), int64(5), object(1)\n",
      "memory usage: 25.4+ MB\n"
     ]
    }
   ],
   "source": [
    "df3_view_train.info()"
   ]
  },
  {
   "cell_type": "code",
   "execution_count": 55,
   "metadata": {},
   "outputs": [],
   "source": [
    "df1 = testing_data.dropna(axis = 0, how = \"any\")\n",
    "df1.reset_index(inplace = True)\n",
    "# print(df1)\n",
    "df2 = testing_data[testing_data.isna().any(axis = 1)]\n",
    "df2.reset_index(inplace = True)\n",
    "# print(df2)\n",
    "for i in range(df2.shape[0]):\n",
    "    if df2[[\"#views\"]].iloc[i].isna().values[0]:\n",
    "        df2.at[i, \"#views\"] = df2[[\"#comments\"]].iloc[i].values[0]\n",
    "df3_view_test = pd.concat([df1, df2])"
   ]
  },
  {
   "cell_type": "code",
   "execution_count": 57,
   "metadata": {},
   "outputs": [
    {
     "name": "stdout",
     "output_type": "stream",
     "text": [
      "<class 'pandas.core.frame.DataFrame'>\n",
      "Int64Index: 158541 entries, 0 to 4564\n",
      "Data columns (total 7 columns):\n",
      "index        158541 non-null int64\n",
      "post_id      158541 non-null int64\n",
      "user_id      158541 non-null int64\n",
      "country      158541 non-null int64\n",
      "category     158541 non-null object\n",
      "#views       158541 non-null float64\n",
      "#comments    153990 non-null float64\n",
      "dtypes: float64(2), int64(4), object(1)\n",
      "memory usage: 9.7+ MB\n"
     ]
    }
   ],
   "source": [
    "df3_view_test.info()"
   ]
  },
  {
   "cell_type": "markdown",
   "metadata": {},
   "source": [
    "### Comments Column - Training Set"
   ]
  },
  {
   "cell_type": "code",
   "execution_count": 61,
   "metadata": {},
   "outputs": [],
   "source": [
    "training_data = df3_view_train[[\"post_id\", \"user_id\", \"country\", \"category\", \"#views\", \"#comments\", \"#likes\"]]"
   ]
  },
  {
   "cell_type": "code",
   "execution_count": 62,
   "metadata": {},
   "outputs": [],
   "source": [
    "df1 = training_data.dropna(axis = 0, how = \"any\")\n",
    "df1.reset_index(inplace = True)\n",
    "\n",
    "df2 = training_data[training_data.isna().any(axis = 1)]\n",
    "df2.reset_index(inplace = True)"
   ]
  },
  {
   "cell_type": "code",
   "execution_count": 63,
   "metadata": {},
   "outputs": [],
   "source": [
    "user_list = list(df1.user_id.unique())\n",
    "user_avg_data = {}\n",
    "for user in user_list:\n",
    "    df_temp = df1[df1['user_id'] == user]\n",
    "    comments = list(df_temp['#comments'].to_numpy())\n",
    "    if len(comments) > 0:\n",
    "        avg_comments = sum(comments)/len(comments)\n",
    "    else:\n",
    "        avg_comments = 0\n",
    "    user_avg_data[user] = avg_comments"
   ]
  },
  {
   "cell_type": "code",
   "execution_count": 64,
   "metadata": {},
   "outputs": [],
   "source": [
    "for i in range(df2.shape[0]):\n",
    "    user_id = df2[[\"user_id\"]].iloc[i].values[0]\n",
    "    if user_id in user_avg_data:\n",
    "        df2.at[i, \"#comments\"] = user_avg_data[user_id]\n",
    "    else:\n",
    "        df2.at[i, \"#comments\"] = 0"
   ]
  },
  {
   "cell_type": "code",
   "execution_count": 66,
   "metadata": {},
   "outputs": [
    {
     "name": "stdout",
     "output_type": "stream",
     "text": [
      "<class 'pandas.core.frame.DataFrame'>\n",
      "Int64Index: 369920 entries, 0 to 10610\n",
      "Data columns (total 8 columns):\n",
      "index        369920 non-null int64\n",
      "post_id      369920 non-null int64\n",
      "user_id      369920 non-null int64\n",
      "country      369920 non-null int64\n",
      "category     369920 non-null object\n",
      "#views       369920 non-null float64\n",
      "#comments    369920 non-null float64\n",
      "#likes       369920 non-null int64\n",
      "dtypes: float64(2), int64(5), object(1)\n",
      "memory usage: 25.4+ MB\n"
     ]
    }
   ],
   "source": [
    "df3_col_train = pd.concat([df1, df2])\n",
    "df3_col_train.info()"
   ]
  },
  {
   "cell_type": "code",
   "execution_count": 67,
   "metadata": {},
   "outputs": [
    {
     "data": {
      "text/plain": [
       "post_id      0\n",
       "user_id      0\n",
       "country      0\n",
       "category     0\n",
       "#views       0\n",
       "#comments    0\n",
       "#likes       0\n",
       "dtype: int64"
      ]
     },
     "execution_count": 67,
     "metadata": {},
     "output_type": "execute_result"
    }
   ],
   "source": [
    "training_data = df3_col_train[[\"post_id\", \"user_id\", \"country\", \"category\", \"#views\", \"#comments\", \"#likes\"]]\n",
    "training_data.isna().sum()"
   ]
  },
  {
   "cell_type": "markdown",
   "metadata": {},
   "source": [
    "## Comments Column - testing set"
   ]
  },
  {
   "cell_type": "code",
   "execution_count": 68,
   "metadata": {},
   "outputs": [],
   "source": [
    "testing_data = df3_view_test[[\"post_id\", \"user_id\", \"country\", \"category\", \"#views\", \"#comments\"]]"
   ]
  },
  {
   "cell_type": "code",
   "execution_count": 70,
   "metadata": {},
   "outputs": [],
   "source": [
    "df1 = testing_data.dropna(axis = 0, how = \"any\")\n",
    "df1.reset_index(inplace = True)\n",
    "\n",
    "df2 = testing_data[testing_data.isna().any(axis = 1)]\n",
    "df2.reset_index(inplace = True)"
   ]
  },
  {
   "cell_type": "code",
   "execution_count": 71,
   "metadata": {},
   "outputs": [],
   "source": [
    "for i in range(df2.shape[0]):\n",
    "    user_id = df2[[\"user_id\"]].iloc[i].values[0]\n",
    "    if user_id in user_avg_data:\n",
    "        df2.at[i, \"#comments\"] = user_avg_data[user_id]\n",
    "    else:\n",
    "        df2.at[i, \"#comments\"] = 0"
   ]
  },
  {
   "cell_type": "code",
   "execution_count": 72,
   "metadata": {},
   "outputs": [
    {
     "name": "stdout",
     "output_type": "stream",
     "text": [
      "<class 'pandas.core.frame.DataFrame'>\n",
      "Int64Index: 158541 entries, 0 to 4550\n",
      "Data columns (total 7 columns):\n",
      "index        158541 non-null int64\n",
      "post_id      158541 non-null int64\n",
      "user_id      158541 non-null int64\n",
      "country      158541 non-null int64\n",
      "category     158541 non-null object\n",
      "#views       158541 non-null float64\n",
      "#comments    158541 non-null float64\n",
      "dtypes: float64(2), int64(4), object(1)\n",
      "memory usage: 9.7+ MB\n"
     ]
    }
   ],
   "source": [
    "df3_col_test = pd.concat([df1, df2])\n",
    "df3_col_test.info()"
   ]
  },
  {
   "cell_type": "code",
   "execution_count": 73,
   "metadata": {},
   "outputs": [],
   "source": [
    "testing_data = df3_col_test[[\"post_id\", \"user_id\", \"country\", \"category\", \"#views\", \"#comments\"]]"
   ]
  },
  {
   "cell_type": "code",
   "execution_count": 74,
   "metadata": {},
   "outputs": [
    {
     "data": {
      "text/plain": [
       "post_id      0\n",
       "user_id      0\n",
       "country      0\n",
       "category     0\n",
       "#views       0\n",
       "#comments    0\n",
       "dtype: int64"
      ]
     },
     "execution_count": 74,
     "metadata": {},
     "output_type": "execute_result"
    }
   ],
   "source": [
    "testing_data.isna().sum()"
   ]
  },
  {
   "cell_type": "code",
   "execution_count": 75,
   "metadata": {},
   "outputs": [],
   "source": [
    "training_data.to_csv(\"data/train_null_free.csv\")"
   ]
  },
  {
   "cell_type": "code",
   "execution_count": 76,
   "metadata": {},
   "outputs": [],
   "source": [
    "testing_data.to_csv(\"data/test_null_free.csv\")"
   ]
  },
  {
   "cell_type": "code",
   "execution_count": null,
   "metadata": {},
   "outputs": [],
   "source": []
  },
  {
   "cell_type": "code",
   "execution_count": null,
   "metadata": {},
   "outputs": [],
   "source": []
  },
  {
   "cell_type": "markdown",
   "metadata": {},
   "source": [
    "## Data Normmalization"
   ]
  },
  {
   "cell_type": "markdown",
   "metadata": {},
   "source": [
    "### Normalization - Training"
   ]
  },
  {
   "cell_type": "code",
   "execution_count": 2,
   "metadata": {},
   "outputs": [],
   "source": [
    "training_data = pd.read_csv(\"data/train_null_free.csv\")\n",
    "training_data.reset_index(inplace = True)"
   ]
  },
  {
   "cell_type": "code",
   "execution_count": 3,
   "metadata": {},
   "outputs": [],
   "source": [
    "views = training_data['#views'].to_numpy()\n",
    "comments = training_data['#comments'].to_numpy()\n",
    "likes = training_data['#likes'].to_numpy()\n",
    "\n",
    "max_views, min_views = max(views), min(views)\n",
    "max_comments, min_comments = max(comments), min(comments)\n",
    "max_likes, min_likes = max(likes), min(likes)"
   ]
  },
  {
   "cell_type": "code",
   "execution_count": 4,
   "metadata": {},
   "outputs": [],
   "source": [
    "def normalise_views(num):\n",
    "    return float(num - min_views)/float(max_views - min_views)\n",
    "\n",
    "def normalise_comments(num):\n",
    "    return float(num - min_comments)/float(max_comments - min_comments)\n",
    "\n",
    "def normalise_likes(num):\n",
    "    return float(num - min_likes)/float(max_likes - min_likes)"
   ]
  },
  {
   "cell_type": "code",
   "execution_count": 5,
   "metadata": {},
   "outputs": [],
   "source": [
    "category_list = list(training_data.category.unique())\n",
    "country_list = [0,1,2,3,4,5,6,7,8,9,10,11,12,13,14]\n",
    "\n",
    "category_dict = {}\n",
    "\n",
    "index = 0\n",
    "for category in category_list:\n",
    "    category_dict[category] = index\n",
    "    index += 1\n",
    "\n",
    "def get_category_val(cat):\n",
    "    one_hot = np.zeros((len(category_list)), dtype = int)\n",
    "    index = category_dict[cat]\n",
    "    one_hot[index] = 1\n",
    "    return one_hot\n",
    "\n",
    "def get_country_enc(country):\n",
    "    one_hot = np.zeros((len(country_list)), dtype = int)\n",
    "    one_hot[int(country)] = 1\n",
    "    return one_hot"
   ]
  },
  {
   "cell_type": "code",
   "execution_count": 25,
   "metadata": {
    "scrolled": true
   },
   "outputs": [],
   "source": [
    "for i in range(training_data.shape[0]):\n",
    "    training_data.at[i, \"norm_views\"] = normalise_views(training_data[[\"#views\"]].iloc[i].values[0])\n",
    "    training_data.at[i, \"norm_comments\"] = normalise_comments(training_data[[\"#comments\"]].iloc[i].values[0])\n",
    "    training_data.at[i, \"norm_likes\"] = normalise_likes(training_data[[\"#likes\"]].iloc[i].values[0])\n",
    "    \n",
    "    category_val = get_category_val(training_data[[\"category\"]].iloc[i].values[0])\n",
    "    training_data.at[i, \"cat1\"] = category_val[0]\n",
    "    training_data.at[i, \"cat2\"] = category_val[1]\n",
    "    training_data.at[i, \"cat3\"] = category_val[2]\n",
    "    training_data.at[i, \"cat4\"] = category_val[3]\n",
    "    training_data.at[i, \"cat5\"] = category_val[4]\n",
    "    training_data.at[i, \"cat6\"] = category_val[5]\n",
    "    training_data.at[i, \"cat7\"] = category_val[6]\n",
    "    training_data.at[i, \"cat8\"] = category_val[7]\n",
    "    training_data.at[i, \"cat9\"] = category_val[8]\n",
    "    \n",
    "    country_val = get_country_enc(training_data[[\"country\"]].iloc[i].values[0])\n",
    "    training_data.at[i, \"count1\"] = country_val[0]\n",
    "    training_data.at[i, \"count2\"] = country_val[1]\n",
    "    training_data.at[i, \"count3\"] = country_val[2]\n",
    "    training_data.at[i, \"count4\"] = country_val[3]\n",
    "    training_data.at[i, \"count5\"] = country_val[4]\n",
    "    training_data.at[i, \"count6\"] = country_val[5]\n",
    "    training_data.at[i, \"count7\"] = country_val[6]\n",
    "    training_data.at[i, \"count8\"] = country_val[7]\n",
    "    training_data.at[i, \"count9\"] = country_val[8]\n",
    "    training_data.at[i, \"count10\"] = country_val[9]\n",
    "    training_data.at[i, \"count11\"] = country_val[10]\n",
    "    training_data.at[i, \"count12\"] = country_val[11]\n",
    "    training_data.at[i, \"count13\"] = country_val[12]\n",
    "    training_data.at[i, \"count14\"] = country_val[13]\n",
    "    training_data.at[i, \"count15\"] = country_val[14]\n",
    "    \n",
    "#     if i%5000 == 0: print(i)"
   ]
  },
  {
   "cell_type": "code",
   "execution_count": 7,
   "metadata": {},
   "outputs": [],
   "source": [
    "training_data.to_csv(\"data/train_data_normalise.csv\")"
   ]
  },
  {
   "cell_type": "markdown",
   "metadata": {},
   "source": [
    "### Normalisation - Testing"
   ]
  },
  {
   "cell_type": "code",
   "execution_count": 8,
   "metadata": {},
   "outputs": [],
   "source": [
    "testing_data = pd.read_csv(\"data/test_null_free.csv\")\n",
    "testing_data.reset_index(inplace = True)"
   ]
  },
  {
   "cell_type": "code",
   "execution_count": 26,
   "metadata": {
    "scrolled": true
   },
   "outputs": [],
   "source": [
    "for i in range(testing_data.shape[0]):\n",
    "    testing_data.at[i, \"norm_views\"] = normalise_views(testing_data[[\"#views\"]].iloc[i].values[0])\n",
    "    testing_data.at[i, \"norm_comments\"] = normalise_comments(testing_data[[\"#comments\"]].iloc[i].values[0])\n",
    "    \n",
    "    category_val = get_category_val(testing_data[[\"category\"]].iloc[i].values[0])\n",
    "    testing_data.at[i, \"cat1\"] = category_val[0]\n",
    "    testing_data.at[i, \"cat2\"] = category_val[1]\n",
    "    testing_data.at[i, \"cat3\"] = category_val[2]\n",
    "    testing_data.at[i, \"cat4\"] = category_val[3]\n",
    "    testing_data.at[i, \"cat5\"] = category_val[4]\n",
    "    testing_data.at[i, \"cat6\"] = category_val[5]\n",
    "    testing_data.at[i, \"cat7\"] = category_val[6]\n",
    "    testing_data.at[i, \"cat8\"] = category_val[7]\n",
    "    testing_data.at[i, \"cat9\"] = category_val[8]\n",
    "    \n",
    "    country_val = get_country_enc(testing_data[[\"country\"]].iloc[i].values[0])\n",
    "    testing_data.at[i, \"count1\"] = country_val[0]\n",
    "    testing_data.at[i, \"count2\"] = country_val[1]\n",
    "    testing_data.at[i, \"count3\"] = country_val[2]\n",
    "    testing_data.at[i, \"count4\"] = country_val[3]\n",
    "    testing_data.at[i, \"count5\"] = country_val[4]\n",
    "    testing_data.at[i, \"count6\"] = country_val[5]\n",
    "    testing_data.at[i, \"count7\"] = country_val[6]\n",
    "    testing_data.at[i, \"count8\"] = country_val[7]\n",
    "    testing_data.at[i, \"count9\"] = country_val[8]\n",
    "    testing_data.at[i, \"count10\"] = country_val[9]\n",
    "    testing_data.at[i, \"count11\"] = country_val[10]\n",
    "    testing_data.at[i, \"count12\"] = country_val[11]\n",
    "    testing_data.at[i, \"count13\"] = country_val[12]\n",
    "    testing_data.at[i, \"count14\"] = country_val[13]\n",
    "    testing_data.at[i, \"count15\"] = country_val[14]\n",
    "    \n",
    "#     if i%5000 == 0: print(i)"
   ]
  },
  {
   "cell_type": "code",
   "execution_count": 10,
   "metadata": {},
   "outputs": [],
   "source": [
    "testing_data.to_csv(\"data/test_data_normalise.csv\")"
   ]
  },
  {
   "cell_type": "markdown",
   "metadata": {},
   "source": [
    "## Feature Engineering\n",
    "\n",
    "- No of average views in each category\n",
    "- No of average comments in each category\n",
    "- No of average views in each conntry\n",
    "- No of average views in each category\n",
    "- No of views on a post\n",
    "- No of comments on a post\n",
    "- No of average views of the user\n",
    "- No of average comments of the user"
   ]
  },
  {
   "cell_type": "markdown",
   "metadata": {},
   "source": [
    "### Training Data - Features"
   ]
  },
  {
   "cell_type": "code",
   "execution_count": 11,
   "metadata": {},
   "outputs": [],
   "source": [
    "training_data = pd.read_csv(\"data/train_data_normalise.csv\")"
   ]
  },
  {
   "cell_type": "code",
   "execution_count": 12,
   "metadata": {},
   "outputs": [],
   "source": [
    "category_avg_data = {}\n",
    "for category in category_list:\n",
    "    df = training_data[training_data['category'] == category]\n",
    "    views = list(df['norm_views'].to_numpy())\n",
    "    comments = list(df['norm_comments'].to_numpy())\n",
    "    if len(views) > 0:\n",
    "        avg_views = sum(views)/len(views)\n",
    "    else:\n",
    "        avg_views = 0\n",
    "    if len(comments) > 0:\n",
    "        avg_comments = sum(comments)/len(comments)\n",
    "    else:\n",
    "        avg_comments = 0\n",
    "    category_avg_data[category] = [avg_views, avg_comments]\n",
    "\n",
    "country_avg_data = {}\n",
    "for country in country_list:\n",
    "    df = training_data[training_data['country'] == country]\n",
    "    views = list(df['norm_views'].to_numpy())\n",
    "    comments = list(df['norm_comments'].to_numpy())\n",
    "    if len(views) > 0:\n",
    "        avg_views = sum(views)/len(views)\n",
    "    else:\n",
    "        avg_views = 0\n",
    "    if len(comments) > 0:\n",
    "        avg_comments = sum(comments)/len(comments)\n",
    "    else:\n",
    "        avg_comments = 0\n",
    "    country_avg_data[country] = [avg_views, avg_comments]"
   ]
  },
  {
   "cell_type": "code",
   "execution_count": 13,
   "metadata": {},
   "outputs": [],
   "source": [
    "user_list = list(training_data.user_id.unique())\n",
    "user_avg_data = {}\n",
    "for user in user_list:\n",
    "    df = training_data[training_data['user_id'] == user]\n",
    "    views = list(df['norm_views'].to_numpy())\n",
    "    comments = list(df['norm_comments'].to_numpy())\n",
    "    if len(views) > 0:\n",
    "        avg_views = sum(views)/len(views)\n",
    "    else:\n",
    "        avg_views = 0\n",
    "    if len(comments) > 0:\n",
    "        avg_comments = sum(comments)/len(comments)\n",
    "    else:\n",
    "        avg_comments = 0\n",
    "    user_avg_data[user] = [avg_views, avg_comments]"
   ]
  },
  {
   "cell_type": "code",
   "execution_count": 27,
   "metadata": {
    "scrolled": true
   },
   "outputs": [],
   "source": [
    "for i in range(training_data.shape[0]):\n",
    "    training_data.at[i, 'user_avg_views'] = user_avg_data[training_data[[\"user_id\"]].iloc[i].values[0]][0]\n",
    "    training_data.at[i, 'user_avg_comments'] = user_avg_data[training_data[[\"user_id\"]].iloc[i].values[0]][1]\n",
    "    \n",
    "    training_data.at[i, 'country_avg_views'] = country_avg_data[training_data[[\"country\"]].iloc[i].values[0]][0]\n",
    "    training_data.at[i, 'country_avg_comments'] = country_avg_data[training_data[[\"country\"]].iloc[i].values[0]][1]\n",
    "    \n",
    "    training_data.at[i, 'category_avg_views'] = category_avg_data[training_data[[\"category\"]].iloc[i].values[0]][0]\n",
    "    training_data.at[i, 'category_avg_comments'] = category_avg_data[training_data[[\"category\"]].iloc[i].values[0]][1]\n",
    "    \n",
    "#     if i%5000 == 0: print(i)"
   ]
  },
  {
   "cell_type": "code",
   "execution_count": 20,
   "metadata": {},
   "outputs": [],
   "source": [
    "df = training_data.drop(columns = [\"Unnamed: 0\", \"index\", \"Unnamed: 0.1\"])\n",
    "df.to_csv(\"data/training_data_with_features.csv\")"
   ]
  },
  {
   "cell_type": "markdown",
   "metadata": {},
   "source": [
    "## Testing Data - Features"
   ]
  },
  {
   "cell_type": "code",
   "execution_count": 21,
   "metadata": {},
   "outputs": [],
   "source": [
    "testing_data = pd.read_csv(\"data/test_data_normalise.csv\")"
   ]
  },
  {
   "cell_type": "code",
   "execution_count": 22,
   "metadata": {},
   "outputs": [],
   "source": [
    "testing_data.reset_index(inplace = True)"
   ]
  },
  {
   "cell_type": "code",
   "execution_count": 28,
   "metadata": {
    "scrolled": true
   },
   "outputs": [],
   "source": [
    "for i in range(testing_data.shape[0]):\n",
    "    user_id = testing_data[[\"user_id\"]].iloc[i].values[0]\n",
    "    if user_id in user_avg_data:\n",
    "        user_profile_data = user_avg_data[user_id]\n",
    "    else:\n",
    "        user_profile_data = [testing_data[[\"norm_views\"]].iloc[i].values[0], testing_data[[\"norm_comments\"]].iloc[i].values[0]]\n",
    "        \n",
    "    testing_data.at[i, 'user_avg_views'] = user_profile_data[0]\n",
    "    testing_data.at[i, 'user_avg_comments'] = user_profile_data[1]\n",
    "    \n",
    "    testing_data.at[i, 'country_avg_views'] = country_avg_data[testing_data[[\"country\"]].iloc[i].values[0]][0]\n",
    "    testing_data.at[i, 'country_avg_comments'] = country_avg_data[testing_data[[\"country\"]].iloc[i].values[0]][1]\n",
    "    \n",
    "    testing_data.at[i, 'category_avg_views'] = category_avg_data[testing_data[[\"category\"]].iloc[i].values[0]][0]\n",
    "    testing_data.at[i, 'category_avg_comments'] = category_avg_data[testing_data[[\"category\"]].iloc[i].values[0]][1]\n",
    "    \n",
    "#     if i%5000 == 0: print(i)"
   ]
  },
  {
   "cell_type": "code",
   "execution_count": 24,
   "metadata": {},
   "outputs": [],
   "source": [
    "df = testing_data.drop(columns = [\"Unnamed: 0\", \"index\", \"Unnamed: 0.1\"])\n",
    "df.to_csv(\"data/testing_data_with_features.csv\")"
   ]
  },
  {
   "cell_type": "code",
   "execution_count": null,
   "metadata": {},
   "outputs": [],
   "source": []
  },
  {
   "cell_type": "code",
   "execution_count": null,
   "metadata": {},
   "outputs": [],
   "source": []
  },
  {
   "cell_type": "markdown",
   "metadata": {},
   "source": [
    "## Features Description\n",
    "\n",
    "<b>#1 : Norm Views</b>\n",
    "<br> \n",
    "min-max normalization of #views\n",
    "<br> \n",
    "<b>#2 : Norm Comments</b>\n",
    "<br> min-max normalisation of #comments\n",
    "<br> \n",
    "<b>#3 : user_avg_views</b>\n",
    "<br> Using the concept of user profiling, these are avg #views which a user got\n",
    "<br> \n",
    "<b>#4 : user_avg_comments</b>\n",
    "<br> Using the concept of user profiling, these are avg #comments which a user got\n",
    "<br> \n",
    "<b>#5 : country_avg_views</b>\n",
    "<br> Using the concept of country profiling, these are avg #views which are seen by users of a country\n",
    "<br> \n",
    "<b>#6 : country_avg_comments</b>\n",
    "<br> Using the concept of country profiling, these are avg #comments which are given by users of a country\n",
    "<br> \n",
    "<b>#7 : category_avg_views</b>\n",
    "<br> Using the concept of category profiling, these are avg #views which are seen by users of a particular category\n",
    "<br> \n",
    "<b>#8 : category_avg_comments</b>\n",
    "<br> Using the concept of category profiling, these are avg #comments which are given by users of a particular category\n",
    "<br> \n",
    "<b>#9 - #17 : Cat1 - Cat9</b>\n",
    "<br> One-hot encoding of category\n",
    "<br> \n",
    "<b>#18 - #32 : Count1 - Count15</b>\n",
    "<br> One-hot encoding of a country"
   ]
  }
 ],
 "metadata": {
  "kernelspec": {
   "display_name": "Python 3",
   "language": "python",
   "name": "python3"
  },
  "language_info": {
   "codemirror_mode": {
    "name": "ipython",
    "version": 3
   },
   "file_extension": ".py",
   "mimetype": "text/x-python",
   "name": "python",
   "nbconvert_exporter": "python",
   "pygments_lexer": "ipython3",
   "version": "3.6.10"
  }
 },
 "nbformat": 4,
 "nbformat_minor": 4
}
