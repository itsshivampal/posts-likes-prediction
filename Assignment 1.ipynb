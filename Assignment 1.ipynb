{
 "cells": [
  {
   "cell_type": "markdown",
   "metadata": {},
   "source": [
    "## Import required libraries"
   ]
  },
  {
   "cell_type": "code",
   "execution_count": 13,
   "metadata": {},
   "outputs": [],
   "source": [
    "import pandas as pd\n",
    "import numpy as np\n",
    "import matplotlib as plt"
   ]
  },
  {
   "cell_type": "markdown",
   "metadata": {},
   "source": [
    "## Load Dataset"
   ]
  },
  {
   "cell_type": "code",
   "execution_count": 64,
   "metadata": {},
   "outputs": [],
   "source": [
    "training_data = pd.read_csv(\"data/train.csv\")\n",
    "testing_data = pd.read_csv(\"data/test_without_truth.csv\")"
   ]
  },
  {
   "cell_type": "markdown",
   "metadata": {},
   "source": [
    "## Analysing Training Data"
   ]
  },
  {
   "cell_type": "code",
   "execution_count": 65,
   "metadata": {},
   "outputs": [
    {
     "name": "stdout",
     "output_type": "stream",
     "text": [
      "<class 'pandas.core.frame.DataFrame'>\n",
      "RangeIndex: 369920 entries, 0 to 369919\n",
      "Data columns (total 7 columns):\n",
      " #   Column     Non-Null Count   Dtype  \n",
      "---  ------     --------------   -----  \n",
      " 0   post_id    369920 non-null  int64  \n",
      " 1   user_id    369920 non-null  int64  \n",
      " 2   country    369920 non-null  int64  \n",
      " 3   category   369920 non-null  object \n",
      " 4   #views     369885 non-null  float64\n",
      " 5   #comments  359309 non-null  float64\n",
      " 6   #likes     369920 non-null  int64  \n",
      "dtypes: float64(2), int64(4), object(1)\n",
      "memory usage: 19.8+ MB\n"
     ]
    }
   ],
   "source": [
    "training_data.info()"
   ]
  },
  {
   "cell_type": "code",
   "execution_count": 66,
   "metadata": {},
   "outputs": [
    {
     "data": {
      "text/html": [
       "<div>\n",
       "<style scoped>\n",
       "    .dataframe tbody tr th:only-of-type {\n",
       "        vertical-align: middle;\n",
       "    }\n",
       "\n",
       "    .dataframe tbody tr th {\n",
       "        vertical-align: top;\n",
       "    }\n",
       "\n",
       "    .dataframe thead th {\n",
       "        text-align: right;\n",
       "    }\n",
       "</style>\n",
       "<table border=\"1\" class=\"dataframe\">\n",
       "  <thead>\n",
       "    <tr style=\"text-align: right;\">\n",
       "      <th></th>\n",
       "      <th>post_id</th>\n",
       "      <th>user_id</th>\n",
       "      <th>country</th>\n",
       "      <th>category</th>\n",
       "      <th>#views</th>\n",
       "      <th>#comments</th>\n",
       "      <th>#likes</th>\n",
       "    </tr>\n",
       "  </thead>\n",
       "  <tbody>\n",
       "    <tr>\n",
       "      <th>0</th>\n",
       "      <td>141569</td>\n",
       "      <td>13588</td>\n",
       "      <td>13</td>\n",
       "      <td>gaming</td>\n",
       "      <td>2403572.0</td>\n",
       "      <td>5606.0</td>\n",
       "      <td>107865</td>\n",
       "    </tr>\n",
       "    <tr>\n",
       "      <th>1</th>\n",
       "      <td>278047</td>\n",
       "      <td>5601</td>\n",
       "      <td>13</td>\n",
       "      <td>gaming</td>\n",
       "      <td>1421234.0</td>\n",
       "      <td>7316.0</td>\n",
       "      <td>68570</td>\n",
       "    </tr>\n",
       "    <tr>\n",
       "      <th>2</th>\n",
       "      <td>278280</td>\n",
       "      <td>31823</td>\n",
       "      <td>13</td>\n",
       "      <td>gaming</td>\n",
       "      <td>1460690.0</td>\n",
       "      <td>9924.0</td>\n",
       "      <td>136786</td>\n",
       "    </tr>\n",
       "    <tr>\n",
       "      <th>3</th>\n",
       "      <td>161305</td>\n",
       "      <td>14424</td>\n",
       "      <td>13</td>\n",
       "      <td>gaming</td>\n",
       "      <td>1463710.0</td>\n",
       "      <td>1087.0</td>\n",
       "      <td>62590</td>\n",
       "    </tr>\n",
       "    <tr>\n",
       "      <th>4</th>\n",
       "      <td>340945</td>\n",
       "      <td>8532</td>\n",
       "      <td>13</td>\n",
       "      <td>gaming</td>\n",
       "      <td>2507066.0</td>\n",
       "      <td>2974.0</td>\n",
       "      <td>21325</td>\n",
       "    </tr>\n",
       "  </tbody>\n",
       "</table>\n",
       "</div>"
      ],
      "text/plain": [
       "   post_id  user_id  country category     #views  #comments  #likes\n",
       "0   141569    13588       13   gaming  2403572.0     5606.0  107865\n",
       "1   278047     5601       13   gaming  1421234.0     7316.0   68570\n",
       "2   278280    31823       13   gaming  1460690.0     9924.0  136786\n",
       "3   161305    14424       13   gaming  1463710.0     1087.0   62590\n",
       "4   340945     8532       13   gaming  2507066.0     2974.0   21325"
      ]
     },
     "execution_count": 66,
     "metadata": {},
     "output_type": "execute_result"
    }
   ],
   "source": [
    "training_data.head()"
   ]
  },
  {
   "cell_type": "code",
   "execution_count": 67,
   "metadata": {},
   "outputs": [
    {
     "data": {
      "text/plain": [
       "post_id          0\n",
       "user_id          0\n",
       "country          0\n",
       "category         0\n",
       "#views          35\n",
       "#comments    10611\n",
       "#likes           0\n",
       "dtype: int64"
      ]
     },
     "execution_count": 67,
     "metadata": {},
     "output_type": "execute_result"
    }
   ],
   "source": [
    "training_data.isnull().sum()"
   ]
  },
  {
   "cell_type": "code",
   "execution_count": 68,
   "metadata": {
    "scrolled": true
   },
   "outputs": [
    {
     "name": "stdout",
     "output_type": "stream",
     "text": [
      "post_id 369920\n",
      "user_id 38395\n",
      "country 15\n",
      "category 9\n"
     ]
    }
   ],
   "source": [
    "print(\"post_id\", len(training_data.post_id.unique()))\n",
    "print(\"user_id\" ,len(training_data.user_id.unique()))\n",
    "print(\"country\", len(training_data.country.unique()))\n",
    "print(\"category\", len(training_data.category.unique()))"
   ]
  },
  {
   "cell_type": "markdown",
   "metadata": {},
   "source": [
    "## Handling Missing Values\n",
    "\n",
    "Missing values are present in\n",
    "1. Views column\n",
    "    - Option 1: Drop these rows\n",
    "    - Option 2: No of views must be greater or equals to no of commments\n",
    "    - Option 3: We can take average of no of views based on user_id, category and country \n",
    "2. Comments column\n",
    "    - Option 1: Drop these rows\n",
    "    - Option 2: Take avaerage of no of comments based on user_id, category and country    "
   ]
  },
  {
   "cell_type": "code",
   "execution_count": 69,
   "metadata": {},
   "outputs": [],
   "source": [
    "# Drop rows which contain any missing value\n",
    "training_data.dropna(axis = 0, how = \"any\", inplace = True)\n",
    "training_data.reset_index(inplace=True, drop = True)"
   ]
  },
  {
   "cell_type": "code",
   "execution_count": 70,
   "metadata": {},
   "outputs": [],
   "source": [
    "training_data = training_data.loc[:5000]"
   ]
  },
  {
   "cell_type": "code",
   "execution_count": 71,
   "metadata": {},
   "outputs": [
    {
     "name": "stdout",
     "output_type": "stream",
     "text": [
      "post_id      0\n",
      "user_id      0\n",
      "country      0\n",
      "category     0\n",
      "#views       0\n",
      "#comments    0\n",
      "#likes       0\n",
      "dtype: int64\n",
      "5001\n"
     ]
    }
   ],
   "source": [
    "print(training_data.isnull().sum())\n",
    "print(training_data.shape[0])"
   ]
  },
  {
   "cell_type": "code",
   "execution_count": 72,
   "metadata": {},
   "outputs": [
    {
     "data": {
      "text/html": [
       "<div>\n",
       "<style scoped>\n",
       "    .dataframe tbody tr th:only-of-type {\n",
       "        vertical-align: middle;\n",
       "    }\n",
       "\n",
       "    .dataframe tbody tr th {\n",
       "        vertical-align: top;\n",
       "    }\n",
       "\n",
       "    .dataframe thead th {\n",
       "        text-align: right;\n",
       "    }\n",
       "</style>\n",
       "<table border=\"1\" class=\"dataframe\">\n",
       "  <thead>\n",
       "    <tr style=\"text-align: right;\">\n",
       "      <th></th>\n",
       "      <th>post_id</th>\n",
       "      <th>user_id</th>\n",
       "      <th>country</th>\n",
       "      <th>category</th>\n",
       "      <th>#views</th>\n",
       "      <th>#comments</th>\n",
       "      <th>#likes</th>\n",
       "    </tr>\n",
       "  </thead>\n",
       "  <tbody>\n",
       "    <tr>\n",
       "      <th>0</th>\n",
       "      <td>141569</td>\n",
       "      <td>13588</td>\n",
       "      <td>13</td>\n",
       "      <td>gaming</td>\n",
       "      <td>2403572.0</td>\n",
       "      <td>5606.0</td>\n",
       "      <td>107865</td>\n",
       "    </tr>\n",
       "    <tr>\n",
       "      <th>1</th>\n",
       "      <td>278047</td>\n",
       "      <td>5601</td>\n",
       "      <td>13</td>\n",
       "      <td>gaming</td>\n",
       "      <td>1421234.0</td>\n",
       "      <td>7316.0</td>\n",
       "      <td>68570</td>\n",
       "    </tr>\n",
       "    <tr>\n",
       "      <th>2</th>\n",
       "      <td>278280</td>\n",
       "      <td>31823</td>\n",
       "      <td>13</td>\n",
       "      <td>gaming</td>\n",
       "      <td>1460690.0</td>\n",
       "      <td>9924.0</td>\n",
       "      <td>136786</td>\n",
       "    </tr>\n",
       "    <tr>\n",
       "      <th>3</th>\n",
       "      <td>161305</td>\n",
       "      <td>14424</td>\n",
       "      <td>13</td>\n",
       "      <td>gaming</td>\n",
       "      <td>1463710.0</td>\n",
       "      <td>1087.0</td>\n",
       "      <td>62590</td>\n",
       "    </tr>\n",
       "    <tr>\n",
       "      <th>4</th>\n",
       "      <td>340945</td>\n",
       "      <td>8532</td>\n",
       "      <td>13</td>\n",
       "      <td>gaming</td>\n",
       "      <td>2507066.0</td>\n",
       "      <td>2974.0</td>\n",
       "      <td>21325</td>\n",
       "    </tr>\n",
       "  </tbody>\n",
       "</table>\n",
       "</div>"
      ],
      "text/plain": [
       "   post_id  user_id  country category     #views  #comments  #likes\n",
       "0   141569    13588       13   gaming  2403572.0     5606.0  107865\n",
       "1   278047     5601       13   gaming  1421234.0     7316.0   68570\n",
       "2   278280    31823       13   gaming  1460690.0     9924.0  136786\n",
       "3   161305    14424       13   gaming  1463710.0     1087.0   62590\n",
       "4   340945     8532       13   gaming  2507066.0     2974.0   21325"
      ]
     },
     "execution_count": 72,
     "metadata": {},
     "output_type": "execute_result"
    }
   ],
   "source": [
    "training_data.head()"
   ]
  },
  {
   "cell_type": "code",
   "execution_count": 73,
   "metadata": {},
   "outputs": [
    {
     "name": "stdout",
     "output_type": "stream",
     "text": [
      "<class 'pandas.core.frame.DataFrame'>\n",
      "RangeIndex: 5001 entries, 0 to 5000\n",
      "Data columns (total 7 columns):\n",
      " #   Column     Non-Null Count  Dtype  \n",
      "---  ------     --------------  -----  \n",
      " 0   post_id    5001 non-null   int64  \n",
      " 1   user_id    5001 non-null   int64  \n",
      " 2   country    5001 non-null   int64  \n",
      " 3   category   5001 non-null   object \n",
      " 4   #views     5001 non-null   float64\n",
      " 5   #comments  5001 non-null   float64\n",
      " 6   #likes     5001 non-null   int64  \n",
      "dtypes: float64(2), int64(4), object(1)\n",
      "memory usage: 273.6+ KB\n"
     ]
    }
   ],
   "source": [
    "training_data.info()"
   ]
  },
  {
   "cell_type": "markdown",
   "metadata": {},
   "source": [
    "## Data Normmalization"
   ]
  },
  {
   "cell_type": "code",
   "execution_count": 74,
   "metadata": {},
   "outputs": [],
   "source": [
    "views = training_data['#views'].to_numpy()\n",
    "comments = training_data['#comments'].to_numpy()\n",
    "likes = training_data['#likes'].to_numpy()\n",
    "\n",
    "max_views, min_views = max(views), min(views)\n",
    "max_comments, min_comments = max(comments), min(comments)\n",
    "max_likes, min_likes = max(likes), min(likes)"
   ]
  },
  {
   "cell_type": "code",
   "execution_count": 75,
   "metadata": {},
   "outputs": [],
   "source": [
    "def normalise_views(num):\n",
    "    return float(num - min_views)/float(max_views - min_views)\n",
    "\n",
    "def normalise_comments(num):\n",
    "    return float(num - min_comments)/float(max_comments - min_comments)\n",
    "\n",
    "def normalise_likes(num):\n",
    "    return float(num - min_likes)/float(max_likes - min_likes)"
   ]
  },
  {
   "cell_type": "code",
   "execution_count": 76,
   "metadata": {},
   "outputs": [],
   "source": [
    "category_list = list(training_data.category.unique())\n",
    "# country_list = list(training_data.country.unique())\n",
    "country_list = [0,1,2,3,4,5,6,7,8,9,10,11,12,13,14]\n",
    "\n",
    "category_dict = {}\n",
    "\n",
    "index = 0\n",
    "for category in category_list:\n",
    "    category_dict[category] = index\n",
    "    index += 1\n",
    "\n",
    "def get_category_val(cat):\n",
    "    one_hot = np.zeros((len(category_list)), dtype = int)\n",
    "    index = category_dict[cat]\n",
    "    one_hot[index] = 1\n",
    "    return one_hot\n",
    "\n",
    "def get_country_enc(country):\n",
    "    one_hot = np.zeros((len(country_list)), dtype = int)\n",
    "    one_hot[int(country)] = 1\n",
    "    return one_hot"
   ]
  },
  {
   "cell_type": "code",
   "execution_count": 77,
   "metadata": {},
   "outputs": [],
   "source": [
    "for i in range(training_data.shape[0]):\n",
    "    training_data.at[i, \"norm_views\"] = normalise_views(training_data[[\"#views\"]].iloc[i].values[0])\n",
    "    training_data.at[i, \"norm_comments\"] = normalise_comments(training_data[[\"#comments\"]].iloc[i].values[0])\n",
    "    training_data.at[i, \"norm_likes\"] = normalise_likes(training_data[[\"#likes\"]].iloc[i].values[0])\n",
    "    \n",
    "    category_val = get_category_val(training_data[[\"category\"]].iloc[i].values[0])\n",
    "    training_data.at[i, \"cat1\"] = category_val[0]\n",
    "    training_data.at[i, \"cat2\"] = category_val[1]\n",
    "    training_data.at[i, \"cat3\"] = category_val[2]\n",
    "    training_data.at[i, \"cat4\"] = category_val[3]\n",
    "    training_data.at[i, \"cat5\"] = category_val[4]\n",
    "    training_data.at[i, \"cat6\"] = category_val[5]\n",
    "    training_data.at[i, \"cat7\"] = category_val[6]\n",
    "    training_data.at[i, \"cat8\"] = category_val[7]\n",
    "    training_data.at[i, \"cat9\"] = category_val[8]\n",
    "    \n",
    "    country_val = get_country_enc(training_data[[\"country\"]].iloc[i].values[0])\n",
    "    training_data.at[i, \"count1\"] = country_val[0]\n",
    "    training_data.at[i, \"count2\"] = country_val[1]\n",
    "    training_data.at[i, \"count3\"] = country_val[2]\n",
    "    training_data.at[i, \"count4\"] = country_val[3]\n",
    "    training_data.at[i, \"count5\"] = country_val[4]\n",
    "    training_data.at[i, \"count6\"] = country_val[5]\n",
    "    training_data.at[i, \"count7\"] = country_val[6]\n",
    "    training_data.at[i, \"count8\"] = country_val[7]\n",
    "    training_data.at[i, \"count9\"] = country_val[8]\n",
    "    training_data.at[i, \"count10\"] = country_val[9]\n",
    "    training_data.at[i, \"count11\"] = country_val[10]\n",
    "    training_data.at[i, \"count12\"] = country_val[11]\n",
    "    training_data.at[i, \"count13\"] = country_val[12]\n",
    "    training_data.at[i, \"count14\"] = country_val[13]\n",
    "    training_data.at[i, \"count15\"] = country_val[14]\n",
    "    "
   ]
  },
  {
   "cell_type": "markdown",
   "metadata": {},
   "source": [
    "## Features Generation\n",
    "\n",
    "- No of average views in each category\n",
    "- No of average comments in each category\n",
    "- No of average views in each counntry\n",
    "- No of average views in each category\n",
    "- No of views\n",
    "- No of comments\n",
    "- No of average views of the user\n",
    "- No of average comments of the user"
   ]
  },
  {
   "cell_type": "code",
   "execution_count": 78,
   "metadata": {},
   "outputs": [],
   "source": [
    "user_list = list(training_data.user_id.unique())\n",
    "\n",
    "category_avg_data = {}\n",
    "for category in category_list:\n",
    "    df = training_data[training_data['category'] == category]\n",
    "    views = list(df['norm_views'].to_numpy())\n",
    "    comments = list(df['norm_comments'].to_numpy())\n",
    "    if len(views) > 0:\n",
    "        avg_views = sum(views)/len(views)\n",
    "    else:\n",
    "        avg_views = 0\n",
    "    if len(comments) > 0:\n",
    "        avg_comments = sum(comments)/len(comments)\n",
    "    else:\n",
    "        avg_comments = 0\n",
    "    category_avg_data[category] = [avg_views, avg_comments]\n",
    "\n",
    "country_avg_data = {}\n",
    "for country in country_list:\n",
    "    df = training_data[training_data['country'] == country]\n",
    "    views = list(df['norm_views'].to_numpy())\n",
    "    comments = list(df['norm_comments'].to_numpy())\n",
    "    if len(views) > 0:\n",
    "        avg_views = sum(views)/len(views)\n",
    "    else:\n",
    "        avg_views = 0\n",
    "    if len(comments) > 0:\n",
    "        avg_comments = sum(comments)/len(comments)\n",
    "    else:\n",
    "        avg_comments = 0\n",
    "    country_avg_data[country] = [avg_views, avg_comments]\n",
    "\n",
    "user_avg_data = {}\n",
    "for user in user_list:\n",
    "    df = training_data[training_data['user_id'] == user]\n",
    "    views = list(df['norm_views'].to_numpy())\n",
    "    comments = list(df['norm_comments'].to_numpy())\n",
    "    if len(views) > 0:\n",
    "        avg_views = sum(views)/len(views)\n",
    "    else:\n",
    "        avg_views = 0\n",
    "    if len(comments) > 0:\n",
    "        avg_comments = sum(comments)/len(comments)\n",
    "    else:\n",
    "        avg_comments = 0\n",
    "    user_avg_data[user] = [avg_views, avg_comments]"
   ]
  },
  {
   "cell_type": "code",
   "execution_count": 80,
   "metadata": {},
   "outputs": [],
   "source": [
    "for i in range(training_data.shape[0]):\n",
    "    training_data.at[i, 'user_avg_views'] = user_avg_data[training_data[[\"user_id\"]].iloc[i].values[0]][0]\n",
    "    training_data.at[i, 'user_avg_comments'] = user_avg_data[training_data[[\"user_id\"]].iloc[i].values[0]][1]\n",
    "    \n",
    "    training_data.at[i, 'country_avg_views'] = country_avg_data[training_data[[\"country\"]].iloc[i].values[0]][0]\n",
    "    training_data.at[i, 'country_avg_comments'] = country_avg_data[training_data[[\"country\"]].iloc[i].values[0]][1]\n",
    "    \n",
    "    training_data.at[i, 'category_avg_views'] = category_avg_data[training_data[[\"category\"]].iloc[i].values[0]][0]\n",
    "    training_data.at[i, 'category_avg_comments'] = category_avg_data[training_data[[\"category\"]].iloc[i].values[0]][1]"
   ]
  },
  {
   "cell_type": "code",
   "execution_count": 81,
   "metadata": {},
   "outputs": [
    {
     "name": "stdout",
     "output_type": "stream",
     "text": [
      "<class 'pandas.core.frame.DataFrame'>\n",
      "RangeIndex: 5001 entries, 0 to 5000\n",
      "Data columns (total 40 columns):\n",
      " #   Column                 Non-Null Count  Dtype  \n",
      "---  ------                 --------------  -----  \n",
      " 0   post_id                5001 non-null   int64  \n",
      " 1   user_id                5001 non-null   int64  \n",
      " 2   country                5001 non-null   int64  \n",
      " 3   category               5001 non-null   object \n",
      " 4   #views                 5001 non-null   float64\n",
      " 5   #comments              5001 non-null   float64\n",
      " 6   #likes                 5001 non-null   int64  \n",
      " 7   norm_views             5001 non-null   float64\n",
      " 8   norm_comments          5001 non-null   float64\n",
      " 9   norm_likes             5001 non-null   float64\n",
      " 10  cat1                   5001 non-null   float64\n",
      " 11  cat2                   5001 non-null   float64\n",
      " 12  cat3                   5001 non-null   float64\n",
      " 13  cat4                   5001 non-null   float64\n",
      " 14  cat5                   5001 non-null   float64\n",
      " 15  cat6                   5001 non-null   float64\n",
      " 16  cat7                   5001 non-null   float64\n",
      " 17  cat8                   5001 non-null   float64\n",
      " 18  cat9                   5001 non-null   float64\n",
      " 19  count1                 5001 non-null   float64\n",
      " 20  count2                 5001 non-null   float64\n",
      " 21  count3                 5001 non-null   float64\n",
      " 22  count4                 5001 non-null   float64\n",
      " 23  count5                 5001 non-null   float64\n",
      " 24  count6                 5001 non-null   float64\n",
      " 25  count7                 5001 non-null   float64\n",
      " 26  count8                 5001 non-null   float64\n",
      " 27  count9                 5001 non-null   float64\n",
      " 28  count10                5001 non-null   float64\n",
      " 29  count11                5001 non-null   float64\n",
      " 30  count12                5001 non-null   float64\n",
      " 31  count13                5001 non-null   float64\n",
      " 32  count14                5001 non-null   float64\n",
      " 33  count15                5001 non-null   float64\n",
      " 34  user_avg_views         5001 non-null   float64\n",
      " 35  user_avg_comments      5001 non-null   float64\n",
      " 36  country_avg_views      5001 non-null   float64\n",
      " 37  country_avg_comments   5001 non-null   float64\n",
      " 38  category_avg_views     5001 non-null   float64\n",
      " 39  category_avg_comments  5001 non-null   float64\n",
      "dtypes: float64(35), int64(4), object(1)\n",
      "memory usage: 1.5+ MB\n"
     ]
    }
   ],
   "source": [
    "training_data.info()"
   ]
  },
  {
   "cell_type": "code",
   "execution_count": 82,
   "metadata": {},
   "outputs": [],
   "source": [
    "training_data.to_csv(\"data/processed_data.csv\")"
   ]
  }
 ],
 "metadata": {
  "kernelspec": {
   "display_name": "Python 3",
   "language": "python",
   "name": "python3"
  },
  "language_info": {
   "codemirror_mode": {
    "name": "ipython",
    "version": 3
   },
   "file_extension": ".py",
   "mimetype": "text/x-python",
   "name": "python",
   "nbconvert_exporter": "python",
   "pygments_lexer": "ipython3",
   "version": "3.8.2"
  }
 },
 "nbformat": 4,
 "nbformat_minor": 4
}
